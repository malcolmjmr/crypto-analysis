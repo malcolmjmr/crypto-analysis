{
 "cells": [
  {
   "cell_type": "markdown",
   "metadata": {},
   "source": [
    "**Abstract**\n",
    "\n",
    "This is an attempt at modeling a tokenized firm as it goes through the process of capital formation, production and the distribution of its information services. The firm is a platform or information network that coordinates and incentivizes a distributed contributor base to build and maintain goods and services where the end product is entirely information. My primary assertion is that tokenized firms can yield higher productivity and lower cost provision of information services; contributors and speculators can capture returns by selling into the demand of new users. To induce incentive compatability amongst each group of participants, I assume a synthesis of the store of value and utility thesies, and assume that tokens are created and distributed to contributors as remuneration, then purchased and held by users to access a bundle of services, and held by investors to realize returns (or losses) from the uncertainty of growth. \n",
    "\n",
    "**Contents**\n",
    "1. [Introduction](#Introduction)\n",
    "- [The firm as an exchange venue](#The-firm-as-an-exchange-venue)\n",
    "- [Market segments and the adoption cycle](#Market-segments-and-the-adoption-cycle)\n",
    "- [The firm as a content provider](#The-firm-as-a-content-provider)\n",
    "- [The firm as a government](#The-firm-as-a-government)\n",
    "- [Conclusion](#Conclusion)"
   ]
  },
  {
   "cell_type": "code",
   "execution_count": 210,
   "metadata": {},
   "outputs": [],
   "source": [
    "#from modeling import *\n",
    "sns.set(rc={\"figure.figsize\": (20, 10)})"
   ]
  },
  {
   "cell_type": "markdown",
   "metadata": {},
   "source": [
    "# Introduction"
   ]
  },
  {
   "cell_type": "markdown",
   "metadata": {},
   "source": [
    "**What is a firm?**\n",
    "\n",
    "A firm is an organization that owns assets \n",
    "\n",
    "Team production, to repeat, is produc- tion in which 1) several types of resources are used and 2) the product is not a sum of separable outputs of each cooperating resource. An additional factor creates a team organization problem-3) not all re- sources used in team production belong to one person.\n",
    "\n",
    "If the economic organization meters poorly, with rewards and produc- tivity only loosely correlated, then pro- ductivity will be smaller; but if the eco- nomic organization meters well produc- tivity will be greater.\n",
    "\n",
    "With team production it is difficult, solely by observing total output, to either define or determine each indivi- dual's contribution to this output of the cooperating inputs. The output is yielded by a team, by definition, and it is not a sum of separable outputs of each of its members.\n",
    "\n",
    "Team production will be used if it yields an output enough larger than the sum of separable production of Z to cover the costs of organizing and disciplining team members-the topics of this paper.\n",
    "\n",
    "The firm does not own all its inputs. It has no power of fiat, no authority, no disciplinary action any different in the slightest degree from ordinary market contracting be- tween any two people. I can \"punish\" you only by withholding future business or by seeking redress in the courts for any failure to honor our exchange agreement. \n",
    "\n",
    "It is in a team use of inputs and a centralized position of some party in the contractual arrangements of all other in- puts. It is the centralized contractual agent in a team productive process not some superior authoritarian directive or dis- ciplinary power. Exactly what is a team process and why does it induce the con- tractual form, called the firm? These prob- lems motivate the inquiry of this paper.\n",
    "\n",
    "**What is a tokenized firm?**\n",
    "\n",
    "The size of the firm as I will attempt to demonstrate is unbounded, as it dramatically reduces monitoring cost of agents through transparent reputation systems and compensating contributors with ownership in their work. \n",
    "\n",
    "**What are the assumed characteristics of a token?**\n",
    "\n",
    "In this analysis I make two important assumptions and consequent decisions that differ from other token valuation models. The first assumption is that a token is representative of work. Proof of work as a concept of verifying work done and distributing tokens based upon its desired completion is important to each information network attempting to foster productivity developmenet and operation. It makes incentives plain and removes any perceived unfairness in token allocaiton. In accordance with this assumption the firm in this analysis distributes the token to contributors in proportion to their work done (later we will have to show how compensation should be handled)\n",
    "\n",
    "The second assumption is that the token is also representative of *access* to the firm's services. In constrast to the commonly held notion that utility tokens should be exchanged for using services, here I assume that tokens are an asset that users want to *hold*, because it gives them access to the services they want to use. Instead of using the traditional SaaS model, which relies on recurring payments, users make a single payment in exchange for a membership token. That token remains as a tradable asset that can be held for use of the firm's bundle of services or exchanged if those services are no longer desired. The consumer then benefits by not paying for software services but instead holding equity in them.\n",
    "\n",
    "It is also assumed that the the firm has a single token for accessing the full set of bundled services the platform produces. Using one token keeps things simple for modeling but in practice it consolidates liquidity and reduces the costs associated with maintaining a functioning market. Just as importantly a single token allows for implicity diversification for the consumer and investor in the bundle of present and future applications that firm may create.\n",
    "\n",
    "**How do we determine the value of a token?**\n",
    "\n",
    "Since tokens are programable instruments with limited constraints, they can have what ever value we want them to have. They can be designed to appreciate, they can be designed to depreciate, they can even be stable. The advantage of a stable token price is that consumers are accustomed to stability. You don't have to buy X and do the added calculation of whether the price will be higher or lower the following day. Stability also makes simple the tax implication of holding an asset. While selling the token might technical be a taxable event there is no assocated liability since there are no gains. \n",
    "\n",
    "Other hand\n",
    "\n",
    "There is a tradeoff between \n",
    "\n",
    "**How is the article organized?**\n",
    "\n",
    "\n",
    "The purpose of this exploration is to illustrate the evolution of a tokenized firm that begins it's journey through the provision of financial services, drives down costs in the exchange industry, then reinvest new money from the expansion further into mainstream markets to create new products and services in the aforementioned categories, consequently making the platform more desirable and more valuable.\n",
    "\n",
    "\n"
   ]
  },
  {
   "cell_type": "markdown",
   "metadata": {},
   "source": [
    "populations \n",
    "- consumers\n",
    "- investors\n",
    "- developers\n",
    "- managers\n",
    "- members"
   ]
  },
  {
   "cell_type": "markdown",
   "metadata": {},
   "source": [
    "# The firm as an exchange venue\n",
    "\n",
    "## Demand curve\n",
    "\n",
    "## Cost curve\n",
    "\n",
    "What is required to make this exchange operational? We need three main components: an interface for clients to access and communicate orders from their account; an order management system; and a transactional database for recording orders and trades (canceled orders could potentially be perged).\n",
    "\n",
    "This information network could use a blockchain protocol to process and store exchange transactions. The orderbook and trade history would be public, with the advantage that transaction processing could be outsourced to the most efficient data centers (few agency issues since they can easily be monitored). Outsourcing of commodity services should entail redundant capacity to ensure against failure of any one provider. To satisfy this requirement we will use 7 providers with each operating from a different continent (we want to be geographically diverse to improve fault tolerance from large scale natural and manmade disasters). An estimate from Amazon of owning a data center with 7 instances of 32 core 256 GB memory with 100 TB of storage is about \\\\$1 million for 3 years. This is the upper bound of transaction processing costs from ownerhship instead of renting capacity as needed. Lets assume this to be a 20 year endevour with 1 year of development. The operating costs over that period would be \\\\$6 million (this does not take into account diminishing costs from moore's law). \n",
    "\n",
    "We can then assume \\\\$4m for the development which, which would round us off to \\\\$10 million. The main development cost stem from creating an interface, a protocol for storing transactions, a protocol for managing and executings orders, and paying product managers. With equal allocation to each area of devolpment. We assume that this \\\\$500k is suitable for a 2 year runway of development and refinement (most of these components are open source).  \n",
    "\n",
    "\n",
    "Set up costs [$4m]\n",
    "\n",
    "- interface [\\\\$1m]\n",
    "- database protocol [\\\\$1m]\n",
    "- order management protocol [\\\\$1m]\n",
    "- product management [\\\\$1m]\n",
    "\n",
    "Operating costs [\\\\$6m]\n",
    "\n",
    "- data center [7 * \\\\$850k]\n",
    "\n",
    "Demand constraints\n",
    "- the cost of alternative services [$6k]\n",
    "- "
   ]
  },
  {
   "cell_type": "code",
   "execution_count": 24,
   "metadata": {},
   "outputs": [],
   "source": [
    "import numpy as np\n",
    "import pandas as pd\n",
    "from datetime import datetime as dt, timedelta as td\n",
    "%matplotlib inline\n",
    "import matplotlib.pyplot as plt\n",
    "import seaborn as sns\n",
    "from exchange import Exchange, change_period_freq"
   ]
  },
  {
   "cell_type": "code",
   "execution_count": 3,
   "metadata": {},
   "outputs": [
    {
     "data": {
      "text/html": [
       "<div>\n",
       "<style scoped>\n",
       "    .dataframe tbody tr th:only-of-type {\n",
       "        vertical-align: middle;\n",
       "    }\n",
       "\n",
       "    .dataframe tbody tr th {\n",
       "        vertical-align: top;\n",
       "    }\n",
       "\n",
       "    .dataframe thead th {\n",
       "        text-align: right;\n",
       "    }\n",
       "</style>\n",
       "<table border=\"1\" class=\"dataframe\">\n",
       "  <thead>\n",
       "    <tr style=\"text-align: right;\">\n",
       "      <th></th>\n",
       "      <th>percentage</th>\n",
       "      <th>aquisition_cost</th>\n",
       "    </tr>\n",
       "  </thead>\n",
       "  <tbody>\n",
       "    <tr>\n",
       "      <th>innovators</th>\n",
       "      <td>0.025</td>\n",
       "      <td>0.00</td>\n",
       "    </tr>\n",
       "    <tr>\n",
       "      <th>early_adopters</th>\n",
       "      <td>0.160</td>\n",
       "      <td>0.05</td>\n",
       "    </tr>\n",
       "    <tr>\n",
       "      <th>early_majority</th>\n",
       "      <td>0.500</td>\n",
       "      <td>0.10</td>\n",
       "    </tr>\n",
       "    <tr>\n",
       "      <th>late_majority</th>\n",
       "      <td>0.840</td>\n",
       "      <td>0.20</td>\n",
       "    </tr>\n",
       "    <tr>\n",
       "      <th>laggards</th>\n",
       "      <td>1.000</td>\n",
       "      <td>0.50</td>\n",
       "    </tr>\n",
       "  </tbody>\n",
       "</table>\n",
       "</div>"
      ],
      "text/plain": [
       "                percentage  aquisition_cost\n",
       "innovators           0.025             0.00\n",
       "early_adopters       0.160             0.05\n",
       "early_majority       0.500             0.10\n",
       "late_majority        0.840             0.20\n",
       "laggards             1.000             0.50"
      ]
     },
     "execution_count": 3,
     "metadata": {},
     "output_type": "execute_result"
    }
   ],
   "source": [
    "market_segments = pd.DataFrame(index=[\n",
    "    'innovators',\n",
    "    'early_adopters',\n",
    "    'early_majority',\n",
    "    'late_majority',\n",
    "    'laggards'\n",
    "])\n",
    "market_segments['percentage'] = [.025, .16, .5, .84, 1]\n",
    "market_segments['aquisition_cost'] = [.0, 0.05, 0.1, 0.2, 0.5]\n",
    "market_segments"
   ]
  },
  {
   "cell_type": "code",
   "execution_count": 7,
   "metadata": {},
   "outputs": [],
   "source": [
    "trader_count = int(1e3)\n",
    "traders = pd.DataFrame(index=range(trader_count))\n",
    "# trade frequency per year \n",
    "avg_trade_freq = 1000\n",
    "traders['turnover'] = (1/np.random.power(9, trader_count) * avg_trade_freq) - avg_trade_freq\n",
    "traders['turnover'] = traders.turnover.astype(int)\n",
    "# trade volume \n",
    "avg_trade_vol = 1e4\n",
    "traders['volume_average'] = (1/np.random.power(7, trader_count) * avg_trade_vol) - avg_trade_vol\n",
    "traders['volume_total'] = traders.volume_average * traders.turnover\n",
    "# fees\n",
    "fee_schedule = np.arange(0, .11, .01)[::-1]\n",
    "traders = traders.sort_values('volume_total')\n",
    "traders['fee_percentage'] = (traders.reset_index().index // (len(traders)/len(fee_schedule))).map({i: fee for i, fee in enumerate(fee_schedule)})\n",
    "traders['fee_total'] = traders.volume_total * traders.fee_percentage\n",
    "# segments\n",
    "traders['segment_percentile'] = traders.sort_values('volume_average').index / traders.shape[0]\n",
    "def get_segment(percentile):\n",
    "    \"\"\"\n",
    "    segments= market_segments[market_segments.percentage>=percentile]\n",
    "    if not segments.empty:\n",
    "        return segments.index[0]\n",
    "    else:\n",
    "        return None\n",
    "    \"\"\"\n",
    "    if percentile >= .84:\n",
    "        return 'laggard'\n",
    "    elif percentile >= .5:\n",
    "        return 'late_majority'\n",
    "    elif percentile >= .16:\n",
    "        return 'early_majority'\n",
    "    elif percentile >= .025:\n",
    "        return 'early_adopters'\n",
    "    else:\n",
    "        return 'innovators'\n",
    "    \n",
    "traders['segment'] = traders.segment_percentile.apply(get_segment)\n"
   ]
  },
  {
   "cell_type": "code",
   "execution_count": 8,
   "metadata": {},
   "outputs": [
    {
     "data": {
      "text/html": [
       "<div>\n",
       "<style scoped>\n",
       "    .dataframe tbody tr th:only-of-type {\n",
       "        vertical-align: middle;\n",
       "    }\n",
       "\n",
       "    .dataframe tbody tr th {\n",
       "        vertical-align: top;\n",
       "    }\n",
       "\n",
       "    .dataframe thead th {\n",
       "        text-align: right;\n",
       "    }\n",
       "</style>\n",
       "<table border=\"1\" class=\"dataframe\">\n",
       "  <thead>\n",
       "    <tr style=\"text-align: right;\">\n",
       "      <th></th>\n",
       "      <th>turnover</th>\n",
       "      <th>volume_average</th>\n",
       "      <th>volume_total</th>\n",
       "      <th>fee_percentage</th>\n",
       "      <th>fee_total</th>\n",
       "      <th>segment_percentile</th>\n",
       "      <th>segment</th>\n",
       "    </tr>\n",
       "  </thead>\n",
       "  <tbody>\n",
       "    <tr>\n",
       "      <th>394</th>\n",
       "      <td>0</td>\n",
       "      <td>309.362219</td>\n",
       "      <td>0.0</td>\n",
       "      <td>0.1</td>\n",
       "      <td>0.0</td>\n",
       "      <td>0.991</td>\n",
       "      <td>laggard</td>\n",
       "    </tr>\n",
       "    <tr>\n",
       "      <th>792</th>\n",
       "      <td>0</td>\n",
       "      <td>526.694235</td>\n",
       "      <td>0.0</td>\n",
       "      <td>0.1</td>\n",
       "      <td>0.0</td>\n",
       "      <td>0.907</td>\n",
       "      <td>laggard</td>\n",
       "    </tr>\n",
       "    <tr>\n",
       "      <th>284</th>\n",
       "      <td>0</td>\n",
       "      <td>121.401573</td>\n",
       "      <td>0.0</td>\n",
       "      <td>0.1</td>\n",
       "      <td>0.0</td>\n",
       "      <td>0.108</td>\n",
       "      <td>early_adopters</td>\n",
       "    </tr>\n",
       "    <tr>\n",
       "      <th>265</th>\n",
       "      <td>0</td>\n",
       "      <td>150.092276</td>\n",
       "      <td>0.0</td>\n",
       "      <td>0.1</td>\n",
       "      <td>0.0</td>\n",
       "      <td>0.619</td>\n",
       "      <td>late_majority</td>\n",
       "    </tr>\n",
       "    <tr>\n",
       "      <th>430</th>\n",
       "      <td>0</td>\n",
       "      <td>2071.274789</td>\n",
       "      <td>0.0</td>\n",
       "      <td>0.1</td>\n",
       "      <td>0.0</td>\n",
       "      <td>0.935</td>\n",
       "      <td>laggard</td>\n",
       "    </tr>\n",
       "  </tbody>\n",
       "</table>\n",
       "</div>"
      ],
      "text/plain": [
       "     turnover  volume_average  volume_total  fee_percentage  fee_total  \\\n",
       "394         0      309.362219           0.0             0.1        0.0   \n",
       "792         0      526.694235           0.0             0.1        0.0   \n",
       "284         0      121.401573           0.0             0.1        0.0   \n",
       "265         0      150.092276           0.0             0.1        0.0   \n",
       "430         0     2071.274789           0.0             0.1        0.0   \n",
       "\n",
       "     segment_percentile         segment  \n",
       "394               0.991         laggard  \n",
       "792               0.907         laggard  \n",
       "284               0.108  early_adopters  \n",
       "265               0.619   late_majority  \n",
       "430               0.935         laggard  "
      ]
     },
     "execution_count": 8,
     "metadata": {},
     "output_type": "execute_result"
    }
   ],
   "source": [
    "traders.head().sample(frac=1)"
   ]
  },
  {
   "cell_type": "code",
   "execution_count": 9,
   "metadata": {},
   "outputs": [
    {
     "data": {
      "text/html": [
       "<div>\n",
       "<style scoped>\n",
       "    .dataframe tbody tr th:only-of-type {\n",
       "        vertical-align: middle;\n",
       "    }\n",
       "\n",
       "    .dataframe tbody tr th {\n",
       "        vertical-align: top;\n",
       "    }\n",
       "\n",
       "    .dataframe thead th {\n",
       "        text-align: right;\n",
       "    }\n",
       "</style>\n",
       "<table border=\"1\" class=\"dataframe\">\n",
       "  <thead>\n",
       "    <tr style=\"text-align: right;\">\n",
       "      <th></th>\n",
       "      <th>turnover</th>\n",
       "      <th>volume_average</th>\n",
       "      <th>volume_total</th>\n",
       "      <th>fee_percentage</th>\n",
       "      <th>fee_total</th>\n",
       "      <th>segment_percentile</th>\n",
       "    </tr>\n",
       "  </thead>\n",
       "  <tbody>\n",
       "    <tr>\n",
       "      <th>count</th>\n",
       "      <td>1000.000000</td>\n",
       "      <td>1000.000000</td>\n",
       "      <td>1.000000e+03</td>\n",
       "      <td>1000.000000</td>\n",
       "      <td>1000.000000</td>\n",
       "      <td>1000.000000</td>\n",
       "    </tr>\n",
       "    <tr>\n",
       "      <th>mean</th>\n",
       "      <td>124.225000</td>\n",
       "      <td>1670.926631</td>\n",
       "      <td>2.029814e+05</td>\n",
       "      <td>0.050050</td>\n",
       "      <td>2508.663263</td>\n",
       "      <td>0.499500</td>\n",
       "    </tr>\n",
       "    <tr>\n",
       "      <th>std</th>\n",
       "      <td>138.505697</td>\n",
       "      <td>2166.569985</td>\n",
       "      <td>4.033386e+05</td>\n",
       "      <td>0.031615</td>\n",
       "      <td>1763.323080</td>\n",
       "      <td>0.288819</td>\n",
       "    </tr>\n",
       "    <tr>\n",
       "      <th>min</th>\n",
       "      <td>0.000000</td>\n",
       "      <td>0.156045</td>\n",
       "      <td>0.000000e+00</td>\n",
       "      <td>0.000000</td>\n",
       "      <td>0.000000</td>\n",
       "      <td>0.000000</td>\n",
       "    </tr>\n",
       "    <tr>\n",
       "      <th>25%</th>\n",
       "      <td>31.000000</td>\n",
       "      <td>411.143922</td>\n",
       "      <td>1.869406e+04</td>\n",
       "      <td>0.020000</td>\n",
       "      <td>689.480149</td>\n",
       "      <td>0.249750</td>\n",
       "    </tr>\n",
       "    <tr>\n",
       "      <th>50%</th>\n",
       "      <td>78.000000</td>\n",
       "      <td>934.562602</td>\n",
       "      <td>6.798684e+04</td>\n",
       "      <td>0.050000</td>\n",
       "      <td>2756.119422</td>\n",
       "      <td>0.499500</td>\n",
       "    </tr>\n",
       "    <tr>\n",
       "      <th>75%</th>\n",
       "      <td>163.250000</td>\n",
       "      <td>2119.284879</td>\n",
       "      <td>2.077592e+05</td>\n",
       "      <td>0.080000</td>\n",
       "      <td>3999.565863</td>\n",
       "      <td>0.749250</td>\n",
       "    </tr>\n",
       "    <tr>\n",
       "      <th>max</th>\n",
       "      <td>1138.000000</td>\n",
       "      <td>32193.221097</td>\n",
       "      <td>6.072828e+06</td>\n",
       "      <td>0.100000</td>\n",
       "      <td>5736.321981</td>\n",
       "      <td>0.999000</td>\n",
       "    </tr>\n",
       "  </tbody>\n",
       "</table>\n",
       "</div>"
      ],
      "text/plain": [
       "          turnover  volume_average  volume_total  fee_percentage    fee_total  \\\n",
       "count  1000.000000     1000.000000  1.000000e+03     1000.000000  1000.000000   \n",
       "mean    124.225000     1670.926631  2.029814e+05        0.050050  2508.663263   \n",
       "std     138.505697     2166.569985  4.033386e+05        0.031615  1763.323080   \n",
       "min       0.000000        0.156045  0.000000e+00        0.000000     0.000000   \n",
       "25%      31.000000      411.143922  1.869406e+04        0.020000   689.480149   \n",
       "50%      78.000000      934.562602  6.798684e+04        0.050000  2756.119422   \n",
       "75%     163.250000     2119.284879  2.077592e+05        0.080000  3999.565863   \n",
       "max    1138.000000    32193.221097  6.072828e+06        0.100000  5736.321981   \n",
       "\n",
       "       segment_percentile  \n",
       "count         1000.000000  \n",
       "mean             0.499500  \n",
       "std              0.288819  \n",
       "min              0.000000  \n",
       "25%              0.249750  \n",
       "50%              0.499500  \n",
       "75%              0.749250  \n",
       "max              0.999000  "
      ]
     },
     "execution_count": 9,
     "metadata": {},
     "output_type": "execute_result"
    }
   ],
   "source": [
    "traders.describe()"
   ]
  },
  {
   "cell_type": "code",
   "execution_count": 10,
   "metadata": {},
   "outputs": [
    {
     "data": {
      "text/html": [
       "<div>\n",
       "<style scoped>\n",
       "    .dataframe tbody tr th:only-of-type {\n",
       "        vertical-align: middle;\n",
       "    }\n",
       "\n",
       "    .dataframe tbody tr th {\n",
       "        vertical-align: top;\n",
       "    }\n",
       "\n",
       "    .dataframe thead th {\n",
       "        text-align: right;\n",
       "    }\n",
       "</style>\n",
       "<table border=\"1\" class=\"dataframe\">\n",
       "  <thead>\n",
       "    <tr style=\"text-align: right;\">\n",
       "      <th></th>\n",
       "      <th>turnover</th>\n",
       "      <th>volume_average</th>\n",
       "      <th>volume_total</th>\n",
       "      <th>fee_percentage</th>\n",
       "      <th>fee_total</th>\n",
       "      <th>segment_percentile</th>\n",
       "    </tr>\n",
       "  </thead>\n",
       "  <tbody>\n",
       "    <tr>\n",
       "      <th>count</th>\n",
       "      <td>25.000000</td>\n",
       "      <td>25.000000</td>\n",
       "      <td>2.500000e+01</td>\n",
       "      <td>25.000000</td>\n",
       "      <td>25.000000</td>\n",
       "      <td>25.00000</td>\n",
       "    </tr>\n",
       "    <tr>\n",
       "      <th>mean</th>\n",
       "      <td>160.520000</td>\n",
       "      <td>1672.234227</td>\n",
       "      <td>2.420054e+05</td>\n",
       "      <td>0.045200</td>\n",
       "      <td>2235.636039</td>\n",
       "      <td>0.01200</td>\n",
       "    </tr>\n",
       "    <tr>\n",
       "      <th>std</th>\n",
       "      <td>170.990282</td>\n",
       "      <td>2038.367559</td>\n",
       "      <td>3.353518e+05</td>\n",
       "      <td>0.032929</td>\n",
       "      <td>1906.115071</td>\n",
       "      <td>0.00736</td>\n",
       "    </tr>\n",
       "    <tr>\n",
       "      <th>min</th>\n",
       "      <td>3.000000</td>\n",
       "      <td>63.359246</td>\n",
       "      <td>1.013748e+03</td>\n",
       "      <td>0.000000</td>\n",
       "      <td>0.000000</td>\n",
       "      <td>0.00000</td>\n",
       "    </tr>\n",
       "    <tr>\n",
       "      <th>25%</th>\n",
       "      <td>41.000000</td>\n",
       "      <td>422.278304</td>\n",
       "      <td>2.491442e+04</td>\n",
       "      <td>0.020000</td>\n",
       "      <td>236.784633</td>\n",
       "      <td>0.00600</td>\n",
       "    </tr>\n",
       "    <tr>\n",
       "      <th>50%</th>\n",
       "      <td>100.000000</td>\n",
       "      <td>890.572563</td>\n",
       "      <td>8.901984e+04</td>\n",
       "      <td>0.040000</td>\n",
       "      <td>1745.387412</td>\n",
       "      <td>0.01200</td>\n",
       "    </tr>\n",
       "    <tr>\n",
       "      <th>75%</th>\n",
       "      <td>245.000000</td>\n",
       "      <td>2038.699815</td>\n",
       "      <td>2.796095e+05</td>\n",
       "      <td>0.070000</td>\n",
       "      <td>3633.536058</td>\n",
       "      <td>0.01800</td>\n",
       "    </tr>\n",
       "    <tr>\n",
       "      <th>max</th>\n",
       "      <td>595.000000</td>\n",
       "      <td>9641.708189</td>\n",
       "      <td>1.129440e+06</td>\n",
       "      <td>0.100000</td>\n",
       "      <td>5592.190750</td>\n",
       "      <td>0.02400</td>\n",
       "    </tr>\n",
       "  </tbody>\n",
       "</table>\n",
       "</div>"
      ],
      "text/plain": [
       "         turnover  volume_average  volume_total  fee_percentage    fee_total  \\\n",
       "count   25.000000       25.000000  2.500000e+01       25.000000    25.000000   \n",
       "mean   160.520000     1672.234227  2.420054e+05        0.045200  2235.636039   \n",
       "std    170.990282     2038.367559  3.353518e+05        0.032929  1906.115071   \n",
       "min      3.000000       63.359246  1.013748e+03        0.000000     0.000000   \n",
       "25%     41.000000      422.278304  2.491442e+04        0.020000   236.784633   \n",
       "50%    100.000000      890.572563  8.901984e+04        0.040000  1745.387412   \n",
       "75%    245.000000     2038.699815  2.796095e+05        0.070000  3633.536058   \n",
       "max    595.000000     9641.708189  1.129440e+06        0.100000  5592.190750   \n",
       "\n",
       "       segment_percentile  \n",
       "count            25.00000  \n",
       "mean              0.01200  \n",
       "std               0.00736  \n",
       "min               0.00000  \n",
       "25%               0.00600  \n",
       "50%               0.01200  \n",
       "75%               0.01800  \n",
       "max               0.02400  "
      ]
     },
     "execution_count": 10,
     "metadata": {},
     "output_type": "execute_result"
    }
   ],
   "source": [
    "traders[traders.segment=='innovators'].describe()"
   ]
  },
  {
   "cell_type": "code",
   "execution_count": 11,
   "metadata": {},
   "outputs": [
    {
     "data": {
      "text/html": [
       "<div>\n",
       "<style scoped>\n",
       "    .dataframe tbody tr th:only-of-type {\n",
       "        vertical-align: middle;\n",
       "    }\n",
       "\n",
       "    .dataframe tbody tr th {\n",
       "        vertical-align: top;\n",
       "    }\n",
       "\n",
       "    .dataframe thead th {\n",
       "        text-align: right;\n",
       "    }\n",
       "</style>\n",
       "<table border=\"1\" class=\"dataframe\">\n",
       "  <thead>\n",
       "    <tr style=\"text-align: right;\">\n",
       "      <th></th>\n",
       "      <th>turnover</th>\n",
       "      <th>volume_average</th>\n",
       "      <th>volume_total</th>\n",
       "      <th>fee_percentage</th>\n",
       "      <th>fee_total</th>\n",
       "      <th>segment_percentile</th>\n",
       "    </tr>\n",
       "  </thead>\n",
       "  <tbody>\n",
       "    <tr>\n",
       "      <th>turnover</th>\n",
       "      <td>1.000000</td>\n",
       "      <td>-0.015309</td>\n",
       "      <td>0.510027</td>\n",
       "      <td>-0.561065</td>\n",
       "      <td>0.121039</td>\n",
       "      <td>-0.020258</td>\n",
       "    </tr>\n",
       "    <tr>\n",
       "      <th>volume_average</th>\n",
       "      <td>-0.015309</td>\n",
       "      <td>1.000000</td>\n",
       "      <td>0.596649</td>\n",
       "      <td>-0.524866</td>\n",
       "      <td>0.029491</td>\n",
       "      <td>-0.058218</td>\n",
       "    </tr>\n",
       "    <tr>\n",
       "      <th>volume_total</th>\n",
       "      <td>0.510027</td>\n",
       "      <td>0.596649</td>\n",
       "      <td>1.000000</td>\n",
       "      <td>-0.600574</td>\n",
       "      <td>-0.152446</td>\n",
       "      <td>-0.023199</td>\n",
       "    </tr>\n",
       "    <tr>\n",
       "      <th>fee_percentage</th>\n",
       "      <td>-0.561065</td>\n",
       "      <td>-0.524866</td>\n",
       "      <td>-0.600574</td>\n",
       "      <td>1.000000</td>\n",
       "      <td>-0.493287</td>\n",
       "      <td>0.024956</td>\n",
       "    </tr>\n",
       "    <tr>\n",
       "      <th>fee_total</th>\n",
       "      <td>0.121039</td>\n",
       "      <td>0.029491</td>\n",
       "      <td>-0.152446</td>\n",
       "      <td>-0.493287</td>\n",
       "      <td>1.000000</td>\n",
       "      <td>0.000053</td>\n",
       "    </tr>\n",
       "    <tr>\n",
       "      <th>segment_percentile</th>\n",
       "      <td>-0.020258</td>\n",
       "      <td>-0.058218</td>\n",
       "      <td>-0.023199</td>\n",
       "      <td>0.024956</td>\n",
       "      <td>0.000053</td>\n",
       "      <td>1.000000</td>\n",
       "    </tr>\n",
       "  </tbody>\n",
       "</table>\n",
       "</div>"
      ],
      "text/plain": [
       "                    turnover  volume_average  volume_total  fee_percentage  \\\n",
       "turnover            1.000000       -0.015309      0.510027       -0.561065   \n",
       "volume_average     -0.015309        1.000000      0.596649       -0.524866   \n",
       "volume_total        0.510027        0.596649      1.000000       -0.600574   \n",
       "fee_percentage     -0.561065       -0.524866     -0.600574        1.000000   \n",
       "fee_total           0.121039        0.029491     -0.152446       -0.493287   \n",
       "segment_percentile -0.020258       -0.058218     -0.023199        0.024956   \n",
       "\n",
       "                    fee_total  segment_percentile  \n",
       "turnover             0.121039           -0.020258  \n",
       "volume_average       0.029491           -0.058218  \n",
       "volume_total        -0.152446           -0.023199  \n",
       "fee_percentage      -0.493287            0.024956  \n",
       "fee_total            1.000000            0.000053  \n",
       "segment_percentile   0.000053            1.000000  "
      ]
     },
     "execution_count": 11,
     "metadata": {},
     "output_type": "execute_result"
    }
   ],
   "source": [
    "traders.corr()"
   ]
  },
  {
   "cell_type": "code",
   "execution_count": 99,
   "metadata": {},
   "outputs": [],
   "source": [
    "funding_target = 1e3\n",
    "\n",
    "demand = pd.DataFrame()\n",
    "demand['price'] = np.arange(0, traders.fee_total.max(), traders.fee_total.max()/100)\n",
    "\n",
    "def get_total_demand(price):\n",
    "    investors = traders[traders.fee_total>price]\n",
    "    investor_count = investors.count()[0]\n",
    "    return investor_count, investor_count*price\n",
    "\n",
    "demand['total_participation'], demand['total_value']  = zip(*demand.price.apply(get_total_demand))\n",
    "\n",
    "for segment, features in market_segments.iterrows():\n",
    "    demand[segment] = demand.total_value * features.percentage\n",
    "\n",
    "optimum = demand[demand.innovators==demand.innovators.max()].iloc[0]\n",
    "\n",
    "constrained_demand = demand[(demand.innovators>=funding_target)&(demand.price<=optimum.price)]\n",
    "\n",
    "member_price = optimum.price.round(-2)"
   ]
  },
  {
   "cell_type": "code",
   "execution_count": 100,
   "metadata": {},
   "outputs": [
    {
     "data": {
      "text/plain": [
       "price                  2.810798e+03\n",
       "total_participation    4.900000e+02\n",
       "total_value            1.377291e+06\n",
       "innovators             3.443227e+04\n",
       "early_adopters         2.203665e+05\n",
       "early_majority         6.886455e+05\n",
       "late_majority          1.156924e+06\n",
       "laggards               1.377291e+06\n",
       "Name: 49, dtype: float64"
      ]
     },
     "execution_count": 100,
     "metadata": {},
     "output_type": "execute_result"
    }
   ],
   "source": [
    "optimum"
   ]
  },
  {
   "cell_type": "code",
   "execution_count": 14,
   "metadata": {},
   "outputs": [],
   "source": [
    "start = dt(2019,1,1)\n",
    "end = dt(2029,1,1)\n",
    "development_time = td(days=365)\n",
    "target_growth_rate = .07\n",
    "initial_user_target = market_segments.loc['innovators'].percentage *(constrained_demand.total_participation.values[-1])\n",
    "development_time = td(days=365*2)"
   ]
  },
  {
   "cell_type": "code",
   "execution_count": 15,
   "metadata": {},
   "outputs": [
    {
     "data": {
      "text/plain": [
       "12.25"
      ]
     },
     "execution_count": 15,
     "metadata": {},
     "output_type": "execute_result"
    }
   ],
   "source": [
    "initial_user_target"
   ]
  },
  {
   "cell_type": "code",
   "execution_count": 16,
   "metadata": {
    "cell_style": "center"
   },
   "outputs": [],
   "source": [
    "def get_user_reach(period):    \n",
    "    \n",
    "    # We assume 5 releases during the development cycle and no user \n",
    "    # growth until development milestones are reached. \n",
    "    in_development = (start+development_time)>period.week\n",
    "    \"\"\"\n",
    "    if in_development:\n",
    "        dev_release_timeframe = [0.5, 0.7, .8, .9, 1]\n",
    "        for market_segment, pct_of_dev_time in list(zip(market_segments.index,dev_release_timeframe))[::-1]:\n",
    "            release_time = start + (development_time * pct_of_dev_time)\n",
    "            if release_time < period.week:\n",
    "                return market_segments.loc['innovators'].percentage * initial_user_target\n",
    "        \n",
    "    else:\n",
    "    \"\"\"\n",
    "    current_num_periods = round((period.week - (start+development_time))/td(weeks=1))\n",
    "    #print(period.week, current_num_periods)\n",
    "    return initial_user_target*((1+target_growth_rate)**current_num_periods) \n"
   ]
  },
  {
   "cell_type": "code",
   "execution_count": 17,
   "metadata": {},
   "outputs": [],
   "source": [
    "contributors = pd.DataFrame()\n",
    "contributors['costs'] = np.random.normal(4e4, 2e4, 100) / 52\n",
    "contributors['work_percentage'] = np.random.power(.2, 100)\n",
    "contributors.work_percentage = contributors.work_percentage / contributors.work_percentage.sum()"
   ]
  },
  {
   "cell_type": "code",
   "execution_count": 18,
   "metadata": {},
   "outputs": [
    {
     "data": {
      "text/plain": [
       "0.9999999999999999"
      ]
     },
     "execution_count": 18,
     "metadata": {},
     "output_type": "execute_result"
    }
   ],
   "source": [
    "contributors.work_percentage.sum()"
   ]
  },
  {
   "cell_type": "code",
   "execution_count": 19,
   "metadata": {},
   "outputs": [],
   "source": [
    "def get_supply(period):\n",
    "\n",
    "    in_development = (start+development_time)>period.week\n",
    "    if in_development:\n",
    "        dev_periods = development_time.days / 7\n",
    "        new_tokens = initial_user_target / dev_periods \n",
    "        #new_token_value = new_tokens * member_price\n",
    "        return new_tokens\n",
    "    else:\n",
    "        return 0"
   ]
  },
  {
   "cell_type": "code",
   "execution_count": 20,
   "metadata": {},
   "outputs": [
    {
     "data": {
      "text/plain": [
       "2800.0"
      ]
     },
     "execution_count": 20,
     "metadata": {},
     "output_type": "execute_result"
    }
   ],
   "source": [
    "member_price"
   ]
  },
  {
   "cell_type": "code",
   "execution_count": 108,
   "metadata": {
    "scrolled": true
   },
   "outputs": [],
   "source": [
    "demand_curves = pd.DataFrame()\n",
    "demand_curves['total'] = traders.fee_total.sort_values().reset_index(drop=True).sort_index(ascending=False).reset_index(drop=True)\n",
    "for segment in market_segments.index:\n",
    "    demand_curves[segment] = traders[traders.segment==segment].fee_total.sort_values().reset_index(drop=True).sort_index(ascending=False).reset_index(drop=True)\n",
    "    \n",
    "    \n",
    "    "
   ]
  },
  {
   "cell_type": "code",
   "execution_count": 109,
   "metadata": {},
   "outputs": [
    {
     "data": {
      "text/plain": [
       "<matplotlib.axes._subplots.AxesSubplot at 0x11533bc50>"
      ]
     },
     "execution_count": 109,
     "metadata": {},
     "output_type": "execute_result"
    },
    {
     "data": {
      "image/png": "[encoded data removed]",
      "text/plain": [
       "<Figure size 432x288 with 1 Axes>"
      ]
     },
     "metadata": {},
     "output_type": "display_data"
    }
   ],
   "source": [
    "demand_curves.plot()"
   ]
  },
  {
   "cell_type": "code",
   "execution_count": 617,
   "metadata": {
    "scrolled": false
   },
   "outputs": [],
   "source": [
    "member_price = optimum.price\n",
    "market = pd.DataFrame()\n",
    "market['week'] = pd.DatetimeIndex(start=start, end=end, freq='1W')\n",
    "market['notoriety'] = market.apply(get_user_reach, axis=1)\n",
    "market['token_supply_increase'] = market.apply(get_supply, axis=1)\n",
    "market['tokens_sold'] = market.token_supply_increase * .8\n",
    "market['token_inventory'] = market.token_supply_increase - market.tokens_sold\n",
    "\n",
    "\n",
    "#switching_discount = 1\n",
    "sampled = set()\n",
    "def get_demand(period):\n",
    "    global member_price\n",
    "    try: \n",
    "        prospects_count = max([int(period.notoriety - len(sampled)),0])\n",
    "    except:\n",
    "        prospects_count = 0 \n",
    "    segment_name = get_segment(len(sampled) / trader_count)\n",
    "    segment = traders[traders.segment==segment_name]\n",
    "    prospects = traders.sample(min([prospects_count, segment.shape[0] - len(sampled)]))\n",
    "    buyers = prospects[(prospects.fee_total>=member_price)&(~prospects.index.isin(sampled))&(prospects.segment==segment_name)]\n",
    "    sampled.update(buyers.index)\n",
    "    if buyers.shape[0]==0:\n",
    "        member_price = prospects.fee_total.mean()\n",
    "    return prospects.shape[0], buyers.shape[0], member_price\n",
    "market['prospects'], market['demand'], market['price'] = zip(*market.apply(get_demand, axis=1))\n",
    "#market['purchased']\n"
   ]
  },
  {
   "cell_type": "code",
   "execution_count": 54,
   "metadata": {},
   "outputs": [
    {
     "data": {
      "text/plain": [
       "array(['laggard', 'late_majority', 'early_adopters', 'early_majority',\n",
       "       'innovators'], dtype=object)"
      ]
     },
     "execution_count": 54,
     "metadata": {},
     "output_type": "execute_result"
    }
   ],
   "source": [
    "traders.segment.unique()"
   ]
  },
  {
   "cell_type": "code",
   "execution_count": 129,
   "metadata": {},
   "outputs": [
    {
     "data": {
      "text/html": [
       "<div>\n",
       "<style scoped>\n",
       "    .dataframe tbody tr th:only-of-type {\n",
       "        vertical-align: middle;\n",
       "    }\n",
       "\n",
       "    .dataframe tbody tr th {\n",
       "        vertical-align: top;\n",
       "    }\n",
       "\n",
       "    .dataframe thead th {\n",
       "        text-align: right;\n",
       "    }\n",
       "</style>\n",
       "<table border=\"1\" class=\"dataframe\">\n",
       "  <thead>\n",
       "    <tr style=\"text-align: right;\">\n",
       "      <th></th>\n",
       "      <th>price</th>\n",
       "      <th>total_participation</th>\n",
       "      <th>total_value</th>\n",
       "      <th>innovators</th>\n",
       "      <th>early_adopters</th>\n",
       "      <th>early_majority</th>\n",
       "      <th>late_majority</th>\n",
       "      <th>laggards</th>\n",
       "    </tr>\n",
       "  </thead>\n",
       "  <tbody>\n",
       "    <tr>\n",
       "      <th>1</th>\n",
       "      <td>57.363220</td>\n",
       "      <td>889</td>\n",
       "      <td>5.099590e+04</td>\n",
       "      <td>1274.897560</td>\n",
       "      <td>8159.344386</td>\n",
       "      <td>25497.951205</td>\n",
       "      <td>4.283656e+04</td>\n",
       "      <td>5.099590e+04</td>\n",
       "    </tr>\n",
       "    <tr>\n",
       "      <th>2</th>\n",
       "      <td>114.726440</td>\n",
       "      <td>873</td>\n",
       "      <td>1.001562e+05</td>\n",
       "      <td>2503.904545</td>\n",
       "      <td>16024.989086</td>\n",
       "      <td>50078.090893</td>\n",
       "      <td>8.413119e+04</td>\n",
       "      <td>1.001562e+05</td>\n",
       "    </tr>\n",
       "    <tr>\n",
       "      <th>3</th>\n",
       "      <td>172.089659</td>\n",
       "      <td>865</td>\n",
       "      <td>1.488576e+05</td>\n",
       "      <td>3721.438885</td>\n",
       "      <td>23817.208864</td>\n",
       "      <td>74428.777701</td>\n",
       "      <td>1.250403e+05</td>\n",
       "      <td>1.488576e+05</td>\n",
       "    </tr>\n",
       "    <tr>\n",
       "      <th>4</th>\n",
       "      <td>229.452879</td>\n",
       "      <td>850</td>\n",
       "      <td>1.950349e+05</td>\n",
       "      <td>4875.873684</td>\n",
       "      <td>31205.591576</td>\n",
       "      <td>97517.473674</td>\n",
       "      <td>1.638294e+05</td>\n",
       "      <td>1.950349e+05</td>\n",
       "    </tr>\n",
       "    <tr>\n",
       "      <th>5</th>\n",
       "      <td>286.816099</td>\n",
       "      <td>837</td>\n",
       "      <td>2.400651e+05</td>\n",
       "      <td>6001.626872</td>\n",
       "      <td>38410.411984</td>\n",
       "      <td>120032.537449</td>\n",
       "      <td>2.016547e+05</td>\n",
       "      <td>2.400651e+05</td>\n",
       "    </tr>\n",
       "    <tr>\n",
       "      <th>6</th>\n",
       "      <td>344.179319</td>\n",
       "      <td>805</td>\n",
       "      <td>2.770644e+05</td>\n",
       "      <td>6926.608792</td>\n",
       "      <td>44330.296268</td>\n",
       "      <td>138532.175837</td>\n",
       "      <td>2.327341e+05</td>\n",
       "      <td>2.770644e+05</td>\n",
       "    </tr>\n",
       "    <tr>\n",
       "      <th>7</th>\n",
       "      <td>401.542539</td>\n",
       "      <td>796</td>\n",
       "      <td>3.196279e+05</td>\n",
       "      <td>7990.696519</td>\n",
       "      <td>51140.457724</td>\n",
       "      <td>159813.930386</td>\n",
       "      <td>2.684874e+05</td>\n",
       "      <td>3.196279e+05</td>\n",
       "    </tr>\n",
       "    <tr>\n",
       "      <th>8</th>\n",
       "      <td>458.905758</td>\n",
       "      <td>783</td>\n",
       "      <td>3.593232e+05</td>\n",
       "      <td>8983.080222</td>\n",
       "      <td>57491.713421</td>\n",
       "      <td>179661.604440</td>\n",
       "      <td>3.018315e+05</td>\n",
       "      <td>3.593232e+05</td>\n",
       "    </tr>\n",
       "    <tr>\n",
       "      <th>9</th>\n",
       "      <td>516.268978</td>\n",
       "      <td>773</td>\n",
       "      <td>3.990759e+05</td>\n",
       "      <td>9976.898005</td>\n",
       "      <td>63852.147233</td>\n",
       "      <td>199537.960103</td>\n",
       "      <td>3.352238e+05</td>\n",
       "      <td>3.990759e+05</td>\n",
       "    </tr>\n",
       "    <tr>\n",
       "      <th>10</th>\n",
       "      <td>573.632198</td>\n",
       "      <td>766</td>\n",
       "      <td>4.394023e+05</td>\n",
       "      <td>10985.056593</td>\n",
       "      <td>70304.362197</td>\n",
       "      <td>219701.131866</td>\n",
       "      <td>3.690979e+05</td>\n",
       "      <td>4.394023e+05</td>\n",
       "    </tr>\n",
       "    <tr>\n",
       "      <th>11</th>\n",
       "      <td>630.995418</td>\n",
       "      <td>761</td>\n",
       "      <td>4.801875e+05</td>\n",
       "      <td>12004.687825</td>\n",
       "      <td>76830.002082</td>\n",
       "      <td>240093.756508</td>\n",
       "      <td>4.033575e+05</td>\n",
       "      <td>4.801875e+05</td>\n",
       "    </tr>\n",
       "    <tr>\n",
       "      <th>12</th>\n",
       "      <td>688.358638</td>\n",
       "      <td>752</td>\n",
       "      <td>5.176457e+05</td>\n",
       "      <td>12941.142389</td>\n",
       "      <td>82823.311288</td>\n",
       "      <td>258822.847775</td>\n",
       "      <td>4.348224e+05</td>\n",
       "      <td>5.176457e+05</td>\n",
       "    </tr>\n",
       "    <tr>\n",
       "      <th>13</th>\n",
       "      <td>745.721858</td>\n",
       "      <td>744</td>\n",
       "      <td>5.548171e+05</td>\n",
       "      <td>13870.426550</td>\n",
       "      <td>88770.729918</td>\n",
       "      <td>277408.530993</td>\n",
       "      <td>4.660463e+05</td>\n",
       "      <td>5.548171e+05</td>\n",
       "    </tr>\n",
       "    <tr>\n",
       "      <th>14</th>\n",
       "      <td>803.085077</td>\n",
       "      <td>741</td>\n",
       "      <td>5.950860e+05</td>\n",
       "      <td>14877.151057</td>\n",
       "      <td>95213.766767</td>\n",
       "      <td>297543.021146</td>\n",
       "      <td>4.998723e+05</td>\n",
       "      <td>5.950860e+05</td>\n",
       "    </tr>\n",
       "    <tr>\n",
       "      <th>15</th>\n",
       "      <td>860.448297</td>\n",
       "      <td>731</td>\n",
       "      <td>6.289877e+05</td>\n",
       "      <td>15724.692630</td>\n",
       "      <td>100638.032832</td>\n",
       "      <td>314493.852599</td>\n",
       "      <td>5.283497e+05</td>\n",
       "      <td>6.289877e+05</td>\n",
       "    </tr>\n",
       "    <tr>\n",
       "      <th>16</th>\n",
       "      <td>917.811517</td>\n",
       "      <td>718</td>\n",
       "      <td>6.589887e+05</td>\n",
       "      <td>16474.716729</td>\n",
       "      <td>105438.187065</td>\n",
       "      <td>329494.334579</td>\n",
       "      <td>5.535505e+05</td>\n",
       "      <td>6.589887e+05</td>\n",
       "    </tr>\n",
       "    <tr>\n",
       "      <th>17</th>\n",
       "      <td>975.174737</td>\n",
       "      <td>714</td>\n",
       "      <td>6.962748e+05</td>\n",
       "      <td>17406.869051</td>\n",
       "      <td>111403.961925</td>\n",
       "      <td>348137.381017</td>\n",
       "      <td>5.848708e+05</td>\n",
       "      <td>6.962748e+05</td>\n",
       "    </tr>\n",
       "    <tr>\n",
       "      <th>18</th>\n",
       "      <td>1032.537957</td>\n",
       "      <td>708</td>\n",
       "      <td>7.310369e+05</td>\n",
       "      <td>18275.921831</td>\n",
       "      <td>116965.899718</td>\n",
       "      <td>365518.436619</td>\n",
       "      <td>6.140710e+05</td>\n",
       "      <td>7.310369e+05</td>\n",
       "    </tr>\n",
       "    <tr>\n",
       "      <th>19</th>\n",
       "      <td>1089.901176</td>\n",
       "      <td>702</td>\n",
       "      <td>7.651106e+05</td>\n",
       "      <td>19127.765645</td>\n",
       "      <td>122417.700129</td>\n",
       "      <td>382555.312902</td>\n",
       "      <td>6.426929e+05</td>\n",
       "      <td>7.651106e+05</td>\n",
       "    </tr>\n",
       "    <tr>\n",
       "      <th>20</th>\n",
       "      <td>1147.264396</td>\n",
       "      <td>694</td>\n",
       "      <td>7.962015e+05</td>\n",
       "      <td>19905.037273</td>\n",
       "      <td>127392.238550</td>\n",
       "      <td>398100.745470</td>\n",
       "      <td>6.688093e+05</td>\n",
       "      <td>7.962015e+05</td>\n",
       "    </tr>\n",
       "    <tr>\n",
       "      <th>21</th>\n",
       "      <td>1204.627616</td>\n",
       "      <td>685</td>\n",
       "      <td>8.251699e+05</td>\n",
       "      <td>20629.247924</td>\n",
       "      <td>132027.186711</td>\n",
       "      <td>412584.958471</td>\n",
       "      <td>6.931427e+05</td>\n",
       "      <td>8.251699e+05</td>\n",
       "    </tr>\n",
       "    <tr>\n",
       "      <th>22</th>\n",
       "      <td>1261.990836</td>\n",
       "      <td>679</td>\n",
       "      <td>8.568918e+05</td>\n",
       "      <td>21422.294437</td>\n",
       "      <td>137102.684399</td>\n",
       "      <td>428445.888748</td>\n",
       "      <td>7.197891e+05</td>\n",
       "      <td>8.568918e+05</td>\n",
       "    </tr>\n",
       "    <tr>\n",
       "      <th>23</th>\n",
       "      <td>1319.354056</td>\n",
       "      <td>675</td>\n",
       "      <td>8.905640e+05</td>\n",
       "      <td>22264.099688</td>\n",
       "      <td>142490.238004</td>\n",
       "      <td>445281.993762</td>\n",
       "      <td>7.480737e+05</td>\n",
       "      <td>8.905640e+05</td>\n",
       "    </tr>\n",
       "    <tr>\n",
       "      <th>24</th>\n",
       "      <td>1376.717275</td>\n",
       "      <td>669</td>\n",
       "      <td>9.210239e+05</td>\n",
       "      <td>23025.596431</td>\n",
       "      <td>147363.817159</td>\n",
       "      <td>460511.928621</td>\n",
       "      <td>7.736600e+05</td>\n",
       "      <td>9.210239e+05</td>\n",
       "    </tr>\n",
       "    <tr>\n",
       "      <th>25</th>\n",
       "      <td>1434.080495</td>\n",
       "      <td>667</td>\n",
       "      <td>9.565317e+05</td>\n",
       "      <td>23913.292258</td>\n",
       "      <td>153045.070449</td>\n",
       "      <td>478265.845152</td>\n",
       "      <td>8.034866e+05</td>\n",
       "      <td>9.565317e+05</td>\n",
       "    </tr>\n",
       "    <tr>\n",
       "      <th>26</th>\n",
       "      <td>1491.443715</td>\n",
       "      <td>660</td>\n",
       "      <td>9.843529e+05</td>\n",
       "      <td>24608.821298</td>\n",
       "      <td>157496.456306</td>\n",
       "      <td>492176.425955</td>\n",
       "      <td>8.268564e+05</td>\n",
       "      <td>9.843529e+05</td>\n",
       "    </tr>\n",
       "    <tr>\n",
       "      <th>27</th>\n",
       "      <td>1548.806935</td>\n",
       "      <td>654</td>\n",
       "      <td>1.012920e+06</td>\n",
       "      <td>25322.993384</td>\n",
       "      <td>162067.157660</td>\n",
       "      <td>506459.867688</td>\n",
       "      <td>8.508526e+05</td>\n",
       "      <td>1.012920e+06</td>\n",
       "    </tr>\n",
       "    <tr>\n",
       "      <th>28</th>\n",
       "      <td>1606.170155</td>\n",
       "      <td>647</td>\n",
       "      <td>1.039192e+06</td>\n",
       "      <td>25979.802251</td>\n",
       "      <td>166270.734408</td>\n",
       "      <td>519596.045024</td>\n",
       "      <td>8.729214e+05</td>\n",
       "      <td>1.039192e+06</td>\n",
       "    </tr>\n",
       "    <tr>\n",
       "      <th>29</th>\n",
       "      <td>1663.533374</td>\n",
       "      <td>633</td>\n",
       "      <td>1.053017e+06</td>\n",
       "      <td>26325.415651</td>\n",
       "      <td>168482.660163</td>\n",
       "      <td>526508.313011</td>\n",
       "      <td>8.845340e+05</td>\n",
       "      <td>1.053017e+06</td>\n",
       "    </tr>\n",
       "    <tr>\n",
       "      <th>30</th>\n",
       "      <td>1720.896594</td>\n",
       "      <td>622</td>\n",
       "      <td>1.070398e+06</td>\n",
       "      <td>26759.942041</td>\n",
       "      <td>171263.629060</td>\n",
       "      <td>535198.840812</td>\n",
       "      <td>8.991341e+05</td>\n",
       "      <td>1.070398e+06</td>\n",
       "    </tr>\n",
       "    <tr>\n",
       "      <th>31</th>\n",
       "      <td>1778.259814</td>\n",
       "      <td>613</td>\n",
       "      <td>1.090073e+06</td>\n",
       "      <td>27251.831650</td>\n",
       "      <td>174411.722563</td>\n",
       "      <td>545036.633009</td>\n",
       "      <td>9.156615e+05</td>\n",
       "      <td>1.090073e+06</td>\n",
       "    </tr>\n",
       "    <tr>\n",
       "      <th>32</th>\n",
       "      <td>1835.623034</td>\n",
       "      <td>604</td>\n",
       "      <td>1.108716e+06</td>\n",
       "      <td>27717.907811</td>\n",
       "      <td>177394.609993</td>\n",
       "      <td>554358.156228</td>\n",
       "      <td>9.313217e+05</td>\n",
       "      <td>1.108716e+06</td>\n",
       "    </tr>\n",
       "    <tr>\n",
       "      <th>33</th>\n",
       "      <td>1892.986254</td>\n",
       "      <td>600</td>\n",
       "      <td>1.135792e+06</td>\n",
       "      <td>28394.793805</td>\n",
       "      <td>181726.680353</td>\n",
       "      <td>567895.876102</td>\n",
       "      <td>9.540651e+05</td>\n",
       "      <td>1.135792e+06</td>\n",
       "    </tr>\n",
       "    <tr>\n",
       "      <th>34</th>\n",
       "      <td>1950.349473</td>\n",
       "      <td>593</td>\n",
       "      <td>1.156557e+06</td>\n",
       "      <td>28913.930944</td>\n",
       "      <td>185049.158044</td>\n",
       "      <td>578278.618888</td>\n",
       "      <td>9.715081e+05</td>\n",
       "      <td>1.156557e+06</td>\n",
       "    </tr>\n",
       "    <tr>\n",
       "      <th>35</th>\n",
       "      <td>2007.712693</td>\n",
       "      <td>588</td>\n",
       "      <td>1.180535e+06</td>\n",
       "      <td>29513.376591</td>\n",
       "      <td>188885.610185</td>\n",
       "      <td>590267.531828</td>\n",
       "      <td>9.916495e+05</td>\n",
       "      <td>1.180535e+06</td>\n",
       "    </tr>\n",
       "    <tr>\n",
       "      <th>36</th>\n",
       "      <td>2065.075913</td>\n",
       "      <td>585</td>\n",
       "      <td>1.208069e+06</td>\n",
       "      <td>30201.735229</td>\n",
       "      <td>193291.105466</td>\n",
       "      <td>604034.704582</td>\n",
       "      <td>1.014778e+06</td>\n",
       "      <td>1.208069e+06</td>\n",
       "    </tr>\n",
       "    <tr>\n",
       "      <th>37</th>\n",
       "      <td>2122.439133</td>\n",
       "      <td>582</td>\n",
       "      <td>1.235260e+06</td>\n",
       "      <td>30881.489384</td>\n",
       "      <td>197641.532056</td>\n",
       "      <td>617629.787676</td>\n",
       "      <td>1.037618e+06</td>\n",
       "      <td>1.235260e+06</td>\n",
       "    </tr>\n",
       "    <tr>\n",
       "      <th>38</th>\n",
       "      <td>2179.802353</td>\n",
       "      <td>576</td>\n",
       "      <td>1.255566e+06</td>\n",
       "      <td>31389.153879</td>\n",
       "      <td>200890.584826</td>\n",
       "      <td>627783.077582</td>\n",
       "      <td>1.054676e+06</td>\n",
       "      <td>1.255566e+06</td>\n",
       "    </tr>\n",
       "    <tr>\n",
       "      <th>39</th>\n",
       "      <td>2237.165573</td>\n",
       "      <td>571</td>\n",
       "      <td>1.277422e+06</td>\n",
       "      <td>31935.538548</td>\n",
       "      <td>204387.446706</td>\n",
       "      <td>638710.770956</td>\n",
       "      <td>1.073034e+06</td>\n",
       "      <td>1.277422e+06</td>\n",
       "    </tr>\n",
       "    <tr>\n",
       "      <th>40</th>\n",
       "      <td>2294.528792</td>\n",
       "      <td>563</td>\n",
       "      <td>1.291820e+06</td>\n",
       "      <td>32295.492752</td>\n",
       "      <td>206691.153613</td>\n",
       "      <td>645909.855042</td>\n",
       "      <td>1.085129e+06</td>\n",
       "      <td>1.291820e+06</td>\n",
       "    </tr>\n",
       "    <tr>\n",
       "      <th>41</th>\n",
       "      <td>2351.892012</td>\n",
       "      <td>551</td>\n",
       "      <td>1.295892e+06</td>\n",
       "      <td>32397.312467</td>\n",
       "      <td>207342.799790</td>\n",
       "      <td>647946.249345</td>\n",
       "      <td>1.088550e+06</td>\n",
       "      <td>1.295892e+06</td>\n",
       "    </tr>\n",
       "    <tr>\n",
       "      <th>42</th>\n",
       "      <td>2409.255232</td>\n",
       "      <td>538</td>\n",
       "      <td>1.296179e+06</td>\n",
       "      <td>32404.482870</td>\n",
       "      <td>207388.690366</td>\n",
       "      <td>648089.657394</td>\n",
       "      <td>1.088791e+06</td>\n",
       "      <td>1.296179e+06</td>\n",
       "    </tr>\n",
       "    <tr>\n",
       "      <th>43</th>\n",
       "      <td>2466.618452</td>\n",
       "      <td>530</td>\n",
       "      <td>1.307308e+06</td>\n",
       "      <td>32682.694486</td>\n",
       "      <td>209169.244709</td>\n",
       "      <td>653653.889716</td>\n",
       "      <td>1.098139e+06</td>\n",
       "      <td>1.307308e+06</td>\n",
       "    </tr>\n",
       "    <tr>\n",
       "      <th>44</th>\n",
       "      <td>2523.981672</td>\n",
       "      <td>523</td>\n",
       "      <td>1.320042e+06</td>\n",
       "      <td>33001.060356</td>\n",
       "      <td>211206.786277</td>\n",
       "      <td>660021.207115</td>\n",
       "      <td>1.108836e+06</td>\n",
       "      <td>1.320042e+06</td>\n",
       "    </tr>\n",
       "    <tr>\n",
       "      <th>45</th>\n",
       "      <td>2581.344891</td>\n",
       "      <td>514</td>\n",
       "      <td>1.326811e+06</td>\n",
       "      <td>33170.281854</td>\n",
       "      <td>212289.803867</td>\n",
       "      <td>663405.637083</td>\n",
       "      <td>1.114521e+06</td>\n",
       "      <td>1.326811e+06</td>\n",
       "    </tr>\n",
       "    <tr>\n",
       "      <th>46</th>\n",
       "      <td>2638.708111</td>\n",
       "      <td>509</td>\n",
       "      <td>1.343102e+06</td>\n",
       "      <td>33577.560715</td>\n",
       "      <td>214896.388575</td>\n",
       "      <td>671551.214296</td>\n",
       "      <td>1.128206e+06</td>\n",
       "      <td>1.343102e+06</td>\n",
       "    </tr>\n",
       "    <tr>\n",
       "      <th>47</th>\n",
       "      <td>2696.071331</td>\n",
       "      <td>504</td>\n",
       "      <td>1.358820e+06</td>\n",
       "      <td>33970.498770</td>\n",
       "      <td>217411.192131</td>\n",
       "      <td>679409.975410</td>\n",
       "      <td>1.141409e+06</td>\n",
       "      <td>1.358820e+06</td>\n",
       "    </tr>\n",
       "    <tr>\n",
       "      <th>48</th>\n",
       "      <td>2753.434551</td>\n",
       "      <td>500</td>\n",
       "      <td>1.376717e+06</td>\n",
       "      <td>34417.931885</td>\n",
       "      <td>220274.764064</td>\n",
       "      <td>688358.637700</td>\n",
       "      <td>1.156443e+06</td>\n",
       "      <td>1.376717e+06</td>\n",
       "    </tr>\n",
       "    <tr>\n",
       "      <th>49</th>\n",
       "      <td>2810.797771</td>\n",
       "      <td>490</td>\n",
       "      <td>1.377291e+06</td>\n",
       "      <td>34432.272690</td>\n",
       "      <td>220366.545216</td>\n",
       "      <td>688645.453799</td>\n",
       "      <td>1.156924e+06</td>\n",
       "      <td>1.377291e+06</td>\n",
       "    </tr>\n",
       "  </tbody>\n",
       "</table>\n",
       "</div>"
      ],
      "text/plain": [
       "          price  total_participation   total_value    innovators  \\\n",
       "1     57.363220                  889  5.099590e+04   1274.897560   \n",
       "2    114.726440                  873  1.001562e+05   2503.904545   \n",
       "3    172.089659                  865  1.488576e+05   3721.438885   \n",
       "4    229.452879                  850  1.950349e+05   4875.873684   \n",
       "5    286.816099                  837  2.400651e+05   6001.626872   \n",
       "6    344.179319                  805  2.770644e+05   6926.608792   \n",
       "7    401.542539                  796  3.196279e+05   7990.696519   \n",
       "8    458.905758                  783  3.593232e+05   8983.080222   \n",
       "9    516.268978                  773  3.990759e+05   9976.898005   \n",
       "10   573.632198                  766  4.394023e+05  10985.056593   \n",
       "11   630.995418                  761  4.801875e+05  12004.687825   \n",
       "12   688.358638                  752  5.176457e+05  12941.142389   \n",
       "13   745.721858                  744  5.548171e+05  13870.426550   \n",
       "14   803.085077                  741  5.950860e+05  14877.151057   \n",
       "15   860.448297                  731  6.289877e+05  15724.692630   \n",
       "16   917.811517                  718  6.589887e+05  16474.716729   \n",
       "17   975.174737                  714  6.962748e+05  17406.869051   \n",
       "18  1032.537957                  708  7.310369e+05  18275.921831   \n",
       "19  1089.901176                  702  7.651106e+05  19127.765645   \n",
       "20  1147.264396                  694  7.962015e+05  19905.037273   \n",
       "21  1204.627616                  685  8.251699e+05  20629.247924   \n",
       "22  1261.990836                  679  8.568918e+05  21422.294437   \n",
       "23  1319.354056                  675  8.905640e+05  22264.099688   \n",
       "24  1376.717275                  669  9.210239e+05  23025.596431   \n",
       "25  1434.080495                  667  9.565317e+05  23913.292258   \n",
       "26  1491.443715                  660  9.843529e+05  24608.821298   \n",
       "27  1548.806935                  654  1.012920e+06  25322.993384   \n",
       "28  1606.170155                  647  1.039192e+06  25979.802251   \n",
       "29  1663.533374                  633  1.053017e+06  26325.415651   \n",
       "30  1720.896594                  622  1.070398e+06  26759.942041   \n",
       "31  1778.259814                  613  1.090073e+06  27251.831650   \n",
       "32  1835.623034                  604  1.108716e+06  27717.907811   \n",
       "33  1892.986254                  600  1.135792e+06  28394.793805   \n",
       "34  1950.349473                  593  1.156557e+06  28913.930944   \n",
       "35  2007.712693                  588  1.180535e+06  29513.376591   \n",
       "36  2065.075913                  585  1.208069e+06  30201.735229   \n",
       "37  2122.439133                  582  1.235260e+06  30881.489384   \n",
       "38  2179.802353                  576  1.255566e+06  31389.153879   \n",
       "39  2237.165573                  571  1.277422e+06  31935.538548   \n",
       "40  2294.528792                  563  1.291820e+06  32295.492752   \n",
       "41  2351.892012                  551  1.295892e+06  32397.312467   \n",
       "42  2409.255232                  538  1.296179e+06  32404.482870   \n",
       "43  2466.618452                  530  1.307308e+06  32682.694486   \n",
       "44  2523.981672                  523  1.320042e+06  33001.060356   \n",
       "45  2581.344891                  514  1.326811e+06  33170.281854   \n",
       "46  2638.708111                  509  1.343102e+06  33577.560715   \n",
       "47  2696.071331                  504  1.358820e+06  33970.498770   \n",
       "48  2753.434551                  500  1.376717e+06  34417.931885   \n",
       "49  2810.797771                  490  1.377291e+06  34432.272690   \n",
       "\n",
       "    early_adopters  early_majority  late_majority      laggards  \n",
       "1      8159.344386    25497.951205   4.283656e+04  5.099590e+04  \n",
       "2     16024.989086    50078.090893   8.413119e+04  1.001562e+05  \n",
       "3     23817.208864    74428.777701   1.250403e+05  1.488576e+05  \n",
       "4     31205.591576    97517.473674   1.638294e+05  1.950349e+05  \n",
       "5     38410.411984   120032.537449   2.016547e+05  2.400651e+05  \n",
       "6     44330.296268   138532.175837   2.327341e+05  2.770644e+05  \n",
       "7     51140.457724   159813.930386   2.684874e+05  3.196279e+05  \n",
       "8     57491.713421   179661.604440   3.018315e+05  3.593232e+05  \n",
       "9     63852.147233   199537.960103   3.352238e+05  3.990759e+05  \n",
       "10    70304.362197   219701.131866   3.690979e+05  4.394023e+05  \n",
       "11    76830.002082   240093.756508   4.033575e+05  4.801875e+05  \n",
       "12    82823.311288   258822.847775   4.348224e+05  5.176457e+05  \n",
       "13    88770.729918   277408.530993   4.660463e+05  5.548171e+05  \n",
       "14    95213.766767   297543.021146   4.998723e+05  5.950860e+05  \n",
       "15   100638.032832   314493.852599   5.283497e+05  6.289877e+05  \n",
       "16   105438.187065   329494.334579   5.535505e+05  6.589887e+05  \n",
       "17   111403.961925   348137.381017   5.848708e+05  6.962748e+05  \n",
       "18   116965.899718   365518.436619   6.140710e+05  7.310369e+05  \n",
       "19   122417.700129   382555.312902   6.426929e+05  7.651106e+05  \n",
       "20   127392.238550   398100.745470   6.688093e+05  7.962015e+05  \n",
       "21   132027.186711   412584.958471   6.931427e+05  8.251699e+05  \n",
       "22   137102.684399   428445.888748   7.197891e+05  8.568918e+05  \n",
       "23   142490.238004   445281.993762   7.480737e+05  8.905640e+05  \n",
       "24   147363.817159   460511.928621   7.736600e+05  9.210239e+05  \n",
       "25   153045.070449   478265.845152   8.034866e+05  9.565317e+05  \n",
       "26   157496.456306   492176.425955   8.268564e+05  9.843529e+05  \n",
       "27   162067.157660   506459.867688   8.508526e+05  1.012920e+06  \n",
       "28   166270.734408   519596.045024   8.729214e+05  1.039192e+06  \n",
       "29   168482.660163   526508.313011   8.845340e+05  1.053017e+06  \n",
       "30   171263.629060   535198.840812   8.991341e+05  1.070398e+06  \n",
       "31   174411.722563   545036.633009   9.156615e+05  1.090073e+06  \n",
       "32   177394.609993   554358.156228   9.313217e+05  1.108716e+06  \n",
       "33   181726.680353   567895.876102   9.540651e+05  1.135792e+06  \n",
       "34   185049.158044   578278.618888   9.715081e+05  1.156557e+06  \n",
       "35   188885.610185   590267.531828   9.916495e+05  1.180535e+06  \n",
       "36   193291.105466   604034.704582   1.014778e+06  1.208069e+06  \n",
       "37   197641.532056   617629.787676   1.037618e+06  1.235260e+06  \n",
       "38   200890.584826   627783.077582   1.054676e+06  1.255566e+06  \n",
       "39   204387.446706   638710.770956   1.073034e+06  1.277422e+06  \n",
       "40   206691.153613   645909.855042   1.085129e+06  1.291820e+06  \n",
       "41   207342.799790   647946.249345   1.088550e+06  1.295892e+06  \n",
       "42   207388.690366   648089.657394   1.088791e+06  1.296179e+06  \n",
       "43   209169.244709   653653.889716   1.098139e+06  1.307308e+06  \n",
       "44   211206.786277   660021.207115   1.108836e+06  1.320042e+06  \n",
       "45   212289.803867   663405.637083   1.114521e+06  1.326811e+06  \n",
       "46   214896.388575   671551.214296   1.128206e+06  1.343102e+06  \n",
       "47   217411.192131   679409.975410   1.141409e+06  1.358820e+06  \n",
       "48   220274.764064   688358.637700   1.156443e+06  1.376717e+06  \n",
       "49   220366.545216   688645.453799   1.156924e+06  1.377291e+06  "
      ]
     },
     "execution_count": 129,
     "metadata": {},
     "output_type": "execute_result"
    }
   ],
   "source": [
    "constrained_demand"
   ]
  },
  {
   "cell_type": "code",
   "execution_count": 185,
   "metadata": {},
   "outputs": [],
   "source": [
    "token_price = optimum.price\n",
    "token_supply = 0\n",
    "unreached_prospects = traders.sample(frac=1).copy()\n",
    "token_holders = set()\n",
    "target_growth_rate = .07\n",
    "segment = 'innovators'\n",
    "\n",
    "def run_simulation(period):\n",
    "    \"\"\"\n",
    "    The firm develops the product and distributes tokens based \n",
    "    upon a version release schedule. Tokens are distributed to\n",
    "    to development contributors who in turn sell excess tokens\n",
    "    to a limited set of early users who will help test and debug \n",
    "    the software before beta release. The firm sets the initial \n",
    "    price based on a forecasted demand curve. When buyers are \n",
    "    exhausted the firm reaseses the demand curve and shifts the \n",
    "    \"\"\"\n",
    "    \n",
    "    global token_price\n",
    "    global token_supply\n",
    "    global segment\n",
    "    global unreached_prospects\n",
    "    \n",
    "    new_tokens = 0\n",
    "    prospect_count = 0\n",
    "    buyers = 0\n",
    "    sellers = 0\n",
    "     \n",
    "    growth_constraint = 50*(1+target_growth_rate)**(period.name+1)\n",
    "    prospect_count = max([int(growth_constraint - len(prospects_reached)),0])\n",
    "    \n",
    "    \n",
    "    prospects = unreached_prospects[unreached_prospects.segment==segment].iloc[:prospect_count].copy()\n",
    "    unreached_prospects = unreached_prospects.drop(prospects.index)\n",
    "    buyers = prospects[(prospects.fee_total>=token_price)&(~prospects.index.isin(prospects_reached))&(prospects.segment==segment)]\n",
    "    if not buyers.empty:\n",
    "        token_holders.update(buyers.index)\n",
    "    else:\n",
    "        token_price = prospects.fee_total.mean()\n",
    "    buyers = buyers.shape[0]\n",
    "    \n",
    "    in_development = (start+development_time)>period.week\n",
    "    if in_development:\n",
    "        dev_release_timeframe = [0.5, 0.7, .8, .9, 1]\n",
    "        for market_segment, pct_of_dev_time in list(zip(market_segments.index,dev_release_timeframe))[::-1]:\n",
    "            release_time = start + (development_time * pct_of_dev_time)\n",
    "            if release_time < period.week:\n",
    "                new_tokens =  market_segments.loc[market_segment].percentage * initial_user_target\n",
    "                token_supply += new_tokens\n",
    "                break\n",
    "        \n",
    "    else:\n",
    "        pass\n",
    "    \n",
    "    return new_tokens, prospect_count, buyers, sellers, token_price,\n",
    "    "
   ]
  },
  {
   "cell_type": "code",
   "execution_count": 186,
   "metadata": {},
   "outputs": [],
   "source": [
    "start = dt(2019,1,1)\n",
    "end = dt(2021,1,1)\n",
    "market = pd.DataFrame()\n",
    "market['week'] = pd.DatetimeIndex(start=start, end=end, freq='1W')\n",
    "market['new_tokens'], market['prospects'], market['buyers'], market['sellers'], market['token_price'] = zip(*market.apply(run_simulation, axis=1))\n",
    "market = market.set_index('week')"
   ]
  },
  {
   "cell_type": "code",
   "execution_count": 187,
   "metadata": {},
   "outputs": [
    {
     "data": {
      "text/plain": [
       "<matplotlib.axes._subplots.AxesSubplot at 0x1176d3198>"
      ]
     },
     "execution_count": 187,
     "metadata": {},
     "output_type": "execute_result"
    },
    {
     "data": {
      "image/png": "[encoded data removed]",
      "text/plain": [
       "<Figure size 432x288 with 1 Axes>"
      ]
     },
     "metadata": {},
     "output_type": "display_data"
    }
   ],
   "source": [
    "market.token_price.plot()"
   ]
  },
  {
   "cell_type": "code",
   "execution_count": 188,
   "metadata": {},
   "outputs": [
    {
     "data": {
      "text/plain": [
       "<matplotlib.axes._subplots.AxesSubplot at 0x1177c7390>"
      ]
     },
     "execution_count": 188,
     "metadata": {},
     "output_type": "execute_result"
    },
    {
     "data": {
      "image/png": "[encoded data removed]",
      "text/plain": [
       "<Figure size 432x288 with 1 Axes>"
      ]
     },
     "metadata": {},
     "output_type": "display_data"
    }
   ],
   "source": [
    "market.prospects.plot()"
   ]
  },
  {
   "cell_type": "code",
   "execution_count": 190,
   "metadata": {},
   "outputs": [
    {
     "data": {
      "text/plain": [
       "<matplotlib.axes._subplots.AxesSubplot at 0x1179beac8>"
      ]
     },
     "execution_count": 190,
     "metadata": {},
     "output_type": "execute_result"
    },
    {
     "data": {
      "image/png": "[encoded data removed]",
      "text/plain": [
       "<Figure size 432x288 with 1 Axes>"
      ]
     },
     "metadata": {},
     "output_type": "display_data"
    }
   ],
   "source": [
    "market.new_tokens.plot()\n",
    "#plt.axhline(trader_count)"
   ]
  },
  {
   "cell_type": "code",
   "execution_count": 65,
   "metadata": {},
   "outputs": [
    {
     "data": {
      "text/plain": [
       "(0, 7)"
      ]
     },
     "execution_count": 65,
     "metadata": {},
     "output_type": "execute_result"
    }
   ],
   "source": [
    "unreached_prospects.shape"
   ]
  },
  {
   "cell_type": "code",
   "execution_count": 615,
   "metadata": {},
   "outputs": [
    {
     "data": {
      "text/plain": [
       "<matplotlib.axes._subplots.AxesSubplot at 0x2067504e0>"
      ]
     },
     "execution_count": 615,
     "metadata": {},
     "output_type": "execute_result"
    },
    {
     "data": {
      "image/png": "[encoded data removed]",
      "text/plain": [
       "<Figure size 1440x720 with 1 Axes>"
      ]
     },
     "metadata": {},
     "output_type": "display_data"
    }
   ],
   "source": [
    "market.price.plot()#.describe()"
   ]
  },
  {
   "cell_type": "code",
   "execution_count": null,
   "metadata": {},
   "outputs": [],
   "source": []
  },
  {
   "cell_type": "code",
   "execution_count": 616,
   "metadata": {},
   "outputs": [
    {
     "data": {
      "text/plain": [
       "<matplotlib.axes._subplots.AxesSubplot at 0x2067580b8>"
      ]
     },
     "execution_count": 616,
     "metadata": {},
     "output_type": "execute_result"
    },
    {
     "data": {
      "image/png": "[encoded data removed]",
      "text/plain": [
       "<Figure size 1440x720 with 1 Axes>"
      ]
     },
     "metadata": {},
     "output_type": "display_data"
    }
   ],
   "source": [
    "market.demand.plot()"
   ]
  },
  {
   "cell_type": "code",
   "execution_count": 585,
   "metadata": {},
   "outputs": [
    {
     "data": {
      "text/plain": [
       "3033.1331733989473"
      ]
     },
     "execution_count": 585,
     "metadata": {},
     "output_type": "execute_result"
    }
   ],
   "source": [
    "optimum.price"
   ]
  },
  {
   "cell_type": "code",
   "execution_count": 600,
   "metadata": {},
   "outputs": [
    {
     "data": {
      "text/plain": [
       "1371"
      ]
     },
     "execution_count": 600,
     "metadata": {},
     "output_type": "execute_result"
    }
   ],
   "source": [
    "len(sampled)"
   ]
  },
  {
   "cell_type": "code",
   "execution_count": 546,
   "metadata": {},
   "outputs": [
    {
     "data": {
      "text/html": [
       "<div>\n",
       "<style scoped>\n",
       "    .dataframe tbody tr th:only-of-type {\n",
       "        vertical-align: middle;\n",
       "    }\n",
       "\n",
       "    .dataframe tbody tr th {\n",
       "        vertical-align: top;\n",
       "    }\n",
       "\n",
       "    .dataframe thead th {\n",
       "        text-align: right;\n",
       "    }\n",
       "</style>\n",
       "<table border=\"1\" class=\"dataframe\">\n",
       "  <thead>\n",
       "    <tr style=\"text-align: right;\">\n",
       "      <th></th>\n",
       "      <th>turnover</th>\n",
       "      <th>volume_average</th>\n",
       "      <th>volume_total</th>\n",
       "      <th>fee_percentage</th>\n",
       "      <th>fee_total</th>\n",
       "      <th>segment_percentile</th>\n",
       "    </tr>\n",
       "  </thead>\n",
       "  <tbody>\n",
       "    <tr>\n",
       "      <th>count</th>\n",
       "      <td>15521.000000</td>\n",
       "      <td>15521.000000</td>\n",
       "      <td>15521.000000</td>\n",
       "      <td>15521.000000</td>\n",
       "      <td>15521.000000</td>\n",
       "      <td>15521.000000</td>\n",
       "    </tr>\n",
       "    <tr>\n",
       "      <th>mean</th>\n",
       "      <td>148.298950</td>\n",
       "      <td>1972.301229</td>\n",
       "      <td>195254.833790</td>\n",
       "      <td>0.030696</td>\n",
       "      <td>4275.044596</td>\n",
       "      <td>0.169747</td>\n",
       "    </tr>\n",
       "    <tr>\n",
       "      <th>std</th>\n",
       "      <td>125.720018</td>\n",
       "      <td>1705.089261</td>\n",
       "      <td>128345.086661</td>\n",
       "      <td>0.014923</td>\n",
       "      <td>734.786223</td>\n",
       "      <td>0.098136</td>\n",
       "    </tr>\n",
       "    <tr>\n",
       "      <th>min</th>\n",
       "      <td>2.000000</td>\n",
       "      <td>66.325584</td>\n",
       "      <td>51007.126724</td>\n",
       "      <td>0.010000</td>\n",
       "      <td>3060.324988</td>\n",
       "      <td>0.000000</td>\n",
       "    </tr>\n",
       "    <tr>\n",
       "      <th>25%</th>\n",
       "      <td>65.000000</td>\n",
       "      <td>852.801344</td>\n",
       "      <td>93091.848589</td>\n",
       "      <td>0.020000</td>\n",
       "      <td>3703.715041</td>\n",
       "      <td>0.085000</td>\n",
       "    </tr>\n",
       "    <tr>\n",
       "      <th>50%</th>\n",
       "      <td>113.000000</td>\n",
       "      <td>1488.086260</td>\n",
       "      <td>153191.686420</td>\n",
       "      <td>0.030000</td>\n",
       "      <td>4184.687138</td>\n",
       "      <td>0.170170</td>\n",
       "    </tr>\n",
       "    <tr>\n",
       "      <th>75%</th>\n",
       "      <td>190.000000</td>\n",
       "      <td>2515.392281</td>\n",
       "      <td>266193.252492</td>\n",
       "      <td>0.040000</td>\n",
       "      <td>4818.652459</td>\n",
       "      <td>0.254170</td>\n",
       "    </tr>\n",
       "    <tr>\n",
       "      <th>max</th>\n",
       "      <td>1734.000000</td>\n",
       "      <td>25607.771949</td>\n",
       "      <td>563337.874335</td>\n",
       "      <td>0.060000</td>\n",
       "      <td>6120.389503</td>\n",
       "      <td>0.339990</td>\n",
       "    </tr>\n",
       "  </tbody>\n",
       "</table>\n",
       "</div>"
      ],
      "text/plain": [
       "           turnover  volume_average   volume_total  fee_percentage  \\\n",
       "count  15521.000000    15521.000000   15521.000000    15521.000000   \n",
       "mean     148.298950     1972.301229  195254.833790        0.030696   \n",
       "std      125.720018     1705.089261  128345.086661        0.014923   \n",
       "min        2.000000       66.325584   51007.126724        0.010000   \n",
       "25%       65.000000      852.801344   93091.848589        0.020000   \n",
       "50%      113.000000     1488.086260  153191.686420        0.030000   \n",
       "75%      190.000000     2515.392281  266193.252492        0.040000   \n",
       "max     1734.000000    25607.771949  563337.874335        0.060000   \n",
       "\n",
       "          fee_total  segment_percentile  \n",
       "count  15521.000000        15521.000000  \n",
       "mean    4275.044596            0.169747  \n",
       "std      734.786223            0.098136  \n",
       "min     3060.324988            0.000000  \n",
       "25%     3703.715041            0.085000  \n",
       "50%     4184.687138            0.170170  \n",
       "75%     4818.652459            0.254170  \n",
       "max     6120.389503            0.339990  "
      ]
     },
     "execution_count": 546,
     "metadata": {},
     "output_type": "execute_result"
    }
   ],
   "source": [
    "traders[(traders.index.isin(sampled))&(traders.segment=='laggard')].describe()"
   ]
  },
  {
   "cell_type": "code",
   "execution_count": 403,
   "metadata": {},
   "outputs": [
    {
     "data": {
      "text/plain": [
       "<matplotlib.legend.Legend at 0x1539cc240>"
      ]
     },
     "execution_count": 403,
     "metadata": {},
     "output_type": "execute_result"
    },
    {
     "data": {
      "image/png": "[encoded data removed]",
      "text/plain": [
       "<Figure size 1440x720 with 1 Axes>"
      ]
     },
     "metadata": {},
     "output_type": "display_data"
    }
   ],
   "source": [
    "market = market.set_index('week')\n",
    "market.tokens_sold.cumsum().plot()\n",
    "market.demand.cumsum().plot()\n",
    "plt.legend()"
   ]
  },
  {
   "cell_type": "code",
   "execution_count": 288,
   "metadata": {},
   "outputs": [
    {
     "data": {
      "text/plain": [
       "<matplotlib.axes._subplots.AxesSubplot at 0x1512eb4a8>"
      ]
     },
     "execution_count": 288,
     "metadata": {},
     "output_type": "execute_result"
    },
    {
     "data": {
      "image/png": "[encoded data removed]",
      "text/plain": [
       "<Figure size 1440x720 with 1 Axes>"
      ]
     },
     "metadata": {},
     "output_type": "display_data"
    }
   ],
   "source": [
    "market[['tokens_sold']].plot()"
   ]
  },
  {
   "cell_type": "code",
   "execution_count": 191,
   "metadata": {},
   "outputs": [
    {
     "data": {
      "text/plain": [
       "<matplotlib.axes._subplots.AxesSubplot at 0x1299391d0>"
      ]
     },
     "execution_count": 191,
     "metadata": {},
     "output_type": "execute_result"
    },
    {
     "data": {
      "image/png": "[encoded data removed]",
      "text/plain": [
       "<Figure size 432x288 with 1 Axes>"
      ]
     },
     "metadata": {},
     "output_type": "display_data"
    }
   ],
   "source": [
    "market.set_index('week').demand.plot()"
   ]
  },
  {
   "cell_type": "markdown",
   "metadata": {},
   "source": [
    "# Market segments and the adoption cycle\n",
    "\n",
    "## Segments\n",
    "\n",
    "## Return schedule \n"
   ]
  },
  {
   "cell_type": "markdown",
   "metadata": {},
   "source": [
    "# The firm as a content provider"
   ]
  },
  {
   "cell_type": "markdown",
   "metadata": {},
   "source": [
    "# The firm as a government"
   ]
  },
  {
   "cell_type": "markdown",
   "metadata": {},
   "source": [
    "(what is the constraint on size? where is regulation need if at all?)"
   ]
  },
  {
   "cell_type": "markdown",
   "metadata": {},
   "source": [
    "# Conslusion"
   ]
  },
  {
   "cell_type": "markdown",
   "metadata": {},
   "source": [
    "## The market\n",
    "\n",
    "The firm is a price taker and must take into consideration what other exchanges are charging. Traders (potential members) will weigh the  The cost of using other services is function of the volume, frequency of trades, and graduated fee schedule that is typically percentage based. Traders must also weigh the liquidity of the exchange against their expected profit. "
   ]
  },
  {
   "cell_type": "code",
   "execution_count": 41,
   "metadata": {},
   "outputs": [],
   "source": [
    "\n"
   ]
  },
  {
   "cell_type": "code",
   "execution_count": 43,
   "metadata": {},
   "outputs": [
    {
     "data": {
      "text/html": [
       "<div>\n",
       "<style scoped>\n",
       "    .dataframe tbody tr th:only-of-type {\n",
       "        vertical-align: middle;\n",
       "    }\n",
       "\n",
       "    .dataframe tbody tr th {\n",
       "        vertical-align: top;\n",
       "    }\n",
       "\n",
       "    .dataframe thead th {\n",
       "        text-align: right;\n",
       "    }\n",
       "</style>\n",
       "<table border=\"1\" class=\"dataframe\">\n",
       "  <thead>\n",
       "    <tr style=\"text-align: right;\">\n",
       "      <th></th>\n",
       "      <th>turnover</th>\n",
       "      <th>volume_average</th>\n",
       "      <th>volume_total</th>\n",
       "      <th>fee_percentage</th>\n",
       "      <th>fee_total</th>\n",
       "      <th>segment_percentile</th>\n",
       "    </tr>\n",
       "  </thead>\n",
       "  <tbody>\n",
       "    <tr>\n",
       "      <th>count</th>\n",
       "      <td>1000000.000000</td>\n",
       "      <td>1000000.000000</td>\n",
       "      <td>1.000000e+06</td>\n",
       "      <td>1000000.000000</td>\n",
       "      <td>1000000.000000</td>\n",
       "      <td>1000000.000000</td>\n",
       "    </tr>\n",
       "    <tr>\n",
       "      <th>mean</th>\n",
       "      <td>124.843781</td>\n",
       "      <td>1664.151828</td>\n",
       "      <td>2.073267e+05</td>\n",
       "      <td>0.050000</td>\n",
       "      <td>2556.805632</td>\n",
       "      <td>0.499999</td>\n",
       "    </tr>\n",
       "    <tr>\n",
       "      <th>std</th>\n",
       "      <td>142.413079</td>\n",
       "      <td>1965.207647</td>\n",
       "      <td>4.395536e+05</td>\n",
       "      <td>0.031623</td>\n",
       "      <td>1794.049324</td>\n",
       "      <td>0.288675</td>\n",
       "    </tr>\n",
       "    <tr>\n",
       "      <th>min</th>\n",
       "      <td>0.000000</td>\n",
       "      <td>0.001397</td>\n",
       "      <td>0.000000e+00</td>\n",
       "      <td>0.000000</td>\n",
       "      <td>0.000000</td>\n",
       "      <td>0.000000</td>\n",
       "    </tr>\n",
       "    <tr>\n",
       "      <th>25%</th>\n",
       "      <td>32.000000</td>\n",
       "      <td>420.373489</td>\n",
       "      <td>1.860459e+04</td>\n",
       "      <td>0.020000</td>\n",
       "      <td>816.075013</td>\n",
       "      <td>0.250000</td>\n",
       "    </tr>\n",
       "    <tr>\n",
       "      <th>50%</th>\n",
       "      <td>80.000000</td>\n",
       "      <td>1038.611268</td>\n",
       "      <td>6.939578e+04</td>\n",
       "      <td>0.050000</td>\n",
       "      <td>2725.013456</td>\n",
       "      <td>0.500000</td>\n",
       "    </tr>\n",
       "    <tr>\n",
       "      <th>75%</th>\n",
       "      <td>166.000000</td>\n",
       "      <td>2184.958091</td>\n",
       "      <td>2.134657e+05</td>\n",
       "      <td>0.080000</td>\n",
       "      <td>4089.295486</td>\n",
       "      <td>0.749999</td>\n",
       "    </tr>\n",
       "    <tr>\n",
       "      <th>max</th>\n",
       "      <td>4115.000000</td>\n",
       "      <td>54386.747364</td>\n",
       "      <td>2.658129e+07</td>\n",
       "      <td>0.100000</td>\n",
       "      <td>6074.901724</td>\n",
       "      <td>0.999999</td>\n",
       "    </tr>\n",
       "  </tbody>\n",
       "</table>\n",
       "</div>"
      ],
      "text/plain": [
       "             turnover  volume_average  volume_total  fee_percentage  \\\n",
       "count  1000000.000000  1000000.000000  1.000000e+06  1000000.000000   \n",
       "mean       124.843781     1664.151828  2.073267e+05        0.050000   \n",
       "std        142.413079     1965.207647  4.395536e+05        0.031623   \n",
       "min          0.000000        0.001397  0.000000e+00        0.000000   \n",
       "25%         32.000000      420.373489  1.860459e+04        0.020000   \n",
       "50%         80.000000     1038.611268  6.939578e+04        0.050000   \n",
       "75%        166.000000     2184.958091  2.134657e+05        0.080000   \n",
       "max       4115.000000    54386.747364  2.658129e+07        0.100000   \n",
       "\n",
       "            fee_total  segment_percentile  \n",
       "count  1000000.000000      1000000.000000  \n",
       "mean      2556.805632            0.499999  \n",
       "std       1794.049324            0.288675  \n",
       "min          0.000000            0.000000  \n",
       "25%        816.075013            0.250000  \n",
       "50%       2725.013456            0.500000  \n",
       "75%       4089.295486            0.749999  \n",
       "max       6074.901724            0.999999  "
      ]
     },
     "execution_count": 43,
     "metadata": {},
     "output_type": "execute_result"
    }
   ],
   "source": [
    "traders.describe()"
   ]
  },
  {
   "cell_type": "code",
   "execution_count": 44,
   "metadata": {},
   "outputs": [
    {
     "data": {
      "text/html": [
       "<div>\n",
       "<style scoped>\n",
       "    .dataframe tbody tr th:only-of-type {\n",
       "        vertical-align: middle;\n",
       "    }\n",
       "\n",
       "    .dataframe tbody tr th {\n",
       "        vertical-align: top;\n",
       "    }\n",
       "\n",
       "    .dataframe thead th {\n",
       "        text-align: right;\n",
       "    }\n",
       "</style>\n",
       "<table border=\"1\" class=\"dataframe\">\n",
       "  <thead>\n",
       "    <tr style=\"text-align: right;\">\n",
       "      <th></th>\n",
       "      <th>turnover</th>\n",
       "      <th>volume_average</th>\n",
       "      <th>volume_total</th>\n",
       "      <th>fee_percentage</th>\n",
       "      <th>fee_total</th>\n",
       "      <th>segment_percentile</th>\n",
       "    </tr>\n",
       "  </thead>\n",
       "  <tbody>\n",
       "    <tr>\n",
       "      <th>turnover</th>\n",
       "      <td>1.000000</td>\n",
       "      <td>-0.001545</td>\n",
       "      <td>0.536884</td>\n",
       "      <td>-0.538765</td>\n",
       "      <td>0.087005</td>\n",
       "      <td>0.544910</td>\n",
       "    </tr>\n",
       "    <tr>\n",
       "      <th>volume_average</th>\n",
       "      <td>-0.001545</td>\n",
       "      <td>1.000000</td>\n",
       "      <td>0.556389</td>\n",
       "      <td>-0.528007</td>\n",
       "      <td>0.063191</td>\n",
       "      <td>0.533478</td>\n",
       "    </tr>\n",
       "    <tr>\n",
       "      <th>volume_total</th>\n",
       "      <td>0.536884</td>\n",
       "      <td>0.556389</td>\n",
       "      <td>1.000000</td>\n",
       "      <td>-0.561841</td>\n",
       "      <td>-0.145631</td>\n",
       "      <td>0.574788</td>\n",
       "    </tr>\n",
       "    <tr>\n",
       "      <th>fee_percentage</th>\n",
       "      <td>-0.538765</td>\n",
       "      <td>-0.528007</td>\n",
       "      <td>-0.561841</td>\n",
       "      <td>1.000000</td>\n",
       "      <td>-0.487636</td>\n",
       "      <td>-0.995859</td>\n",
       "    </tr>\n",
       "    <tr>\n",
       "      <th>fee_total</th>\n",
       "      <td>0.087005</td>\n",
       "      <td>0.063191</td>\n",
       "      <td>-0.145631</td>\n",
       "      <td>-0.487636</td>\n",
       "      <td>1.000000</td>\n",
       "      <td>0.504048</td>\n",
       "    </tr>\n",
       "    <tr>\n",
       "      <th>segment_percentile</th>\n",
       "      <td>0.544910</td>\n",
       "      <td>0.533478</td>\n",
       "      <td>0.574788</td>\n",
       "      <td>-0.995859</td>\n",
       "      <td>0.504048</td>\n",
       "      <td>1.000000</td>\n",
       "    </tr>\n",
       "  </tbody>\n",
       "</table>\n",
       "</div>"
      ],
      "text/plain": [
       "                    turnover  volume_average  volume_total  fee_percentage  \\\n",
       "turnover            1.000000       -0.001545      0.536884       -0.538765   \n",
       "volume_average     -0.001545        1.000000      0.556389       -0.528007   \n",
       "volume_total        0.536884        0.556389      1.000000       -0.561841   \n",
       "fee_percentage     -0.538765       -0.528007     -0.561841        1.000000   \n",
       "fee_total           0.087005        0.063191     -0.145631       -0.487636   \n",
       "segment_percentile  0.544910        0.533478      0.574788       -0.995859   \n",
       "\n",
       "                    fee_total  segment_percentile  \n",
       "turnover             0.087005            0.544910  \n",
       "volume_average       0.063191            0.533478  \n",
       "volume_total        -0.145631            0.574788  \n",
       "fee_percentage      -0.487636           -0.995859  \n",
       "fee_total            1.000000            0.504048  \n",
       "segment_percentile   0.504048            1.000000  "
      ]
     },
     "execution_count": 44,
     "metadata": {},
     "output_type": "execute_result"
    }
   ],
   "source": [
    "traders.corr()"
   ]
  },
  {
   "cell_type": "code",
   "execution_count": 45,
   "metadata": {},
   "outputs": [
    {
     "data": {
      "text/plain": [
       "2556805631.9218345"
      ]
     },
     "execution_count": 45,
     "metadata": {},
     "output_type": "execute_result"
    }
   ],
   "source": [
    "traders.fee_total.sum()"
   ]
  },
  {
   "cell_type": "markdown",
   "metadata": {},
   "source": [
    "We must assume that there is potential demand greater than the costs of development and operation (i.e. greater than \\\\$5m). And that development team is able to secure adequate compensation upfront (i.e. the \\\\$2m)."
   ]
  },
  {
   "cell_type": "code",
   "execution_count": 46,
   "metadata": {},
   "outputs": [
    {
     "data": {
      "text/plain": [
       "0.012332254491740087"
      ]
     },
     "execution_count": 46,
     "metadata": {},
     "output_type": "execute_result"
    }
   ],
   "source": [
    "traders.fee_total.sum()/traders.volume_total.sum()"
   ]
  },
  {
   "cell_type": "code",
   "execution_count": 54,
   "metadata": {},
   "outputs": [],
   "source": [
    "#demand_curves.plot(marker='x')"
   ]
  },
  {
   "cell_type": "code",
   "execution_count": 55,
   "metadata": {},
   "outputs": [
    {
     "data": {
      "text/plain": [
       "<matplotlib.axes._subplots.AxesSubplot at 0x118f3dc50>"
      ]
     },
     "execution_count": 55,
     "metadata": {},
     "output_type": "execute_result"
    },
    {
     "data": {
      "image/png": "[encoded data removed]",
      "text/plain": [
       "<Figure size 432x288 with 1 Axes>"
      ]
     },
     "metadata": {},
     "output_type": "display_data"
    }
   ],
   "source": [
    "demand_curves.plot()"
   ]
  },
  {
   "cell_type": "code",
   "execution_count": 59,
   "metadata": {},
   "outputs": [
    {
     "name": "stderr",
     "output_type": "stream",
     "text": [
      "No handles with labels found to put in legend.\n"
     ]
    },
    {
     "data": {
      "text/plain": [
       "<matplotlib.legend.Legend at 0x1193ee8d0>"
      ]
     },
     "execution_count": 59,
     "metadata": {},
     "output_type": "execute_result"
    },
    {
     "data": {
      "image/png": "[encoded data removed]",
      "text/plain": [
       "<Figure size 432x288 with 1 Axes>"
      ]
     },
     "metadata": {},
     "output_type": "display_data"
    }
   ],
   "source": [
    "traders.groupby('segment').fee_total.hist(stacked=True, bins=10)\n",
    "plt.legend()"
   ]
  },
  {
   "cell_type": "code",
   "execution_count": 945,
   "metadata": {},
   "outputs": [
    {
     "data": {
      "text/plain": [
       "Index(['turnover', 'volume_average', 'volume_total', 'fee_percentage',\n",
       "       'fee_total', 'segment_percentile'],\n",
       "      dtype='object')"
      ]
     },
     "execution_count": 945,
     "metadata": {},
     "output_type": "execute_result"
    }
   ],
   "source": [
    "traders.columns"
   ]
  },
  {
   "cell_type": "code",
   "execution_count": 940,
   "metadata": {},
   "outputs": [
    {
     "data": {
      "text/plain": [
       "<matplotlib.legend.Legend at 0x158d06748>"
      ]
     },
     "execution_count": 940,
     "metadata": {},
     "output_type": "execute_result"
    },
    {
     "data": {
      "image/png": "[encoded data removed]",
      "text/plain": [
       "<Figure size 1440x720 with 1 Axes>"
      ]
     },
     "metadata": {},
     "output_type": "display_data"
    }
   ],
   "source": [
    "plt.hist([traders[traders.segment_percentile==seg.volume_average for _, s in market_segments.iterrows()],\n",
    "    stacked=True, color = ['r','g','y','blue','brown'],bins=100,\n",
    "    label=market_segments.index)\n",
    "plt.legend()\n",
    "\n",
    "\n"
   ]
  },
  {
   "cell_type": "code",
   "execution_count": 950,
   "metadata": {},
   "outputs": [],
   "source": [
    "grouped = traders.groupby(traders.segment_percentile.round(1))"
   ]
  },
  {
   "cell_type": "code",
   "execution_count": 956,
   "metadata": {},
   "outputs": [
    {
     "name": "stderr",
     "output_type": "stream",
     "text": [
      "No handles with labels found to put in legend.\n"
     ]
    },
    {
     "data": {
      "text/plain": [
       "<matplotlib.legend.Legend at 0x12f47e4e0>"
      ]
     },
     "execution_count": 956,
     "metadata": {},
     "output_type": "execute_result"
    },
    {
     "data": {
      "image/png": "[encoded data removed]",
      "text/plain": [
       "<Figure size 1440x720 with 1 Axes>"
      ]
     },
     "metadata": {},
     "output_type": "display_data"
    }
   ],
   "source": [
    "grouped.fee_total.hist()"
   ]
  },
  {
   "cell_type": "markdown",
   "metadata": {},
   "source": [
    "Now we have to pick a membership price. We may want to choose the price that provides the greatest funding amount, which we can easily optomize for:"
   ]
  },
  {
   "cell_type": "code",
   "execution_count": null,
   "metadata": {},
   "outputs": [],
   "source": []
  },
  {
   "cell_type": "code",
   "execution_count": 127,
   "metadata": {},
   "outputs": [
    {
     "ename": "NameError",
     "evalue": "name 'funding' is not defined",
     "output_type": "error",
     "traceback": [
      "\u001b[0;31m---------------------------------------------------------------------------\u001b[0m",
      "\u001b[0;31mNameError\u001b[0m                                 Traceback (most recent call last)",
      "\u001b[0;32m<ipython-input-127-3eef0a2b5695>\u001b[0m in \u001b[0;36m<module>\u001b[0;34m()\u001b[0m\n\u001b[0;32m----> 1\u001b[0;31m \u001b[0mfunding\u001b[0m\u001b[0;34m.\u001b[0m\u001b[0mset_index\u001b[0m\u001b[0;34m(\u001b[0m\u001b[0;34m'price'\u001b[0m\u001b[0;34m)\u001b[0m\u001b[0;34m[\u001b[0m\u001b[0mlist\u001b[0m\u001b[0;34m(\u001b[0m\u001b[0mmarket_segments\u001b[0m\u001b[0;34m.\u001b[0m\u001b[0mkeys\u001b[0m\u001b[0;34m(\u001b[0m\u001b[0;34m)\u001b[0m\u001b[0;34m)\u001b[0m\u001b[0;34m]\u001b[0m\u001b[0;34m.\u001b[0m\u001b[0mplot\u001b[0m\u001b[0;34m(\u001b[0m\u001b[0;34m)\u001b[0m\u001b[0;34m\u001b[0m\u001b[0m\n\u001b[0m\u001b[1;32m      2\u001b[0m \u001b[0mplt\u001b[0m\u001b[0;34m.\u001b[0m\u001b[0mplot\u001b[0m\u001b[0;34m(\u001b[0m\u001b[0;34m[\u001b[0m\u001b[0mmember_price\u001b[0m\u001b[0;34m]\u001b[0m\u001b[0;34m,\u001b[0m\u001b[0;34m[\u001b[0m\u001b[0mconstrained_demand\u001b[0m\u001b[0;34m.\u001b[0m\u001b[0miloc\u001b[0m\u001b[0;34m[\u001b[0m\u001b[0;34m-\u001b[0m\u001b[0;36m1\u001b[0m\u001b[0;34m]\u001b[0m\u001b[0;34m.\u001b[0m\u001b[0minnovators\u001b[0m\u001b[0;34m]\u001b[0m\u001b[0;34m,\u001b[0m \u001b[0mmarker\u001b[0m\u001b[0;34m=\u001b[0m\u001b[0;34m'*'\u001b[0m\u001b[0;34m,\u001b[0m \u001b[0mlabel\u001b[0m\u001b[0;34m=\u001b[0m\u001b[0;34m'Initial funding'\u001b[0m\u001b[0;34m)\u001b[0m\u001b[0;34m\u001b[0m\u001b[0m\n\u001b[1;32m      3\u001b[0m \u001b[0mplt\u001b[0m\u001b[0;34m.\u001b[0m\u001b[0mlegend\u001b[0m\u001b[0;34m(\u001b[0m\u001b[0;34m)\u001b[0m\u001b[0;34m\u001b[0m\u001b[0m\n",
      "\u001b[0;31mNameError\u001b[0m: name 'funding' is not defined"
     ]
    }
   ],
   "source": [
    "demand.set_index('price')[market_segments.index].plot()\n",
    "plt.plot([member_price],[optimum.innovators], marker='*', label='Initial funding')\n",
    "plt.legend()"
   ]
  },
  {
   "cell_type": "markdown",
   "metadata": {},
   "source": [
    "So we could potentially raise \\\\$1.4 billion, but we probably don't need that much. There would also be constraints on participation that prevent the total addressable market from taking part in the fundraising. Instead, how about we set the price based on the expected total cost of \\\\$10 million. \n",
    "\n",
    "The potential for returns is constrained by this initial price relative to the optimal price (\\\\$3000) that participants are willing to pay in the future.  \n",
    "\n",
    "The potential for further funding is constrained by the market segments that have adopted the exchange. As the more mainstream markets are tapped into these new members will pay for further development and operational upkeep. "
   ]
  },
  {
   "cell_type": "code",
   "execution_count": 564,
   "metadata": {},
   "outputs": [
    {
     "data": {
      "text/plain": [
       "(5.086089480267383, 1389529294.172693)"
      ]
     },
     "execution_count": 564,
     "metadata": {},
     "output_type": "execute_result"
    }
   ],
   "source": [
    "max_profit = (optimum.price.values[0] - member_price)/member_price\n",
    "max_funding = optimum.max_demand.values[0] - funding_options.iloc[-1].innovators\n",
    "max_profit, max_funding"
   ]
  },
  {
   "cell_type": "markdown",
   "metadata": {},
   "source": [
    "The most desirable outcome is that the firm can move into each new market segment as it makes the product more user friendly and adequately convenient. These pushes into new market segments will require additional funding. The investor simply speculates on the success of a funding cycle materializing into broad demand within the next market segment. Within each segment the exchange will "
   ]
  },
  {
   "cell_type": "markdown",
   "metadata": {},
   "source": [
    "consumption set\n",
    "competitive budget set\n",
    "utility maximization \n"
   ]
  },
  {
   "cell_type": "code",
   "execution_count": 561,
   "metadata": {},
   "outputs": [
    {
     "data": {
      "text/plain": [
       "(1985600.0, 794240.0000000001)"
      ]
     },
     "execution_count": 561,
     "metadata": {},
     "output_type": "execute_result"
    }
   ],
   "source": [
    "budget = member_price * traders[traders.fee_total>member_price].sample(frac=market_segments['innovators']).shape[0]\n",
    "dev_budget = .2 * budget\n",
    "estimated_salary = 200000\n",
    "developer_count = dev_budget / estimated_salary\n",
    "avg_cost_of_living = 80000\n",
    "total_cost_of_living = developer_count * avg_cost_of_living\n",
    "dev_budget, total_cost_of_living\n"
   ]
  },
  {
   "cell_type": "code",
   "execution_count": 562,
   "metadata": {},
   "outputs": [
    {
     "data": {
      "text/plain": [
       "1588.4800000000002"
      ]
     },
     "execution_count": 562,
     "metadata": {},
     "output_type": "execute_result"
    }
   ],
   "source": [
    "total_cost_of_living/member_price"
   ]
  },
  {
   "cell_type": "markdown",
   "metadata": {},
   "source": [
    "As developers build out the platform they will begin to have a better gauge of its viability. If it seems that the platform could become bigger than anticipated they may require a premium above the original price. Assuming that there is a constraint on funding participation the early adopters will account for a small portion of the total market. Seeing this developers will gauge how much more of the market they can tap into. "
   ]
  },
  {
   "cell_type": "code",
   "execution_count": null,
   "metadata": {},
   "outputs": [],
   "source": []
  },
  {
   "cell_type": "markdown",
   "metadata": {},
   "source": [
    "These are lower volume traders which means the cost of processing and storing their transactions would also be less than what other exchanges must incur. Server and storage costs are a function of the compute power needed to execute the conract and the number of bytes in a transaction that need to be stored. The value exchanged doesn't matter, so the percentage fee model that is used by exchanges and payment processors is suboptimal is open to disruption. "
   ]
  },
  {
   "cell_type": "markdown",
   "metadata": {},
   "source": [
    "**Scenarios**\n",
    "\n",
    "- developers don't want to sell their equity \n",
    "- developers sell equity but initial investers / users don't want to sell equity \n",
    "- no one wants to use the service"
   ]
  },
  {
   "cell_type": "code",
   "execution_count": 477,
   "metadata": {},
   "outputs": [
    {
     "data": {
      "text/plain": [
       "246600.0"
      ]
     },
     "execution_count": 477,
     "metadata": {},
     "output_type": "execute_result"
    }
   ],
   "source": [
    "budget = member_price * investors.shape[0]\n",
    "teams = ['database_protocol', 'order_management_protocol','interface','product_management']\n",
    "budget / len(teams) / 10\n"
   ]
  },
  {
   "cell_type": "code",
   "execution_count": 478,
   "metadata": {},
   "outputs": [
    {
     "data": {
      "text/plain": [
       "9864000.0"
      ]
     },
     "execution_count": 478,
     "metadata": {},
     "output_type": "execute_result"
    }
   ],
   "source": [
    "budget"
   ]
  },
  {
   "cell_type": "code",
   "execution_count": 472,
   "metadata": {},
   "outputs": [],
   "source": [
    "\n",
    "\n",
    "development_time = td(days=365*2)\n",
    "cost_of_living = 100"
   ]
  },
  {
   "cell_type": "code",
   "execution_count": 345,
   "metadata": {},
   "outputs": [
    {
     "data": {
      "text/plain": [
       "20"
      ]
     },
     "execution_count": 345,
     "metadata": {},
     "output_type": "execute_result"
    }
   ],
   "source": [
    "len(prices)"
   ]
  },
  {
   "cell_type": "code",
   "execution_count": 339,
   "metadata": {},
   "outputs": [
    {
     "data": {
      "text/plain": [
       "404000"
      ]
     },
     "execution_count": 339,
     "metadata": {},
     "output_type": "execute_result"
    }
   ],
   "source": [
    "investors.count()[0]*member_price"
   ]
  },
  {
   "cell_type": "code",
   "execution_count": null,
   "metadata": {},
   "outputs": [],
   "source": [
    "investors."
   ]
  },
  {
   "cell_type": "code",
   "execution_count": 314,
   "metadata": {},
   "outputs": [],
   "source": [
    "polo = Exchange('poloniex')\n",
    "\n",
    "etc = change_period_freq(polo.get_ohlcv('etc','usdt'), '1D')\n",
    "btc = change_period_freq(polo.get_ohlcv('btc','usdt'), '1D')\n",
    "returns = (etc.close.pct_change()+btc.close.pct_change())/2\n",
    "returns = returns[dt.now()-td(days=365):]\n",
    "\n",
    "def get_expected_returns(trader):\n",
    "    try:\n",
    "        trade_freq = max([td(days=365)/int(trader.turnover),td(days=2)])\n",
    "        cum_return = returns.groupby(pd.Grouper(freq=trade_freq)).mean().max()*(trader.turnover/5)\n",
    "    except Exception as e:\n",
    "        cum_return = 0\n",
    "    return cum_return * alpha_variance\n",
    "\n",
    "# profit \n",
    "#alpha_variance = 1\n",
    "#traders['expected_returns'] = traders.apply(get_expected_returns, axis=1).fillna(0)"
   ]
  }
 ],
 "metadata": {
  "kernelspec": {
   "display_name": "Python 3",
   "language": "python",
   "name": "python3"
  },
  "language_info": {
   "codemirror_mode": {
    "name": "ipython",
    "version": 3
   },
   "file_extension": ".py",
   "mimetype": "text/x-python",
   "name": "python",
   "nbconvert_exporter": "python",
   "pygments_lexer": "ipython3",
   "version": "3.7.0"
  },
  "toc": {
   "base_numbering": 1,
   "nav_menu": {},
   "number_sections": true,
   "sideBar": true,
   "skip_h1_title": false,
   "title_cell": "Table of Contents",
   "title_sidebar": "Contents",
   "toc_cell": false,
   "toc_position": {},
   "toc_section_display": true,
   "toc_window_display": false
  }
 },
 "nbformat": 4,
 "nbformat_minor": 2
}
