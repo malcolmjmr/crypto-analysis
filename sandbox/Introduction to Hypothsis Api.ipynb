{
 "cells": [
  {
   "cell_type": "code",
   "execution_count": 134,
   "metadata": {},
   "outputs": [],
   "source": [
    "from datetime import datetime as dt\n",
    "from IPython.display import IFrame\n",
    "\n",
    "import os \n",
    "import requests\n",
    "import pandas as pd\n",
    "from pandas.io.json import json_normalize"
   ]
  },
  {
   "cell_type": "code",
   "execution_count": 26,
   "metadata": {},
   "outputs": [],
   "source": [
    "API_URL = 'https://hypothes.is/api/'\n",
    "API_REF_URL = 'https://h.readthedocs.io/en/latest/api-reference/'\n",
    "API_TOKEN = '6879-zbVCq3wU5_xddQb4BR85liZRfhL4Iqz6CmOYN56o2Eo'"
   ]
  },
  {
   "cell_type": "markdown",
   "metadata": {},
   "source": [
    "Todo\n",
    "- [x] [get api methods and urls](#API-Methods-and-URLs)\n",
    "- [x] [create new group (Token Whitepapers)](#Create-Group)\n",
    "- [x] [get group](#Get-Group)\n",
    "- [x] [search annotations](#Search)\n",
    " - [x] by group\n",
    " - [ ] by keyword\n",
    " - [ ] by time\n",
    "\n",
    "- [ ] [create a visual of annotations over time](#Visualize-Annotations)"
   ]
  },
  {
   "cell_type": "markdown",
   "metadata": {},
   "source": [
    "### API Methods and URLs"
   ]
  },
  {
   "cell_type": "code",
   "execution_count": 48,
   "metadata": {},
   "outputs": [],
   "source": [
    "res = requests.get(API_URL)\n",
    "api = res.json()['links']"
   ]
  },
  {
   "cell_type": "code",
   "execution_count": 49,
   "metadata": {},
   "outputs": [
    {
     "data": {
      "text/plain": [
       "dict_keys(['profile', 'search', 'group', 'links', 'user', 'groups', 'annotation'])"
      ]
     },
     "execution_count": 49,
     "metadata": {},
     "output_type": "execute_result"
    }
   ],
   "source": [
    "api.keys()"
   ]
  },
  {
   "cell_type": "markdown",
   "metadata": {},
   "source": [
    "### Create Group"
   ]
  },
  {
   "cell_type": "code",
   "execution_count": 44,
   "metadata": {},
   "outputs": [
    {
     "data": {
      "text/html": [
       "\n",
       "        <iframe\n",
       "            width=\"600\"\n",
       "            height=\"500\"\n",
       "            src=\"https://h.readthedocs.io/en/latest/api-reference/#operation/createGroup\"\n",
       "            frameborder=\"0\"\n",
       "            allowfullscreen\n",
       "        ></iframe>\n",
       "        "
      ],
      "text/plain": [
       "<IPython.lib.display.IFrame at 0x117f2dda0>"
      ]
     },
     "execution_count": 44,
     "metadata": {},
     "output_type": "execute_result"
    }
   ],
   "source": [
    "IFrame(f'{API_REF_URL}#operation/createGroup', 600, 500)"
   ]
  },
  {
   "cell_type": "code",
   "execution_count": 50,
   "metadata": {},
   "outputs": [
    {
     "data": {
      "text/plain": [
       "{'url': 'https://hypothes.is/api/groups',\n",
       " 'method': 'POST',\n",
       " 'desc': 'Create a new group'}"
      ]
     },
     "execution_count": 50,
     "metadata": {},
     "output_type": "execute_result"
    }
   ],
   "source": [
    "api['group']['create']"
   ]
  },
  {
   "cell_type": "code",
   "execution_count": 68,
   "metadata": {},
   "outputs": [],
   "source": [
    "new_group_name = 'Token Whitepapers'\n",
    "new_group_desc = 'Annotation group for token whitepapers'"
   ]
  },
  {
   "cell_type": "code",
   "execution_count": 69,
   "metadata": {},
   "outputs": [
    {
     "data": {
      "text/plain": [
       "'{\"scopes\": {\"uri_patterns\": [], \"enforced\": false}, \"name\": \"Token Whitepapers\", \"links\": {\"html\": \"https://hypothes.is/groups/LALjzxP7/token-whitepapers\"}, \"id\": \"LALjzxP7\", \"groupid\": null, \"scoped\": false, \"organization\": null, \"type\": \"private\", \"public\": false}'"
      ]
     },
     "execution_count": 69,
     "metadata": {},
     "output_type": "execute_result"
    }
   ],
   "source": [
    "res = requests.request(\n",
    "    api['group']['create']['method'],\n",
    "    api['group']['create']['url'],\n",
    "    headers={\n",
    "        'Authorization': f'Bearer {API_TOKEN}',\n",
    "        'Accept': 'application/json'\n",
    "    },\n",
    "    json={\n",
    "        'name': new_group_name,\n",
    "        'description': new_group_desc\n",
    "    }\n",
    ")\n",
    "\n",
    "res.text"
   ]
  },
  {
   "cell_type": "markdown",
   "metadata": {},
   "source": [
    "### Get Group"
   ]
  },
  {
   "cell_type": "code",
   "execution_count": 88,
   "metadata": {
    "scrolled": false
   },
   "outputs": [
    {
     "data": {
      "text/html": [
       "\n",
       "        <iframe\n",
       "            width=\"600\"\n",
       "            height=\"500\"\n",
       "            src=\"https://h.readthedocs.io/en/latest/api-reference/#tag/groups\"\n",
       "            frameborder=\"0\"\n",
       "            allowfullscreen\n",
       "        ></iframe>\n",
       "        "
      ],
      "text/plain": [
       "<IPython.lib.display.IFrame at 0x117f83518>"
      ]
     },
     "execution_count": 88,
     "metadata": {},
     "output_type": "execute_result"
    }
   ],
   "source": [
    "IFrame(f'{API_REF_URL}#op', 600, 500)"
   ]
  },
  {
   "cell_type": "code",
   "execution_count": 89,
   "metadata": {},
   "outputs": [
    {
     "data": {
      "text/plain": [
       "{'read': {'url': 'https://hypothes.is/api/groups',\n",
       "  'method': 'GET',\n",
       "  'desc': \"Fetch the user's groups\"}}"
      ]
     },
     "execution_count": 89,
     "metadata": {},
     "output_type": "execute_result"
    }
   ],
   "source": [
    "api['groups']"
   ]
  },
  {
   "cell_type": "code",
   "execution_count": 90,
   "metadata": {},
   "outputs": [],
   "source": [
    "res = requests.request(\n",
    "    api['groups']['read']['method'],\n",
    "    api['groups']['read']['url'],\n",
    "    headers={\n",
    "        'Authorization': f'Bearer {API_TOKEN}',\n",
    "        'Accept': 'application/json'\n",
    "    }\n",
    ")\n",
    "\n",
    "groups = res.json()"
   ]
  },
  {
   "cell_type": "code",
   "execution_count": 91,
   "metadata": {},
   "outputs": [
    {
     "data": {
      "text/plain": [
       "10"
      ]
     },
     "execution_count": 91,
     "metadata": {},
     "output_type": "execute_result"
    }
   ],
   "source": [
    "len(groups)"
   ]
  },
  {
   "cell_type": "code",
   "execution_count": 92,
   "metadata": {},
   "outputs": [
    {
     "data": {
      "text/plain": [
       "dict_keys(['name', 'links', 'id', 'groupid', 'scoped', 'organization', 'type', 'public'])"
      ]
     },
     "execution_count": 92,
     "metadata": {},
     "output_type": "execute_result"
    }
   ],
   "source": [
    "groups[0].keys()"
   ]
  },
  {
   "cell_type": "code",
   "execution_count": 94,
   "metadata": {},
   "outputs": [
    {
     "data": {
      "text/plain": [
       "{'name': 'Token Whitepapers',\n",
       " 'links': {'html': 'https://hypothes.is/groups/LALjzxP7/token-whitepapers'},\n",
       " 'id': 'LALjzxP7',\n",
       " 'groupid': None,\n",
       " 'scoped': False,\n",
       " 'organization': None,\n",
       " 'type': 'private',\n",
       " 'public': False}"
      ]
     },
     "execution_count": 94,
     "metadata": {},
     "output_type": "execute_result"
    }
   ],
   "source": [
    "new_group = list(filter(lambda g: g['name']==new_group_name, groups))[0]\n",
    "new_group"
   ]
  },
  {
   "cell_type": "code",
   "execution_count": 95,
   "metadata": {},
   "outputs": [
    {
     "data": {
      "text/plain": [
       "{'url': 'https://hypothes.is/api/groups/:id',\n",
       " 'method': 'GET',\n",
       " 'desc': 'Fetch a group'}"
      ]
     },
     "execution_count": 95,
     "metadata": {},
     "output_type": "execute_result"
    }
   ],
   "source": [
    "api['group']['read']"
   ]
  },
  {
   "cell_type": "code",
   "execution_count": 96,
   "metadata": {},
   "outputs": [],
   "source": [
    "res = requests.request(\n",
    "    api['group']['read']['method'],\n",
    "    api['group']['read']['url'].replace(':id',new_group['id']),\n",
    "    headers={\n",
    "        'Authorization': f'Bearer {API_TOKEN}',\n",
    "        'Accept': 'application/json'\n",
    "    }\n",
    ")\n",
    "\n",
    "new_group['data'] = res.json()"
   ]
  },
  {
   "cell_type": "code",
   "execution_count": 97,
   "metadata": {},
   "outputs": [
    {
     "data": {
      "text/plain": [
       "{'name': 'Token Whitepapers',\n",
       " 'links': {'html': 'https://hypothes.is/groups/LALjzxP7/token-whitepapers'},\n",
       " 'id': 'LALjzxP7',\n",
       " 'groupid': None,\n",
       " 'scoped': False,\n",
       " 'organization': None,\n",
       " 'type': 'private',\n",
       " 'public': False}"
      ]
     },
     "execution_count": 97,
     "metadata": {},
     "output_type": "execute_result"
    }
   ],
   "source": [
    "new_group['data']"
   ]
  },
  {
   "cell_type": "code",
   "execution_count": 98,
   "metadata": {},
   "outputs": [
    {
     "data": {
      "text/plain": [
       "'LALjzxP7'"
      ]
     },
     "execution_count": 98,
     "metadata": {},
     "output_type": "execute_result"
    }
   ],
   "source": [
    "new_group['id']"
   ]
  },
  {
   "cell_type": "markdown",
   "metadata": {},
   "source": [
    "### Search"
   ]
  },
  {
   "cell_type": "code",
   "execution_count": 100,
   "metadata": {},
   "outputs": [
    {
     "data": {
      "text/html": [
       "\n",
       "        <iframe\n",
       "            width=\"600\"\n",
       "            height=\"500\"\n",
       "            src=\"https://h.readthedocs.io/en/latest/api-reference/#operation/search\"\n",
       "            frameborder=\"0\"\n",
       "            allowfullscreen\n",
       "        ></iframe>\n",
       "        "
      ],
      "text/plain": [
       "<IPython.lib.display.IFrame at 0x117f989b0>"
      ]
     },
     "execution_count": 100,
     "metadata": {},
     "output_type": "execute_result"
    }
   ],
   "source": [
    "IFrame(f'{API_REF_URL}#operation/search', 600, 500)"
   ]
  },
  {
   "cell_type": "code",
   "execution_count": 102,
   "metadata": {},
   "outputs": [
    {
     "data": {
      "text/plain": [
       "{'url': 'https://hypothes.is/api/search',\n",
       " 'method': 'GET',\n",
       " 'desc': 'Search for annotations'}"
      ]
     },
     "execution_count": 102,
     "metadata": {},
     "output_type": "execute_result"
    }
   ],
   "source": [
    "api['search']"
   ]
  },
  {
   "cell_type": "code",
   "execution_count": 156,
   "metadata": {},
   "outputs": [],
   "source": [
    "res = requests.request(\n",
    "    api['search']['method'],\n",
    "    api['search']['url'],\n",
    "    headers={\n",
    "        'Authorization': f'Bearer {API_TOKEN}',\n",
    "        'Accept': 'application/json'\n",
    "    },\n",
    "    params={\n",
    "        'group': new_group['id'],\n",
    "        'user:': 'malcolmjmr',\n",
    "        'limit': 200\n",
    "    }\n",
    ")\n",
    "\n",
    "query_result = res.json()"
   ]
  },
  {
   "cell_type": "code",
   "execution_count": 157,
   "metadata": {},
   "outputs": [
    {
     "data": {
      "text/plain": [
       "27"
      ]
     },
     "execution_count": 157,
     "metadata": {},
     "output_type": "execute_result"
    }
   ],
   "source": [
    "query_result['total']"
   ]
  },
  {
   "cell_type": "code",
   "execution_count": 158,
   "metadata": {},
   "outputs": [
    {
     "data": {
      "text/plain": [
       "{'updated': '2019-02-05T18:24:49.608813+00:00',\n",
       " 'group': 'LALjzxP7',\n",
       " 'target': [{'source': 'https://bitcoin.org/bitcoin.pdf',\n",
       "   'selector': [{'type': 'TextPositionSelector', 'end': 1280, 'start': 1275},\n",
       "    {'exact': 'proof',\n",
       "     'prefix': '  longestproof-of-work chain as ',\n",
       "     'type': 'TextQuoteSelector',\n",
       "     'suffix': ' of what happened while they wer'}]}],\n",
       " 'links': {'json': 'https://hypothes.is/api/annotations/UrMJWilzEemJkTc4McKOYw',\n",
       "  'html': 'https://hypothes.is/a/UrMJWilzEemJkTc4McKOYw',\n",
       "  'incontext': 'https://hyp.is/UrMJWilzEemJkTc4McKOYw/bitcoin.org/bitcoin.pdf'},\n",
       " 'tags': ['requirement'],\n",
       " 'text': '',\n",
       " 'created': '2019-02-05T18:24:49.608813+00:00',\n",
       " 'uri': 'https://bitcoin.org/bitcoin.pdf',\n",
       " 'flagged': False,\n",
       " 'user_info': {'display_name': None},\n",
       " 'moderation': {'flagCount': 0},\n",
       " 'user': 'acct:malcolmjmr@hypothes.is',\n",
       " 'hidden': False,\n",
       " 'document': {'title': ['bitcoin.pdf']},\n",
       " 'id': 'UrMJWilzEemJkTc4McKOYw',\n",
       " 'permissions': {'read': ['group:LALjzxP7'],\n",
       "  'admin': ['acct:malcolmjmr@hypothes.is'],\n",
       "  'update': ['acct:malcolmjmr@hypothes.is'],\n",
       "  'delete': ['acct:malcolmjmr@hypothes.is']}}"
      ]
     },
     "execution_count": 158,
     "metadata": {},
     "output_type": "execute_result"
    }
   ],
   "source": [
    "query_result['rows'][0]"
   ]
  },
  {
   "cell_type": "code",
   "execution_count": 161,
   "metadata": {},
   "outputs": [
    {
     "data": {
      "text/plain": [
       "created                   datetime64[ns]\n",
       "document.title                    object\n",
       "flagged                             bool\n",
       "group                             object\n",
       "hidden                              bool\n",
       "id                                object\n",
       "links.html                        object\n",
       "links.incontext                   object\n",
       "links.json                        object\n",
       "moderation.flagCount               int64\n",
       "permissions.admin                 object\n",
       "permissions.delete                object\n",
       "permissions.read                  object\n",
       "permissions.update                object\n",
       "tags                              object\n",
       "target                            object\n",
       "text                              object\n",
       "updated                   datetime64[ns]\n",
       "uri                               object\n",
       "user                              object\n",
       "user_info.display_name            object\n",
       "concept                           object\n",
       "dtype: object"
      ]
     },
     "execution_count": 161,
     "metadata": {},
     "output_type": "execute_result"
    }
   ],
   "source": [
    "annotations = json_normalize(query_result['rows'])\n",
    "for col in ['created','updated']:\n",
    "    annotations[col] = pd.to_datetime(annotations[col])\n",
    "    \n",
    "annotations['concept'] = annotations.target.apply(lambda t: t[0]['selector'][1]['exact'].strip().lower())\n",
    "annotations['tags'] = annotations.tags.apply(lambda t: ','.join(t))\n",
    "annotations\n",
    "\n",
    "annotations.dtypes"
   ]
  },
  {
   "cell_type": "code",
   "execution_count": 172,
   "metadata": {},
   "outputs": [
    {
     "data": {
      "text/html": [
       "<div>\n",
       "<style scoped>\n",
       "    .dataframe tbody tr th:only-of-type {\n",
       "        vertical-align: middle;\n",
       "    }\n",
       "\n",
       "    .dataframe tbody tr th {\n",
       "        vertical-align: top;\n",
       "    }\n",
       "\n",
       "    .dataframe thead th {\n",
       "        text-align: right;\n",
       "    }\n",
       "</style>\n",
       "<table border=\"1\" class=\"dataframe\">\n",
       "  <thead>\n",
       "    <tr style=\"text-align: right;\">\n",
       "      <th></th>\n",
       "      <th>tags</th>\n",
       "      <th>links.incontext</th>\n",
       "      <th>uri</th>\n",
       "    </tr>\n",
       "    <tr>\n",
       "      <th>concept</th>\n",
       "      <th></th>\n",
       "      <th></th>\n",
       "      <th></th>\n",
       "    </tr>\n",
       "  </thead>\n",
       "  <tbody>\n",
       "    <tr>\n",
       "      <th>proof</th>\n",
       "      <td>requirement</td>\n",
       "      <td>https://hyp.is/UrMJWilzEemJkTc4McKOYw/bitcoin....</td>\n",
       "      <td>https://bitcoin.org/bitcoin.pdf</td>\n",
       "    </tr>\n",
       "    <tr>\n",
       "      <th>rejoin</th>\n",
       "      <td>requirement</td>\n",
       "      <td>https://hyp.is/RpxYdClzEem8GcsPtIBiDQ/bitcoin....</td>\n",
       "      <td>https://bitcoin.org/bitcoin.pdf</td>\n",
       "    </tr>\n",
       "    <tr>\n",
       "      <th>leave</th>\n",
       "      <td>requirement</td>\n",
       "      <td>https://hyp.is/P5zTqilzEemeIdsZZuqFSA/bitcoin....</td>\n",
       "      <td>https://bitcoin.org/bitcoin.pdf</td>\n",
       "    </tr>\n",
       "    <tr>\n",
       "      <th>message</th>\n",
       "      <td>requirement,solution</td>\n",
       "      <td>https://hyp.is/JMKhQClzEemkhq_VlIQedw/bitcoin....</td>\n",
       "      <td>https://bitcoin.org/bitcoin.pdf</td>\n",
       "    </tr>\n",
       "    <tr>\n",
       "      <th>broadcast</th>\n",
       "      <td>solution</td>\n",
       "      <td>https://hyp.is/6swf7CluEemoEzdheYbNCA/bitcoin....</td>\n",
       "      <td>https://bitcoin.org/bitcoin.pdf</td>\n",
       "    </tr>\n",
       "    <tr>\n",
       "      <th>network</th>\n",
       "      <td>solution,requirement</td>\n",
       "      <td>https://hyp.is/eE10CClyEemqxc-OkRxPJA/bitcoin....</td>\n",
       "      <td>https://bitcoin.org/bitcoin.pdf</td>\n",
       "    </tr>\n",
       "    <tr>\n",
       "      <th>attack</th>\n",
       "      <td>problem</td>\n",
       "      <td>https://hyp.is/3jet5iluEeml-YdeUcmiIw/bitcoin....</td>\n",
       "      <td>https://bitcoin.org/bitcoin.pdf</td>\n",
       "    </tr>\n",
       "    <tr>\n",
       "      <th>node</th>\n",
       "      <td>solution,requirement</td>\n",
       "      <td>https://hyp.is/VSNUoilyEemgqIPxV4YmZw/bitcoin....</td>\n",
       "      <td>https://bitcoin.org/bitcoin.pdf</td>\n",
       "    </tr>\n",
       "    <tr>\n",
       "      <th>majority</th>\n",
       "      <td>solution,problem</td>\n",
       "      <td>https://hyp.is/1yvAoCluEemOXrOGRlaDcA/bitcoin....</td>\n",
       "      <td>https://bitcoin.org/bitcoin.pdf</td>\n",
       "    </tr>\n",
       "    <tr>\n",
       "      <th>cpu power</th>\n",
       "      <td>solution</td>\n",
       "      <td>https://hyp.is/M1MpLilyEemMW6c7OKWc7A/bitcoin....</td>\n",
       "      <td>https://bitcoin.org/bitcoin.pdf</td>\n",
       "    </tr>\n",
       "    <tr>\n",
       "      <th>cpu</th>\n",
       "      <td>solution</td>\n",
       "      <td>https://hyp.is/HPZtWClyEemmAR_JDNga_A/bitcoin....</td>\n",
       "      <td>https://bitcoin.org/bitcoin.pdf</td>\n",
       "    </tr>\n",
       "    <tr>\n",
       "      <th>pool</th>\n",
       "      <td>solution</td>\n",
       "      <td>https://hyp.is/yp1NLCluEemi7XsjqAsQDw/bitcoin....</td>\n",
       "      <td>https://bitcoin.org/bitcoin.pdf</td>\n",
       "    </tr>\n",
       "    <tr>\n",
       "      <th>longest chain</th>\n",
       "      <td>solution</td>\n",
       "      <td>https://hyp.is/vuxMlCluEemse7OquCmKZQ/bitcoin....</td>\n",
       "      <td>https://bitcoin.org/bitcoin.pdf</td>\n",
       "    </tr>\n",
       "    <tr>\n",
       "      <th>record</th>\n",
       "      <td>solution</td>\n",
       "      <td>https://hyp.is/uleEZCluEemw9YeincTPxw/bitcoin....</td>\n",
       "      <td>https://bitcoin.org/bitcoin.pdf</td>\n",
       "    </tr>\n",
       "    <tr>\n",
       "      <th>proof-of-work</th>\n",
       "      <td>solution</td>\n",
       "      <td>https://hyp.is/srS_iCluEemN_8MpOeRvuw/bitcoin....</td>\n",
       "      <td>https://bitcoin.org/bitcoin.pdf</td>\n",
       "    </tr>\n",
       "    <tr>\n",
       "      <th>chain</th>\n",
       "      <td>solution</td>\n",
       "      <td>https://hyp.is/sH3IXiluEemNL-cOLpXXdA/bitcoin....</td>\n",
       "      <td>https://bitcoin.org/bitcoin.pdf</td>\n",
       "    </tr>\n",
       "    <tr>\n",
       "      <th>hash</th>\n",
       "      <td>solution</td>\n",
       "      <td>https://hyp.is/zpsKOClxEemdJtvXeYAbcA/bitcoin....</td>\n",
       "      <td>https://bitcoin.org/bitcoin.pdf</td>\n",
       "    </tr>\n",
       "    <tr>\n",
       "      <th>transaction</th>\n",
       "      <td>requirement,problem</td>\n",
       "      <td>https://hyp.is/tImN1ilxEem4ujdliG62dg/bitcoin....</td>\n",
       "      <td>https://bitcoin.org/bitcoin.pdf</td>\n",
       "    </tr>\n",
       "    <tr>\n",
       "      <th>timestamp</th>\n",
       "      <td>solution</td>\n",
       "      <td>https://hyp.is/fopFBClxEemSjpP64P7xBw/bitcoin....</td>\n",
       "      <td>https://bitcoin.org/bitcoin.pdf</td>\n",
       "    </tr>\n",
       "    <tr>\n",
       "      <th>double-spend</th>\n",
       "      <td>problem</td>\n",
       "      <td>https://hyp.is/Y1ReyClxEemrKB_oA6DwCw/bitcoin....</td>\n",
       "      <td>https://bitcoin.org/bitcoin.pdf</td>\n",
       "    </tr>\n",
       "    <tr>\n",
       "      <th>third party</th>\n",
       "      <td>solution,problem</td>\n",
       "      <td>https://hyp.is/WGyv2ClxEemIde_dsoThfA/bitcoin....</td>\n",
       "      <td>https://bitcoin.org/bitcoin.pdf</td>\n",
       "    </tr>\n",
       "    <tr>\n",
       "      <th>trust</th>\n",
       "      <td>requirement</td>\n",
       "      <td>https://hyp.is/MepW-ClxEemYcQOeSn1hPQ/bitcoin....</td>\n",
       "      <td>https://bitcoin.org/bitcoin.pdf</td>\n",
       "    </tr>\n",
       "    <tr>\n",
       "      <th>digital signatures</th>\n",
       "      <td>solution</td>\n",
       "      <td>https://hyp.is/YM2kFCluEemvQn-xWXtkaw/bitcoin....</td>\n",
       "      <td>https://bitcoin.org/bitcoin.pdf</td>\n",
       "    </tr>\n",
       "    <tr>\n",
       "      <th>financial institution</th>\n",
       "      <td>problem</td>\n",
       "      <td>https://hyp.is/Xc49oCluEemvv7ffXGZQlg/bitcoin....</td>\n",
       "      <td>https://bitcoin.org/bitcoin.pdf</td>\n",
       "    </tr>\n",
       "    <tr>\n",
       "      <th>onlinepayments</th>\n",
       "      <td>requirement</td>\n",
       "      <td>https://hyp.is/WkiIeiluEemJDbtGQrEfUQ/bitcoin....</td>\n",
       "      <td>https://bitcoin.org/bitcoin.pdf</td>\n",
       "    </tr>\n",
       "    <tr>\n",
       "      <th>electronic   cash</th>\n",
       "      <td>requirement</td>\n",
       "      <td>https://hyp.is/VslalCluEem3m3fBg7zA5Q/bitcoin....</td>\n",
       "      <td>https://bitcoin.org/bitcoin.pdf</td>\n",
       "    </tr>\n",
       "    <tr>\n",
       "      <th>peer-to-peer</th>\n",
       "      <td>solution</td>\n",
       "      <td>https://hyp.is/UCR0OiluEemg1Kfi50P0vw/bitcoin....</td>\n",
       "      <td>https://bitcoin.org/bitcoin.pdf</td>\n",
       "    </tr>\n",
       "  </tbody>\n",
       "</table>\n",
       "</div>"
      ],
      "text/plain": [
       "                                       tags  \\\n",
       "concept                                       \n",
       "proof                           requirement   \n",
       "rejoin                          requirement   \n",
       "leave                           requirement   \n",
       "message                requirement,solution   \n",
       "broadcast                          solution   \n",
       "network                solution,requirement   \n",
       "attack                              problem   \n",
       "node                   solution,requirement   \n",
       "majority                   solution,problem   \n",
       "cpu power                          solution   \n",
       "cpu                                solution   \n",
       "pool                               solution   \n",
       "longest chain                      solution   \n",
       "record                             solution   \n",
       "proof-of-work                      solution   \n",
       "chain                              solution   \n",
       "hash                               solution   \n",
       "transaction             requirement,problem   \n",
       "timestamp                          solution   \n",
       "double-spend                        problem   \n",
       "third party                solution,problem   \n",
       "trust                           requirement   \n",
       "digital signatures                 solution   \n",
       "financial institution               problem   \n",
       "onlinepayments                  requirement   \n",
       "electronic   cash               requirement   \n",
       "peer-to-peer                       solution   \n",
       "\n",
       "                                                         links.incontext  \\\n",
       "concept                                                                    \n",
       "proof                  https://hyp.is/UrMJWilzEemJkTc4McKOYw/bitcoin....   \n",
       "rejoin                 https://hyp.is/RpxYdClzEem8GcsPtIBiDQ/bitcoin....   \n",
       "leave                  https://hyp.is/P5zTqilzEemeIdsZZuqFSA/bitcoin....   \n",
       "message                https://hyp.is/JMKhQClzEemkhq_VlIQedw/bitcoin....   \n",
       "broadcast              https://hyp.is/6swf7CluEemoEzdheYbNCA/bitcoin....   \n",
       "network                https://hyp.is/eE10CClyEemqxc-OkRxPJA/bitcoin....   \n",
       "attack                 https://hyp.is/3jet5iluEeml-YdeUcmiIw/bitcoin....   \n",
       "node                   https://hyp.is/VSNUoilyEemgqIPxV4YmZw/bitcoin....   \n",
       "majority               https://hyp.is/1yvAoCluEemOXrOGRlaDcA/bitcoin....   \n",
       "cpu power              https://hyp.is/M1MpLilyEemMW6c7OKWc7A/bitcoin....   \n",
       "cpu                    https://hyp.is/HPZtWClyEemmAR_JDNga_A/bitcoin....   \n",
       "pool                   https://hyp.is/yp1NLCluEemi7XsjqAsQDw/bitcoin....   \n",
       "longest chain          https://hyp.is/vuxMlCluEemse7OquCmKZQ/bitcoin....   \n",
       "record                 https://hyp.is/uleEZCluEemw9YeincTPxw/bitcoin....   \n",
       "proof-of-work          https://hyp.is/srS_iCluEemN_8MpOeRvuw/bitcoin....   \n",
       "chain                  https://hyp.is/sH3IXiluEemNL-cOLpXXdA/bitcoin....   \n",
       "hash                   https://hyp.is/zpsKOClxEemdJtvXeYAbcA/bitcoin....   \n",
       "transaction            https://hyp.is/tImN1ilxEem4ujdliG62dg/bitcoin....   \n",
       "timestamp              https://hyp.is/fopFBClxEemSjpP64P7xBw/bitcoin....   \n",
       "double-spend           https://hyp.is/Y1ReyClxEemrKB_oA6DwCw/bitcoin....   \n",
       "third party            https://hyp.is/WGyv2ClxEemIde_dsoThfA/bitcoin....   \n",
       "trust                  https://hyp.is/MepW-ClxEemYcQOeSn1hPQ/bitcoin....   \n",
       "digital signatures     https://hyp.is/YM2kFCluEemvQn-xWXtkaw/bitcoin....   \n",
       "financial institution  https://hyp.is/Xc49oCluEemvv7ffXGZQlg/bitcoin....   \n",
       "onlinepayments         https://hyp.is/WkiIeiluEemJDbtGQrEfUQ/bitcoin....   \n",
       "electronic   cash      https://hyp.is/VslalCluEem3m3fBg7zA5Q/bitcoin....   \n",
       "peer-to-peer           https://hyp.is/UCR0OiluEemg1Kfi50P0vw/bitcoin....   \n",
       "\n",
       "                                                   uri  \n",
       "concept                                                 \n",
       "proof                  https://bitcoin.org/bitcoin.pdf  \n",
       "rejoin                 https://bitcoin.org/bitcoin.pdf  \n",
       "leave                  https://bitcoin.org/bitcoin.pdf  \n",
       "message                https://bitcoin.org/bitcoin.pdf  \n",
       "broadcast              https://bitcoin.org/bitcoin.pdf  \n",
       "network                https://bitcoin.org/bitcoin.pdf  \n",
       "attack                 https://bitcoin.org/bitcoin.pdf  \n",
       "node                   https://bitcoin.org/bitcoin.pdf  \n",
       "majority               https://bitcoin.org/bitcoin.pdf  \n",
       "cpu power              https://bitcoin.org/bitcoin.pdf  \n",
       "cpu                    https://bitcoin.org/bitcoin.pdf  \n",
       "pool                   https://bitcoin.org/bitcoin.pdf  \n",
       "longest chain          https://bitcoin.org/bitcoin.pdf  \n",
       "record                 https://bitcoin.org/bitcoin.pdf  \n",
       "proof-of-work          https://bitcoin.org/bitcoin.pdf  \n",
       "chain                  https://bitcoin.org/bitcoin.pdf  \n",
       "hash                   https://bitcoin.org/bitcoin.pdf  \n",
       "transaction            https://bitcoin.org/bitcoin.pdf  \n",
       "timestamp              https://bitcoin.org/bitcoin.pdf  \n",
       "double-spend           https://bitcoin.org/bitcoin.pdf  \n",
       "third party            https://bitcoin.org/bitcoin.pdf  \n",
       "trust                  https://bitcoin.org/bitcoin.pdf  \n",
       "digital signatures     https://bitcoin.org/bitcoin.pdf  \n",
       "financial institution  https://bitcoin.org/bitcoin.pdf  \n",
       "onlinepayments         https://bitcoin.org/bitcoin.pdf  \n",
       "electronic   cash      https://bitcoin.org/bitcoin.pdf  \n",
       "peer-to-peer           https://bitcoin.org/bitcoin.pdf  "
      ]
     },
     "execution_count": 172,
     "metadata": {},
     "output_type": "execute_result"
    }
   ],
   "source": [
    "annotations[['concept','tags','links.incontext','uri']].set_index('concept')"
   ]
  },
  {
   "cell_type": "code",
   "execution_count": 163,
   "metadata": {},
   "outputs": [
    {
     "data": {
      "text/plain": [
       "tags\n",
       "problem                  3\n",
       "requirement              6\n",
       "requirement,problem      1\n",
       "requirement,solution     1\n",
       "solution                12\n",
       "solution,problem         2\n",
       "solution,requirement     2\n",
       "Name: concept, dtype: int64"
      ]
     },
     "execution_count": 163,
     "metadata": {},
     "output_type": "execute_result"
    }
   ],
   "source": [
    "annotations.groupby('tags').concept.count()"
   ]
  },
  {
   "cell_type": "code",
   "execution_count": 164,
   "metadata": {},
   "outputs": [
    {
     "data": {
      "text/plain": [
       "0                 proof\n",
       "1                rejoin\n",
       "2                 leave\n",
       "3               message\n",
       "5               network\n",
       "7                  node\n",
       "17          transaction\n",
       "21                trust\n",
       "24       onlinepayments\n",
       "25    electronic   cash\n",
       "Name: concept, dtype: object"
      ]
     },
     "execution_count": 164,
     "metadata": {},
     "output_type": "execute_result"
    }
   ],
   "source": [
    "annotations[annotations.tags.str.contains('requirement')].concept"
   ]
  },
  {
   "cell_type": "markdown",
   "metadata": {},
   "source": [
    "Trusted online payments with electronic cash. Nodes can message transaction to the network provide proof to other nodes whether they leave and rejoin (have a dedicated connection) to the network   "
   ]
  },
  {
   "cell_type": "code",
   "execution_count": 165,
   "metadata": {},
   "outputs": [
    {
     "data": {
      "text/plain": [
       "6                    attack\n",
       "8                  majority\n",
       "17              transaction\n",
       "19             double-spend\n",
       "20              third party\n",
       "23    financial institution\n",
       "Name: concept, dtype: object"
      ]
     },
     "execution_count": 165,
     "metadata": {},
     "output_type": "execute_result"
    }
   ],
   "source": [
    "annotations[annotations.tags.str.contains('problem')].concept"
   ]
  },
  {
   "cell_type": "markdown",
   "metadata": {},
   "source": [
    "All without the network getting attacked through double spend or majority. And without the need for third party financial instutions. "
   ]
  },
  {
   "cell_type": "code",
   "execution_count": 166,
   "metadata": {},
   "outputs": [
    {
     "data": {
      "text/plain": [
       "3                message\n",
       "4              broadcast\n",
       "5                network\n",
       "7                   node\n",
       "8               majority\n",
       "9              cpu power\n",
       "10                   cpu\n",
       "11                  pool\n",
       "12         longest chain\n",
       "13                record\n",
       "14         proof-of-work\n",
       "15                 chain\n",
       "16                  hash\n",
       "18             timestamp\n",
       "20           third party\n",
       "22    digital signatures\n",
       "26          peer-to-peer\n",
       "Name: concept, dtype: object"
      ]
     },
     "execution_count": 166,
     "metadata": {},
     "output_type": "execute_result"
    }
   ],
   "source": [
    "annotations[annotations.tags.str.contains('solution')].concept"
   ]
  },
  {
   "cell_type": "markdown",
   "metadata": {},
   "source": [
    "Node(s) broadcast message(s) with digital signiatures to peer to peer network. Node(s) create hash as proof of work (dedicated cpu power). Those with majority of pooled cpu power determine the record. They timestamp and hash (unique identifier) of message that is linked to chain hash. Longest chain is the one nodes trust. \n"
   ]
  },
  {
   "cell_type": "code",
   "execution_count": null,
   "metadata": {},
   "outputs": [],
   "source": [
    "text = textract.process("
   ]
  }
 ],
 "metadata": {
  "kernelspec": {
   "display_name": "Python 3",
   "language": "python",
   "name": "python3"
  },
  "language_info": {
   "codemirror_mode": {
    "name": "ipython",
    "version": 3
   },
   "file_extension": ".py",
   "mimetype": "text/x-python",
   "name": "python",
   "nbconvert_exporter": "python",
   "pygments_lexer": "ipython3",
   "version": "3.7.0"
  }
 },
 "nbformat": 4,
 "nbformat_minor": 1
}
