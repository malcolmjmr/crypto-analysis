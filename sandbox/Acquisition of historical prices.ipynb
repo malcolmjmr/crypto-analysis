{
 "cells": [
  {
   "cell_type": "code",
   "execution_count": 7,
   "metadata": {},
   "outputs": [],
   "source": [
    "import requests\n",
    "import json\n",
    "import pandas as pd\n",
    "%matplotlib inline\n",
    "import matplotlib.pyplot as plt\n",
    "from cryptocompare import get_daily_trade_hist"
   ]
  },
  {
   "cell_type": "code",
   "execution_count": 3,
   "metadata": {},
   "outputs": [],
   "source": [
    "tickers = requests.get('https://api.coinmarketcap.com/v2/ticker/').json()"
   ]
  },
  {
   "cell_type": "code",
   "execution_count": 9,
   "metadata": {},
   "outputs": [],
   "source": [
    "ASSETS = [\n",
    "    'BTC',\n",
    "    'ETH',\n",
    "    'ETC',\n",
    "    'BTS',\n",
    "    'STEEM',\n",
    "    'XRP',\n",
    "    'STR',\n",
    "    'EOS',\n",
    "    'LTC',\n",
    "    'XLM',\n",
    "    'ADA',\n",
    "    'NEO',\n",
    "    'XMR',\n",
    "    'DASH',\n",
    "    'VEN',\n",
    "    'ZEC',\n",
    "    'ZRX',\n",
    "    'LSK',\n",
    "    'NANO'\n",
    "]"
   ]
  },
  {
   "cell_type": "code",
   "execution_count": 12,
   "metadata": {},
   "outputs": [],
   "source": [
    "for asset in ASSETS:\n",
    "    market_data = get_daily_trade_hist(asset, all_data=True)\n",
    "    market_data.to_csv('price_data/{}.csv'.format(asset))"
   ]
  },
  {
   "cell_type": "code",
   "execution_count": 4,
   "metadata": {},
   "outputs": [],
   "source": [
    "bts_trades = pd.read_csv('price_data/BTS.csv', index_col='time')"
   ]
  },
  {
   "cell_type": "code",
   "execution_count": 5,
   "metadata": {},
   "outputs": [
    {
     "data": {
      "text/html": [
       "<div>\n",
       "<table border=\"1\" class=\"dataframe\">\n",
       "  <thead>\n",
       "    <tr style=\"text-align: right;\">\n",
       "      <th></th>\n",
       "      <th>close</th>\n",
       "      <th>high</th>\n",
       "      <th>low</th>\n",
       "      <th>open</th>\n",
       "      <th>volumefrom</th>\n",
       "      <th>volumeto</th>\n",
       "    </tr>\n",
       "    <tr>\n",
       "      <th>time</th>\n",
       "      <th></th>\n",
       "      <th></th>\n",
       "      <th></th>\n",
       "      <th></th>\n",
       "      <th></th>\n",
       "      <th></th>\n",
       "    </tr>\n",
       "  </thead>\n",
       "  <tbody>\n",
       "    <tr>\n",
       "      <th>2015-01-26</th>\n",
       "      <td>0.01201</td>\n",
       "      <td>0.01219</td>\n",
       "      <td>0.01141</td>\n",
       "      <td>0.011570</td>\n",
       "      <td>201534.16</td>\n",
       "      <td>2420.43</td>\n",
       "    </tr>\n",
       "    <tr>\n",
       "      <th>2015-01-27</th>\n",
       "      <td>0.01111</td>\n",
       "      <td>0.01206</td>\n",
       "      <td>0.01079</td>\n",
       "      <td>0.011740</td>\n",
       "      <td>1385612.71</td>\n",
       "      <td>15394.16</td>\n",
       "    </tr>\n",
       "    <tr>\n",
       "      <th>2015-01-28</th>\n",
       "      <td>0.01037</td>\n",
       "      <td>0.01070</td>\n",
       "      <td>0.00973</td>\n",
       "      <td>0.009966</td>\n",
       "      <td>1818040.85</td>\n",
       "      <td>18853.08</td>\n",
       "    </tr>\n",
       "    <tr>\n",
       "      <th>2015-01-29</th>\n",
       "      <td>0.01049</td>\n",
       "      <td>0.01072</td>\n",
       "      <td>0.01009</td>\n",
       "      <td>0.010720</td>\n",
       "      <td>1520131.67</td>\n",
       "      <td>15946.18</td>\n",
       "    </tr>\n",
       "    <tr>\n",
       "      <th>2015-01-30</th>\n",
       "      <td>0.01072</td>\n",
       "      <td>0.01072</td>\n",
       "      <td>0.01003</td>\n",
       "      <td>0.010390</td>\n",
       "      <td>1549419.11</td>\n",
       "      <td>16609.77</td>\n",
       "    </tr>\n",
       "  </tbody>\n",
       "</table>\n",
       "</div>"
      ],
      "text/plain": [
       "              close     high      low      open  volumefrom  volumeto\n",
       "time                                                                 \n",
       "2015-01-26  0.01201  0.01219  0.01141  0.011570   201534.16   2420.43\n",
       "2015-01-27  0.01111  0.01206  0.01079  0.011740  1385612.71  15394.16\n",
       "2015-01-28  0.01037  0.01070  0.00973  0.009966  1818040.85  18853.08\n",
       "2015-01-29  0.01049  0.01072  0.01009  0.010720  1520131.67  15946.18\n",
       "2015-01-30  0.01072  0.01072  0.01003  0.010390  1549419.11  16609.77"
      ]
     },
     "execution_count": 5,
     "metadata": {},
     "output_type": "execute_result"
    }
   ],
   "source": [
    "bts_trades.head()"
   ]
  },
  {
   "cell_type": "code",
   "execution_count": 11,
   "metadata": {},
   "outputs": [
    {
     "data": {
      "text/html": [
       "<div>\n",
       "<table border=\"1\" class=\"dataframe\">\n",
       "  <thead>\n",
       "    <tr style=\"text-align: right;\">\n",
       "      <th></th>\n",
       "      <th>close</th>\n",
       "      <th>high</th>\n",
       "      <th>low</th>\n",
       "      <th>open</th>\n",
       "      <th>volumefrom</th>\n",
       "      <th>volumeto</th>\n",
       "    </tr>\n",
       "    <tr>\n",
       "      <th>time</th>\n",
       "      <th></th>\n",
       "      <th></th>\n",
       "      <th></th>\n",
       "      <th></th>\n",
       "      <th></th>\n",
       "      <th></th>\n",
       "    </tr>\n",
       "  </thead>\n",
       "  <tbody>\n",
       "    <tr>\n",
       "      <th>2015-07-16</th>\n",
       "      <td>5285.63</td>\n",
       "      <td>5285.63</td>\n",
       "      <td>0.004672</td>\n",
       "      <td>0.005488</td>\n",
       "      <td>2357039.58</td>\n",
       "      <td>1.245844e+10</td>\n",
       "    </tr>\n",
       "  </tbody>\n",
       "</table>\n",
       "</div>"
      ],
      "text/plain": [
       "              close     high       low      open  volumefrom      volumeto\n",
       "time                                                                      \n",
       "2015-07-16  5285.63  5285.63  0.004672  0.005488  2357039.58  1.245844e+10"
      ]
     },
     "execution_count": 11,
     "metadata": {},
     "output_type": "execute_result"
    }
   ],
   "source": [
    "bts_trades[bts_trades.close>1]"
   ]
  },
  {
   "cell_type": "code",
   "execution_count": null,
   "metadata": {},
   "outputs": [],
   "source": []
  }
 ],
 "metadata": {
  "kernelspec": {
   "display_name": "Python 3",
   "language": "python",
   "name": "python3"
  },
  "language_info": {
   "codemirror_mode": {
    "name": "ipython",
    "version": 3
   },
   "file_extension": ".py",
   "mimetype": "text/x-python",
   "name": "python",
   "nbconvert_exporter": "python",
   "pygments_lexer": "ipython3",
   "version": "3.6.3"
  }
 },
 "nbformat": 4,
 "nbformat_minor": 2
}
