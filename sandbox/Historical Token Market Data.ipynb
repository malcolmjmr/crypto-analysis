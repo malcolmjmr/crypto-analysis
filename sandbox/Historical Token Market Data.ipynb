{
 "cells": [
  {
   "cell_type": "code",
   "execution_count": 190,
   "metadata": {},
   "outputs": [],
   "source": [
    "import pandas as pd\n",
    "%matplotlib inline \n",
    "import matplotlib.pyplot as plt\n",
    "import seaborn as sns\n",
    "from datetime import datetime as dt\n",
    "from ipywidgets import interact"
   ]
  },
  {
   "cell_type": "code",
   "execution_count": 67,
   "metadata": {},
   "outputs": [
    {
     "data": {
      "text/html": [
       "<div>\n",
       "<style scoped>\n",
       "    .dataframe tbody tr th:only-of-type {\n",
       "        vertical-align: middle;\n",
       "    }\n",
       "\n",
       "    .dataframe tbody tr th {\n",
       "        vertical-align: top;\n",
       "    }\n",
       "\n",
       "    .dataframe thead th {\n",
       "        text-align: right;\n",
       "    }\n",
       "</style>\n",
       "<table border=\"1\" class=\"dataframe\">\n",
       "  <thead>\n",
       "    <tr style=\"text-align: right;\">\n",
       "      <th></th>\n",
       "      <th>name</th>\n",
       "      <th>symbol</th>\n",
       "      <th>mcap</th>\n",
       "      <th>price</th>\n",
       "      <th>supply</th>\n",
       "      <th>volume</th>\n",
       "      <th>date</th>\n",
       "      <th>ranking</th>\n",
       "    </tr>\n",
       "  </thead>\n",
       "  <tbody>\n",
       "    <tr>\n",
       "      <th>0</th>\n",
       "      <td>Bitcoin</td>\n",
       "      <td>BTC</td>\n",
       "      <td>1.096958e+09</td>\n",
       "      <td>96.610000</td>\n",
       "      <td>11354025.0</td>\n",
       "      <td>0.0</td>\n",
       "      <td>2013-06-30</td>\n",
       "      <td>1</td>\n",
       "    </tr>\n",
       "    <tr>\n",
       "      <th>1</th>\n",
       "      <td>Litecoin</td>\n",
       "      <td>LTC</td>\n",
       "      <td>5.672152e+07</td>\n",
       "      <td>2.980000</td>\n",
       "      <td>19030604.0</td>\n",
       "      <td>0.0</td>\n",
       "      <td>2013-06-30</td>\n",
       "      <td>2</td>\n",
       "    </tr>\n",
       "    <tr>\n",
       "      <th>2</th>\n",
       "      <td>Namecoin</td>\n",
       "      <td>NMC</td>\n",
       "      <td>2.995222e+06</td>\n",
       "      <td>0.501427</td>\n",
       "      <td>5973400.0</td>\n",
       "      <td>0.0</td>\n",
       "      <td>2013-06-30</td>\n",
       "      <td>3</td>\n",
       "    </tr>\n",
       "    <tr>\n",
       "      <th>3</th>\n",
       "      <td>Peercoin</td>\n",
       "      <td>PPC</td>\n",
       "      <td>2.367684e+06</td>\n",
       "      <td>0.121734</td>\n",
       "      <td>19449710.0</td>\n",
       "      <td>0.0</td>\n",
       "      <td>2013-06-30</td>\n",
       "      <td>4</td>\n",
       "    </tr>\n",
       "    <tr>\n",
       "      <th>4</th>\n",
       "      <td>Novacoin</td>\n",
       "      <td>NVC</td>\n",
       "      <td>9.314370e+05</td>\n",
       "      <td>3.090000</td>\n",
       "      <td>301181.0</td>\n",
       "      <td>0.0</td>\n",
       "      <td>2013-06-30</td>\n",
       "      <td>5</td>\n",
       "    </tr>\n",
       "  </tbody>\n",
       "</table>\n",
       "</div>"
      ],
      "text/plain": [
       "       name symbol          mcap      price      supply  volume       date  \\\n",
       "0   Bitcoin    BTC  1.096958e+09  96.610000  11354025.0     0.0 2013-06-30   \n",
       "1  Litecoin    LTC  5.672152e+07   2.980000  19030604.0     0.0 2013-06-30   \n",
       "2  Namecoin    NMC  2.995222e+06   0.501427   5973400.0     0.0 2013-06-30   \n",
       "3  Peercoin    PPC  2.367684e+06   0.121734  19449710.0     0.0 2013-06-30   \n",
       "4  Novacoin    NVC  9.314370e+05   3.090000    301181.0     0.0 2013-06-30   \n",
       "\n",
       "   ranking  \n",
       "0        1  \n",
       "1        2  \n",
       "2        3  \n",
       "3        4  \n",
       "4        5  "
      ]
     },
     "execution_count": 67,
     "metadata": {},
     "output_type": "execute_result"
    }
   ],
   "source": [
    "df = pd.read_csv('datahistorical_rankings.csv', parse_dates=['date'], index_col=0)\n",
    "df.head()"
   ]
  },
  {
   "cell_type": "code",
   "execution_count": 203,
   "metadata": {},
   "outputs": [
    {
     "data": {
      "text/plain": [
       "<matplotlib.axes._subplots.AxesSubplot at 0x122488e10>"
      ]
     },
     "execution_count": 203,
     "metadata": {},
     "output_type": "execute_result"
    },
    {
     "data": {
      "image/png": "[encoded data removed]",
      "text/plain": [
       "<Figure size 432x288 with 1 Axes>"
      ]
     },
     "metadata": {},
     "output_type": "display_data"
    }
   ],
   "source": [
    "total_mcap = df.groupby('date').mcap.sum()\n",
    "total_mcap.plot()"
   ]
  },
  {
   "cell_type": "code",
   "execution_count": 87,
   "metadata": {},
   "outputs": [
    {
     "data": {
      "text/plain": [
       "<matplotlib.axes._subplots.AxesSubplot at 0x11fa13cc0>"
      ]
     },
     "execution_count": 87,
     "metadata": {},
     "output_type": "execute_result"
    },
    {
     "data": {
      "image/png": "[encoded data removed]",
      "text/plain": [
       "<Figure size 432x288 with 1 Axes>"
      ]
     },
     "metadata": {},
     "output_type": "display_data"
    }
   ],
   "source": [
    "total_supply = df.groupby('date').supply.sum()\n",
    "total_supply.plot()"
   ]
  },
  {
   "cell_type": "code",
   "execution_count": 96,
   "metadata": {},
   "outputs": [
    {
     "data": {
      "text/plain": [
       "<matplotlib.axes._subplots.AxesSubplot at 0x11f99a748>"
      ]
     },
     "execution_count": 96,
     "metadata": {},
     "output_type": "execute_result"
    },
    {
     "data": {
      "image/png": "[encoded data removed]",
      "text/plain": [
       "<Figure size 432x288 with 1 Axes>"
      ]
     },
     "metadata": {},
     "output_type": "display_data"
    }
   ],
   "source": [
    "mcap_to_supply = total_mcap/total_supply\n",
    "mcap_to_supply.plot()"
   ]
  },
  {
   "cell_type": "code",
   "execution_count": 100,
   "metadata": {},
   "outputs": [
    {
     "data": {
      "text/plain": [
       "(Timestamp('2015-05-31 00:00:00'), Timestamp('2013-06-30 00:00:00'))"
      ]
     },
     "execution_count": 100,
     "metadata": {},
     "output_type": "execute_result"
    }
   ],
   "source": [
    "mcap_to_supply.idxmin(), mcap_to_supply.idxmax()"
   ]
  },
  {
   "cell_type": "code",
   "execution_count": 94,
   "metadata": {},
   "outputs": [
    {
     "data": {
      "text/plain": [
       "<matplotlib.axes._subplots.AxesSubplot at 0x11f9ffd68>"
      ]
     },
     "execution_count": 94,
     "metadata": {},
     "output_type": "execute_result"
    },
    {
     "data": {
      "image/png": "[encoded data removed]",
      "text/plain": [
       "<Figure size 432x288 with 1 Axes>"
      ]
     },
     "metadata": {},
     "output_type": "display_data"
    }
   ],
   "source": [
    "total_tokens = df.groupby('date').supply.count()\n",
    "total_tokens.plot()"
   ]
  },
  {
   "cell_type": "code",
   "execution_count": 95,
   "metadata": {},
   "outputs": [
    {
     "data": {
      "text/plain": [
       "<matplotlib.axes._subplots.AxesSubplot at 0x11f3cc780>"
      ]
     },
     "execution_count": 95,
     "metadata": {},
     "output_type": "execute_result"
    },
    {
     "data": {
      "image/png": "[encoded data removed]",
      "text/plain": [
       "<Figure size 432x288 with 1 Axes>"
      ]
     },
     "metadata": {},
     "output_type": "display_data"
    }
   ],
   "source": [
    "total_tokens.pct_change().plot()"
   ]
  },
  {
   "cell_type": "code",
   "execution_count": 155,
   "metadata": {},
   "outputs": [],
   "source": [
    "top_50 = df.groupby('symbol').ranking.mean().sort_values().head(50).index.to_series()                           "
   ]
  },
  {
   "cell_type": "code",
   "execution_count": 245,
   "metadata": {
    "scrolled": false
   },
   "outputs": [
    {
     "data": {
      "application/vnd.jupyter.widget-view+json": {
       "model_id": "af2d19fcc96842368092e78fc3f6d87a",
       "version_major": 2,
       "version_minor": 0
      },
      "text/plain": [
       "interactive(children=(Dropdown(description='Symbol', options=('All Tokens', 'BTC', 'ETH', 'XRP', 'LTC', 'ADA',…"
      ]
     },
     "metadata": {},
     "output_type": "display_data"
    },
    {
     "data": {
      "text/plain": [
       "<function __main__.view_feature(Symbol, Feature)>"
      ]
     },
     "execution_count": 245,
     "metadata": {},
     "output_type": "execute_result"
    }
   ],
   "source": [
    "important_tokens = df[df.symbol.isin(top_50)]\n",
    "grouped = important_tokens.groupby('symbol')\n",
    "\n",
    "feature_generators = {\n",
    "    'Supply': lambda t: t.supply,\n",
    "    'Ranking': lambda t: t.ranking,\n",
    "    'Ranking change': lambda t: t.ranking.diff(),\n",
    "    'Ranking change (%)': lambda t: t.ranking.pct_change(),\n",
    "    'Rewards': lambda t: t.price * t.supply.diff(),\n",
    "    'Supply change': lambda t: t.supply.diff(),\n",
    "    'Supply change (%)': lambda t: t.supply.pct_change(),\n",
    "    'Market cap': lambda t: t.mcap,\n",
    "    'Market cap change (%)': lambda t: t.mcap.pct_change(),\n",
    "    'Price to supply': lambda t: t.price / t.supply,\n",
    "    'Volume to supply': lambda t: t.volume / t.supply\n",
    "}\n",
    "\n",
    "timeseries = {}\n",
    "def view_feature(Symbol, Feature):\n",
    "    global timeseries \n",
    "    if Symbol == 'All Tokens':\n",
    "        if Feature in timeseries:\n",
    "            ts = timeseries[Feature]\n",
    "            if Feature in ['Ranking', 'Market cap'] or '%' in Feature:\n",
    "                ts.mean().sort_values(ascending=False).plot(kind='barh')\n",
    "            else:\n",
    "                ts.sum().sort_values().plot(kind='barh')\n",
    "            \n",
    "    else:\n",
    "        group = grouped.get_group(Symbol).set_index('date').sort_index()\n",
    "        ts = feature_generators[Feature](group)\n",
    "        ts.plot()\n",
    "        if Feature not in timeseries:\n",
    "            timeseries[Feature] = pd.DataFrame()\n",
    "        timeseries[Feature][Symbol] = ts\n",
    "    \n",
    "interact(view_feature, Symbol=['All Tokens']+top_50.values.tolist(), Feature=feature_generators.keys())\n",
    "\n"
   ]
  },
  {
   "cell_type": "code",
   "execution_count": null,
   "metadata": {},
   "outputs": [],
   "source": []
  }
 ],
 "metadata": {
  "kernelspec": {
   "display_name": "Python 3",
   "language": "python",
   "name": "python3"
  },
  "language_info": {
   "codemirror_mode": {
    "name": "ipython",
    "version": 3
   },
   "file_extension": ".py",
   "mimetype": "text/x-python",
   "name": "python",
   "nbconvert_exporter": "python",
   "pygments_lexer": "ipython3",
   "version": "3.7.0"
  }
 },
 "nbformat": 4,
 "nbformat_minor": 2
}
