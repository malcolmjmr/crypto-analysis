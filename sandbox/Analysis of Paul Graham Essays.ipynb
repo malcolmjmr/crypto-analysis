{
 "cells": [
  {
   "cell_type": "markdown",
   "metadata": {},
   "source": [
    "Paul Graham is one of my favorite essayists. He is a software geek with a contrarian mentality to business and investing. His insights on startups and value creation during the internent paradigm are essential for anyone trying to understand how to found and/or invest in successful start up.  \n",
    "\n",
    "Because I've found his essays so invaluable in forming my own perspective on startups and investings, particularly in this new paradigm of blockchain based applicaions, I wanted to do a textual analysis of his essays. Perhaps in doing so I can determine some of his writings characteristics, which contribute to its elegance and timelessness. "
   ]
  },
  {
   "cell_type": "code",
   "execution_count": 3,
   "metadata": {},
   "outputs": [],
   "source": [
    "from bs4 import BeautifulSoup, element\n",
    "import re\n",
    "import json\n",
    "import pandas as pd\n",
    "import nltk\n",
    "import requests\n",
    "from datetime import datetime\n",
    "%matplotlib inline\n",
    "import matplotlib.pyplot as plt\n",
    "import seaborn as sns\n",
    "sns.set(rc={\"figure.figsize\": (20, 10)})\n",
    "\n",
    "import warnings\n",
    "warnings.filterwarnings('ignore')"
   ]
  },
  {
   "cell_type": "markdown",
   "metadata": {},
   "source": [
    "Contents\n",
    "\n",
    "- Acquistion\n",
    "- Cleaning \n",
    "- Essay count and length over time\n",
    "- Word frequency\n",
    "- Part of speech tagging\n",
    "- Introduction and concluding paragraphs"
   ]
  },
  {
   "cell_type": "markdown",
   "metadata": {},
   "source": [
    "First we have crawl Paul Graham's [website](http://www.paulgraham.com/articles.html) to get the list of essays and their links. "
   ]
  },
  {
   "cell_type": "code",
   "execution_count": 4,
   "metadata": {},
   "outputs": [],
   "source": [
    "base_url = 'http://www.paulgraham.com/'\n",
    "essay_url = base_url + 'articles.html'\n",
    "\n",
    "essay_list_html = requests.get(essay_url).text\n",
    "essay_list_soup = BeautifulSoup(essay_list_html, 'html5lib')\n",
    "essay_links = essay_list_soup.find('tbody').find_all('a')[1:-1]\n",
    "essays = pd.DataFrame([(a.text, a.attrs['href']) for a in essay_links], columns=['name','url'])"
   ]
  },
  {
   "cell_type": "code",
   "execution_count": 5,
   "metadata": {},
   "outputs": [
    {
     "data": {
      "text/html": [
       "<div>\n",
       "<style scoped>\n",
       "    .dataframe tbody tr th:only-of-type {\n",
       "        vertical-align: middle;\n",
       "    }\n",
       "\n",
       "    .dataframe tbody tr th {\n",
       "        vertical-align: top;\n",
       "    }\n",
       "\n",
       "    .dataframe thead th {\n",
       "        text-align: right;\n",
       "    }\n",
       "</style>\n",
       "<table border=\"1\" class=\"dataframe\">\n",
       "  <thead>\n",
       "    <tr style=\"text-align: right;\">\n",
       "      <th></th>\n",
       "      <th>name</th>\n",
       "      <th>url</th>\n",
       "    </tr>\n",
       "  </thead>\n",
       "  <tbody>\n",
       "    <tr>\n",
       "      <th>0</th>\n",
       "      <td>General and Surprising</td>\n",
       "      <td>sun.html</td>\n",
       "    </tr>\n",
       "    <tr>\n",
       "      <th>1</th>\n",
       "      <td>Charisma / Power</td>\n",
       "      <td>pow.html</td>\n",
       "    </tr>\n",
       "    <tr>\n",
       "      <th>2</th>\n",
       "      <td>The Risk of Discovery</td>\n",
       "      <td>disc.html</td>\n",
       "    </tr>\n",
       "    <tr>\n",
       "      <th>3</th>\n",
       "      <td>This Year We Can End the Death Penalty in Cali...</td>\n",
       "      <td>prop62.html</td>\n",
       "    </tr>\n",
       "    <tr>\n",
       "      <th>4</th>\n",
       "      <td>How to Make Pittsburgh a Startup Hub</td>\n",
       "      <td>pgh.html</td>\n",
       "    </tr>\n",
       "    <tr>\n",
       "      <th>5</th>\n",
       "      <td>Life is Short</td>\n",
       "      <td>vb.html</td>\n",
       "    </tr>\n",
       "    <tr>\n",
       "      <th>6</th>\n",
       "      <td>Economic Inequality</td>\n",
       "      <td>ineq.html</td>\n",
       "    </tr>\n",
       "    <tr>\n",
       "      <th>7</th>\n",
       "      <td>The Refragmentation</td>\n",
       "      <td>re.html</td>\n",
       "    </tr>\n",
       "    <tr>\n",
       "      <th>8</th>\n",
       "      <td>Jessica Livingston</td>\n",
       "      <td>jessica.html</td>\n",
       "    </tr>\n",
       "    <tr>\n",
       "      <th>9</th>\n",
       "      <td>A Way to Detect Bias</td>\n",
       "      <td>bias.html</td>\n",
       "    </tr>\n",
       "    <tr>\n",
       "      <th>10</th>\n",
       "      <td>Write Like You Talk</td>\n",
       "      <td>talk.html</td>\n",
       "    </tr>\n",
       "    <tr>\n",
       "      <th>11</th>\n",
       "      <td>Default Alive or Default Dead?</td>\n",
       "      <td>aord.html</td>\n",
       "    </tr>\n",
       "    <tr>\n",
       "      <th>12</th>\n",
       "      <td>Why It's Safe for Founders to Be Nice</td>\n",
       "      <td>safe.html</td>\n",
       "    </tr>\n",
       "    <tr>\n",
       "      <th>13</th>\n",
       "      <td>Change Your Name</td>\n",
       "      <td>name.html</td>\n",
       "    </tr>\n",
       "    <tr>\n",
       "      <th>14</th>\n",
       "      <td>What Microsoft Is this the Altair Basic of?</td>\n",
       "      <td>altair.html</td>\n",
       "    </tr>\n",
       "    <tr>\n",
       "      <th>15</th>\n",
       "      <td>The Ronco Principle</td>\n",
       "      <td>ronco.html</td>\n",
       "    </tr>\n",
       "    <tr>\n",
       "      <th>16</th>\n",
       "      <td>What Doesn't Seem Like Work?</td>\n",
       "      <td>work.html</td>\n",
       "    </tr>\n",
       "    <tr>\n",
       "      <th>17</th>\n",
       "      <td>Don't Talk to Corp Dev</td>\n",
       "      <td>corpdev.html</td>\n",
       "    </tr>\n",
       "    <tr>\n",
       "      <th>18</th>\n",
       "      <td>Let the Other 95% of Great Programmers In</td>\n",
       "      <td>95.html</td>\n",
       "    </tr>\n",
       "    <tr>\n",
       "      <th>19</th>\n",
       "      <td>How to Be an Expert in a Changing World</td>\n",
       "      <td>ecw.html</td>\n",
       "    </tr>\n",
       "    <tr>\n",
       "      <th>20</th>\n",
       "      <td>How You Know</td>\n",
       "      <td>know.html</td>\n",
       "    </tr>\n",
       "    <tr>\n",
       "      <th>21</th>\n",
       "      <td>The Fatal Pinch</td>\n",
       "      <td>pinch.html</td>\n",
       "    </tr>\n",
       "    <tr>\n",
       "      <th>22</th>\n",
       "      <td>Mean People Fail</td>\n",
       "      <td>mean.html</td>\n",
       "    </tr>\n",
       "    <tr>\n",
       "      <th>23</th>\n",
       "      <td>Before the Startup</td>\n",
       "      <td>before.html</td>\n",
       "    </tr>\n",
       "    <tr>\n",
       "      <th>24</th>\n",
       "      <td>How to Raise Money</td>\n",
       "      <td>fr.html</td>\n",
       "    </tr>\n",
       "    <tr>\n",
       "      <th>25</th>\n",
       "      <td>Investor Herd Dynamics</td>\n",
       "      <td>herd.html</td>\n",
       "    </tr>\n",
       "    <tr>\n",
       "      <th>26</th>\n",
       "      <td>How to Convince Investors</td>\n",
       "      <td>convince.html</td>\n",
       "    </tr>\n",
       "    <tr>\n",
       "      <th>27</th>\n",
       "      <td>Do Things that Don't Scale</td>\n",
       "      <td>ds.html</td>\n",
       "    </tr>\n",
       "    <tr>\n",
       "      <th>28</th>\n",
       "      <td>Startup Investing Trends</td>\n",
       "      <td>invtrend.html</td>\n",
       "    </tr>\n",
       "    <tr>\n",
       "      <th>29</th>\n",
       "      <td>How to Get Startup Ideas</td>\n",
       "      <td>startupideas.html</td>\n",
       "    </tr>\n",
       "    <tr>\n",
       "      <th>...</th>\n",
       "      <td>...</td>\n",
       "      <td>...</td>\n",
       "    </tr>\n",
       "    <tr>\n",
       "      <th>148</th>\n",
       "      <td>The Python Paradox</td>\n",
       "      <td>pypar.html</td>\n",
       "    </tr>\n",
       "    <tr>\n",
       "      <th>149</th>\n",
       "      <td>Great Hackers</td>\n",
       "      <td>gh.html</td>\n",
       "    </tr>\n",
       "    <tr>\n",
       "      <th>150</th>\n",
       "      <td>Mind the Gap</td>\n",
       "      <td>gap.html</td>\n",
       "    </tr>\n",
       "    <tr>\n",
       "      <th>151</th>\n",
       "      <td>How to Make Wealth</td>\n",
       "      <td>wealth.html</td>\n",
       "    </tr>\n",
       "    <tr>\n",
       "      <th>152</th>\n",
       "      <td>The Word \"Hacker\"</td>\n",
       "      <td>gba.html</td>\n",
       "    </tr>\n",
       "    <tr>\n",
       "      <th>153</th>\n",
       "      <td>What You Can't Say</td>\n",
       "      <td>say.html</td>\n",
       "    </tr>\n",
       "    <tr>\n",
       "      <th>154</th>\n",
       "      <td>Filters that Fight Back</td>\n",
       "      <td>ffb.html</td>\n",
       "    </tr>\n",
       "    <tr>\n",
       "      <th>155</th>\n",
       "      <td>Hackers and Painters</td>\n",
       "      <td>hp.html</td>\n",
       "    </tr>\n",
       "    <tr>\n",
       "      <th>156</th>\n",
       "      <td>If Lisp is So Great</td>\n",
       "      <td>iflisp.html</td>\n",
       "    </tr>\n",
       "    <tr>\n",
       "      <th>157</th>\n",
       "      <td>The Hundred-Year Language</td>\n",
       "      <td>hundred.html</td>\n",
       "    </tr>\n",
       "    <tr>\n",
       "      <th>158</th>\n",
       "      <td>Why Nerds are Unpopular</td>\n",
       "      <td>nerds.html</td>\n",
       "    </tr>\n",
       "    <tr>\n",
       "      <th>159</th>\n",
       "      <td>Better Bayesian Filtering</td>\n",
       "      <td>better.html</td>\n",
       "    </tr>\n",
       "    <tr>\n",
       "      <th>160</th>\n",
       "      <td>Design and Research</td>\n",
       "      <td>desres.html</td>\n",
       "    </tr>\n",
       "    <tr>\n",
       "      <th>161</th>\n",
       "      <td>A Plan for Spam</td>\n",
       "      <td>spam.html</td>\n",
       "    </tr>\n",
       "    <tr>\n",
       "      <th>162</th>\n",
       "      <td>Revenge of the Nerds</td>\n",
       "      <td>icad.html</td>\n",
       "    </tr>\n",
       "    <tr>\n",
       "      <th>163</th>\n",
       "      <td>Succinctness is Power</td>\n",
       "      <td>power.html</td>\n",
       "    </tr>\n",
       "    <tr>\n",
       "      <th>164</th>\n",
       "      <td>What Languages Fix</td>\n",
       "      <td>fix.html</td>\n",
       "    </tr>\n",
       "    <tr>\n",
       "      <th>165</th>\n",
       "      <td>Taste for Makers</td>\n",
       "      <td>taste.html</td>\n",
       "    </tr>\n",
       "    <tr>\n",
       "      <th>166</th>\n",
       "      <td>Why Arc Isn't Especially Object-Oriented</td>\n",
       "      <td>noop.html</td>\n",
       "    </tr>\n",
       "    <tr>\n",
       "      <th>167</th>\n",
       "      <td>What Made Lisp Different</td>\n",
       "      <td>diff.html</td>\n",
       "    </tr>\n",
       "    <tr>\n",
       "      <th>168</th>\n",
       "      <td>The Other Road Ahead</td>\n",
       "      <td>road.html</td>\n",
       "    </tr>\n",
       "    <tr>\n",
       "      <th>169</th>\n",
       "      <td>The Roots of Lisp</td>\n",
       "      <td>rootsoflisp.html</td>\n",
       "    </tr>\n",
       "    <tr>\n",
       "      <th>170</th>\n",
       "      <td>Five Questions about Language Design</td>\n",
       "      <td>langdes.html</td>\n",
       "    </tr>\n",
       "    <tr>\n",
       "      <th>171</th>\n",
       "      <td>Being Popular</td>\n",
       "      <td>popular.html</td>\n",
       "    </tr>\n",
       "    <tr>\n",
       "      <th>172</th>\n",
       "      <td>Java's Cover</td>\n",
       "      <td>javacover.html</td>\n",
       "    </tr>\n",
       "    <tr>\n",
       "      <th>173</th>\n",
       "      <td>Beating the Averages</td>\n",
       "      <td>avg.html</td>\n",
       "    </tr>\n",
       "    <tr>\n",
       "      <th>174</th>\n",
       "      <td>Lisp for Web-Based Applications</td>\n",
       "      <td>lwba.html</td>\n",
       "    </tr>\n",
       "    <tr>\n",
       "      <th>175</th>\n",
       "      <td>Chapter 1 of Ansi Common Lisp</td>\n",
       "      <td>https://sep.yimg.com/ty/cdn/paulgraham/acl1.tx...</td>\n",
       "    </tr>\n",
       "    <tr>\n",
       "      <th>176</th>\n",
       "      <td>Chapter 2 of Ansi Common Lisp</td>\n",
       "      <td>https://sep.yimg.com/ty/cdn/paulgraham/acl2.tx...</td>\n",
       "    </tr>\n",
       "    <tr>\n",
       "      <th>177</th>\n",
       "      <td>Programming Bottom-Up</td>\n",
       "      <td>progbot.html</td>\n",
       "    </tr>\n",
       "  </tbody>\n",
       "</table>\n",
       "<p>178 rows × 2 columns</p>\n",
       "</div>"
      ],
      "text/plain": [
       "                                                  name  \\\n",
       "0                               General and Surprising   \n",
       "1                                     Charisma / Power   \n",
       "2                                The Risk of Discovery   \n",
       "3    This Year We Can End the Death Penalty in Cali...   \n",
       "4                 How to Make Pittsburgh a Startup Hub   \n",
       "5                                        Life is Short   \n",
       "6                                  Economic Inequality   \n",
       "7                                  The Refragmentation   \n",
       "8                                   Jessica Livingston   \n",
       "9                                 A Way to Detect Bias   \n",
       "10                                 Write Like You Talk   \n",
       "11                      Default Alive or Default Dead?   \n",
       "12               Why It's Safe for Founders to Be Nice   \n",
       "13                                    Change Your Name   \n",
       "14         What Microsoft Is this the Altair Basic of?   \n",
       "15                                 The Ronco Principle   \n",
       "16                        What Doesn't Seem Like Work?   \n",
       "17                              Don't Talk to Corp Dev   \n",
       "18           Let the Other 95% of Great Programmers In   \n",
       "19             How to Be an Expert in a Changing World   \n",
       "20                                        How You Know   \n",
       "21                                     The Fatal Pinch   \n",
       "22                                    Mean People Fail   \n",
       "23                                  Before the Startup   \n",
       "24                                  How to Raise Money   \n",
       "25                              Investor Herd Dynamics   \n",
       "26                           How to Convince Investors   \n",
       "27                          Do Things that Don't Scale   \n",
       "28                            Startup Investing Trends   \n",
       "29                            How to Get Startup Ideas   \n",
       "..                                                 ...   \n",
       "148                                 The Python Paradox   \n",
       "149                                      Great Hackers   \n",
       "150                                       Mind the Gap   \n",
       "151                                 How to Make Wealth   \n",
       "152                                  The Word \"Hacker\"   \n",
       "153                                 What You Can't Say   \n",
       "154                            Filters that Fight Back   \n",
       "155                               Hackers and Painters   \n",
       "156                                If Lisp is So Great   \n",
       "157                          The Hundred-Year Language   \n",
       "158                            Why Nerds are Unpopular   \n",
       "159                          Better Bayesian Filtering   \n",
       "160                                Design and Research   \n",
       "161                                    A Plan for Spam   \n",
       "162                               Revenge of the Nerds   \n",
       "163                              Succinctness is Power   \n",
       "164                                 What Languages Fix   \n",
       "165                                   Taste for Makers   \n",
       "166           Why Arc Isn't Especially Object-Oriented   \n",
       "167                           What Made Lisp Different   \n",
       "168                               The Other Road Ahead   \n",
       "169                                  The Roots of Lisp   \n",
       "170               Five Questions about Language Design   \n",
       "171                                      Being Popular   \n",
       "172                                       Java's Cover   \n",
       "173                               Beating the Averages   \n",
       "174                    Lisp for Web-Based Applications   \n",
       "175                      Chapter 1 of Ansi Common Lisp   \n",
       "176                      Chapter 2 of Ansi Common Lisp   \n",
       "177                              Programming Bottom-Up   \n",
       "\n",
       "                                                   url  \n",
       "0                                             sun.html  \n",
       "1                                             pow.html  \n",
       "2                                            disc.html  \n",
       "3                                          prop62.html  \n",
       "4                                             pgh.html  \n",
       "5                                              vb.html  \n",
       "6                                            ineq.html  \n",
       "7                                              re.html  \n",
       "8                                         jessica.html  \n",
       "9                                            bias.html  \n",
       "10                                           talk.html  \n",
       "11                                           aord.html  \n",
       "12                                           safe.html  \n",
       "13                                           name.html  \n",
       "14                                         altair.html  \n",
       "15                                          ronco.html  \n",
       "16                                           work.html  \n",
       "17                                        corpdev.html  \n",
       "18                                             95.html  \n",
       "19                                            ecw.html  \n",
       "20                                           know.html  \n",
       "21                                          pinch.html  \n",
       "22                                           mean.html  \n",
       "23                                         before.html  \n",
       "24                                             fr.html  \n",
       "25                                           herd.html  \n",
       "26                                       convince.html  \n",
       "27                                             ds.html  \n",
       "28                                       invtrend.html  \n",
       "29                                   startupideas.html  \n",
       "..                                                 ...  \n",
       "148                                         pypar.html  \n",
       "149                                            gh.html  \n",
       "150                                           gap.html  \n",
       "151                                        wealth.html  \n",
       "152                                           gba.html  \n",
       "153                                           say.html  \n",
       "154                                           ffb.html  \n",
       "155                                            hp.html  \n",
       "156                                        iflisp.html  \n",
       "157                                       hundred.html  \n",
       "158                                         nerds.html  \n",
       "159                                        better.html  \n",
       "160                                        desres.html  \n",
       "161                                          spam.html  \n",
       "162                                          icad.html  \n",
       "163                                         power.html  \n",
       "164                                           fix.html  \n",
       "165                                         taste.html  \n",
       "166                                          noop.html  \n",
       "167                                          diff.html  \n",
       "168                                          road.html  \n",
       "169                                   rootsoflisp.html  \n",
       "170                                       langdes.html  \n",
       "171                                       popular.html  \n",
       "172                                     javacover.html  \n",
       "173                                           avg.html  \n",
       "174                                          lwba.html  \n",
       "175  https://sep.yimg.com/ty/cdn/paulgraham/acl1.tx...  \n",
       "176  https://sep.yimg.com/ty/cdn/paulgraham/acl2.tx...  \n",
       "177                                       progbot.html  \n",
       "\n",
       "[178 rows x 2 columns]"
      ]
     },
     "execution_count": 5,
     "metadata": {},
     "output_type": "execute_result"
    }
   ],
   "source": [
    "essays"
   ]
  },
  {
   "cell_type": "markdown",
   "metadata": {},
   "source": [
    "We can see that he's written 178 essays. "
   ]
  },
  {
   "cell_type": "markdown",
   "metadata": {},
   "source": [
    "We'll want to drop those essays that are linked to external websites as they won't share the uniformity of the essay published on paulgraham.com"
   ]
  },
  {
   "cell_type": "code",
   "execution_count": 6,
   "metadata": {},
   "outputs": [
    {
     "data": {
      "text/html": [
       "<div>\n",
       "<style scoped>\n",
       "    .dataframe tbody tr th:only-of-type {\n",
       "        vertical-align: middle;\n",
       "    }\n",
       "\n",
       "    .dataframe tbody tr th {\n",
       "        vertical-align: top;\n",
       "    }\n",
       "\n",
       "    .dataframe thead th {\n",
       "        text-align: right;\n",
       "    }\n",
       "</style>\n",
       "<table border=\"1\" class=\"dataframe\">\n",
       "  <thead>\n",
       "    <tr style=\"text-align: right;\">\n",
       "      <th></th>\n",
       "      <th>name</th>\n",
       "      <th>url</th>\n",
       "    </tr>\n",
       "  </thead>\n",
       "  <tbody>\n",
       "    <tr>\n",
       "      <th>171</th>\n",
       "      <td>Being Popular</td>\n",
       "      <td>popular.html</td>\n",
       "    </tr>\n",
       "    <tr>\n",
       "      <th>172</th>\n",
       "      <td>Java's Cover</td>\n",
       "      <td>javacover.html</td>\n",
       "    </tr>\n",
       "    <tr>\n",
       "      <th>173</th>\n",
       "      <td>Beating the Averages</td>\n",
       "      <td>avg.html</td>\n",
       "    </tr>\n",
       "    <tr>\n",
       "      <th>174</th>\n",
       "      <td>Lisp for Web-Based Applications</td>\n",
       "      <td>lwba.html</td>\n",
       "    </tr>\n",
       "    <tr>\n",
       "      <th>177</th>\n",
       "      <td>Programming Bottom-Up</td>\n",
       "      <td>progbot.html</td>\n",
       "    </tr>\n",
       "  </tbody>\n",
       "</table>\n",
       "</div>"
      ],
      "text/plain": [
       "                                name             url\n",
       "171                    Being Popular    popular.html\n",
       "172                     Java's Cover  javacover.html\n",
       "173             Beating the Averages        avg.html\n",
       "174  Lisp for Web-Based Applications       lwba.html\n",
       "177            Programming Bottom-Up    progbot.html"
      ]
     },
     "execution_count": 6,
     "metadata": {},
     "output_type": "execute_result"
    }
   ],
   "source": [
    "essays = essays[~essays.url.str.contains('https')]\n",
    "essays.tail()"
   ]
  },
  {
   "cell_type": "code",
   "execution_count": 7,
   "metadata": {},
   "outputs": [
    {
     "data": {
      "text/plain": [
       "176"
      ]
     },
     "execution_count": 7,
     "metadata": {},
     "output_type": "execute_result"
    }
   ],
   "source": [
    "len(essays)"
   ]
  },
  {
   "cell_type": "markdown",
   "metadata": {},
   "source": [
    "Now lets get the essay bodies by fetching the contents of each essays url"
   ]
  },
  {
   "cell_type": "code",
   "execution_count": 8,
   "metadata": {},
   "outputs": [],
   "source": [
    "def get_essay_body(essay_url):\n",
    "    res = requests.get(base_url+essay_url).text\n",
    "    soup = BeautifulSoup(res, 'html.parser')\n",
    "    body = soup.find('body').find('font')\n",
    "    return body.text"
   ]
  },
  {
   "cell_type": "code",
   "execution_count": 9,
   "metadata": {},
   "outputs": [],
   "source": [
    "essays['text_raw'] = essays.url.apply(get_essay_body)"
   ]
  },
  {
   "cell_type": "markdown",
   "metadata": {},
   "source": [
    "Lets additionally parse the date of these entries and look to see when Paul was most active in producing his essays:"
   ]
  },
  {
   "cell_type": "code",
   "execution_count": 10,
   "metadata": {},
   "outputs": [],
   "source": [
    "essays['text'] = essays.text_raw\n",
    "\n",
    "# get dates from essay body \n",
    "date_re = '((Jan(uary)?|Feb(ruary)?|Mar(ch)?|Apr(il)?|May|Jun(e)?|Jul(y)?|Aug(ust)?|Sep(tember)?|Oct(ober)?|Nov(ember)?|Dec(ember)?)(\\s+\\d{4}))'\n",
    "dates = essays.text.str.extract(date_re)[0]\n",
    "essays['date'] = dates.apply(lambda d: datetime.strptime(d, '%B %Y') if isinstance(d, str) else None)\n",
    "\n",
    "# remove publish date from start of essay\n",
    "date_pattern = re.compile(date_re)\n",
    "essays['text'] = essays.text.apply(lambda t: t[date_pattern.search(t).span()[1]:] if date_pattern.search(t) else t)\n",
    "\n",
    "# add padding to text so as to not concatenate the beginning and ending words of different essays when grouped\n",
    "essays['text'] = essays.text.str.ljust(1, ' ')\n",
    "\n",
    "# remove new lines from text \n",
    "essays['text'] = essays.text.str.replace('\\n', ' ')\n",
    "\n",
    "def get_paragraphs(t):\n",
    "    new_paragraph_pattern = re.compile('(\\w{2}|\\)\\])(\\.\\w)')\n",
    "    markers = [''.join(r) for r in new_paragraph_pattern.findall(t)]\n",
    "    for marker in markers: \n",
    "        end, start = marker.split('.')\n",
    "        t = t.replace(marker, end + '.\\n\\n' + start)\n",
    "    return t\n",
    "\n",
    "essays['text'] = essays.text.apply(get_paragraphs)\n",
    "\n",
    "def remove_notes(t):\n",
    "    search_results = t.find('Notes[1]')\n",
    "    if search_results == -1:\n",
    "        return t\n",
    "    else:\n",
    "        return t[:search_results]\n",
    "\n",
    "essays['text'] = essays.text.apply(remove_notes)\n"
   ]
  },
  {
   "cell_type": "markdown",
   "metadata": {},
   "source": [
    "We group by month, year and decade:"
   ]
  },
  {
   "cell_type": "code",
   "execution_count": 11,
   "metadata": {},
   "outputs": [],
   "source": [
    "by_year = essays.groupby(essays.date.dt.year)\n",
    "by_decade = essays.groupby(essays.date.dt.year // 10 * 10)\n",
    "by_month = essays.groupby([essays.date.dt.year, essays.date.dt.month])"
   ]
  },
  {
   "cell_type": "code",
   "execution_count": 12,
   "metadata": {},
   "outputs": [
    {
     "data": {
      "image/png": "[encoded data removed]",
      "text/plain": [
       "<Figure size 432x288 with 1 Axes>"
      ]
     },
     "metadata": {},
     "output_type": "display_data"
    }
   ],
   "source": [
    "ax = by_year.size().plot.bar()\n",
    "ax.set_xlabel('Year')\n",
    "for p in ax.patches:\n",
    "    ax.annotate(str(p.get_height()), (p.get_x()+.15, p.get_height()+.2))"
   ]
  },
  {
   "cell_type": "markdown",
   "metadata": {},
   "source": [
    "So it seems like he was most active in writing during the mid to late 2000's, peaking in 2009 with just over 20 essays. "
   ]
  },
  {
   "cell_type": "code",
   "execution_count": 13,
   "metadata": {},
   "outputs": [
    {
     "data": {
      "image/png": "[encoded data removed]",
      "text/plain": [
       "<Figure size 432x288 with 1 Axes>"
      ]
     },
     "metadata": {},
     "output_type": "display_data"
    }
   ],
   "source": [
    "ax = by_decade.size().plot.bar()\n",
    "ax.set_xlabel('Decade')\n",
    "for p in ax.patches:\n",
    "    ax.annotate(str(p.get_height()), (p.get_x()+.2, p.get_height()+.3), fontsize=30)"
   ]
  },
  {
   "cell_type": "code",
   "execution_count": 14,
   "metadata": {},
   "outputs": [],
   "source": [
    "from nltk.tokenize import sent_tokenize, word_tokenize\n",
    "from nltk.text import Text\n",
    "from nltk.corpus import stopwords\n",
    "from nltk.corpus import wordnet"
   ]
  },
  {
   "cell_type": "markdown",
   "metadata": {},
   "source": [
    "### Tokenization\n",
    "\n",
    "Tokenization is the process of breaking up a corpus into smaller chunks or units. Those units can be words, sentences, and paragaphs. We'll tokenize each essay and get the counts for each type of token. \n",
    "\n",
    "Let's start with paragraphs as that will be the easiest:"
   ]
  },
  {
   "cell_type": "code",
   "execution_count": 15,
   "metadata": {},
   "outputs": [],
   "source": [
    "essays['paragraph_count'] = essays.text.apply(lambda t: len(t.split('\\n\\n')))"
   ]
  },
  {
   "cell_type": "code",
   "execution_count": 16,
   "metadata": {},
   "outputs": [
    {
     "data": {
      "image/png": "[encoded data removed]",
      "text/plain": [
       "<Figure size 432x288 with 1 Axes>"
      ]
     },
     "metadata": {},
     "output_type": "display_data"
    }
   ],
   "source": [
    "ax = essays.set_index('name').paragraph_count.sort_values().tail(10).plot(kind='barh')\n",
    "for p in ax.patches:\n",
    "    ax.annotate(str(p.get_width()), (p.get_x()+.2, p.get_y()), fontsize=30)"
   ]
  },
  {
   "cell_type": "code",
   "execution_count": 17,
   "metadata": {},
   "outputs": [
    {
     "data": {
      "text/plain": [
       "<matplotlib.legend.Legend at 0x114ce91d0>"
      ]
     },
     "execution_count": 17,
     "metadata": {},
     "output_type": "execute_result"
    },
    {
     "data": {
      "image/png": "[encoded data removed]",
      "text/plain": [
       "<Figure size 432x288 with 1 Axes>"
      ]
     },
     "metadata": {},
     "output_type": "display_data"
    }
   ],
   "source": [
    "by_year = essays.groupby(essays.date.dt.year)\n",
    "by_year.paragraph_count.mean().plot(label='Average number paragraphs per essay')\n",
    "by_year.text.count().plot(label='Number of essays')\n",
    "plt.legend()"
   ]
  },
  {
   "cell_type": "markdown",
   "metadata": {},
   "source": [
    "When we plot the average paragraph count by year we see that over time Paul Graham has written increasingly shorter essays. Perhaps this concision results from having learned how to more clearly get his point across with fewer words. \n",
    "Or perhaps in an effort to cover more subjects he has compromised the depth with which he goes into a given topic. We can see that throughout the 2000's the number of essays written increases while the average number paragraphs falls. \n",
    "\n",
    "While there is a decline in the number of essays written over the past decade we do see spike in average number of paragraphs in 2013 to levels comparable to those during the 2000's. "
   ]
  },
  {
   "cell_type": "markdown",
   "metadata": {},
   "source": [
    "Lets look now at sentences:\n"
   ]
  },
  {
   "cell_type": "code",
   "execution_count": 18,
   "metadata": {},
   "outputs": [],
   "source": [
    "essays['sentence_count'] = essays.text.apply(lambda t: len(sent_tokenize(t)))\n",
    "essays['sentences_per_paragraph'] = essays.sentence_count / essays.paragraph_count"
   ]
  },
  {
   "cell_type": "code",
   "execution_count": 19,
   "metadata": {},
   "outputs": [
    {
     "data": {
      "image/png": "[encoded data removed]",
      "text/plain": [
       "<Figure size 432x288 with 1 Axes>"
      ]
     },
     "metadata": {},
     "output_type": "display_data"
    }
   ],
   "source": [
    "ax = essays.set_index('name').sentence_count.sort_values().tail(10).plot(kind='barh')\n",
    "for p in ax.patches:\n",
    "    ax.annotate(str(p.get_width()), (p.get_x()+.2, p.get_y()), fontsize=30)"
   ]
  },
  {
   "cell_type": "code",
   "execution_count": 20,
   "metadata": {},
   "outputs": [
    {
     "data": {
      "text/plain": [
       "<matplotlib.legend.Legend at 0x114ed5320>"
      ]
     },
     "execution_count": 20,
     "metadata": {},
     "output_type": "execute_result"
    },
    {
     "data": {
      "image/png": "[encoded data removed]",
      "text/plain": [
       "<Figure size 432x288 with 1 Axes>"
      ]
     },
     "metadata": {},
     "output_type": "display_data"
    }
   ],
   "source": [
    "by_year = essays.groupby(essays.date.dt.year)\n",
    "by_year.sentences_per_paragraph.mean().plot()\n",
    "plt.legend()"
   ]
  },
  {
   "cell_type": "markdown",
   "metadata": {},
   "source": [
    "Paul seems to consistently write paragraphs with around 4 to 5 sentences long. "
   ]
  },
  {
   "cell_type": "markdown",
   "metadata": {},
   "source": [
    "Next we'll tokenize the words within an essay. We'll start by using the longest essay in the collection, \"The Other Road Ahead\":"
   ]
  },
  {
   "cell_type": "code",
   "execution_count": 24,
   "metadata": {},
   "outputs": [],
   "source": [
    "t = essays.set_index('name').loc['The Other Road Ahead'].text.lower()\n",
    "\n",
    "# remove symbols that won't be seperated out by our split\n",
    "symbols_to_remove = ['.',',',')','(','[',']', '\\n']\n",
    "for s in symbols_to_remove:\n",
    "    t = t.replace(s, ' ')\n",
    "\n",
    "sw = stopwords.words('english')\n",
    "words = [w for w in t.split(' ') if w != '']\n",
    "tokens = [w for w in words if w not in sw]"
   ]
  },
  {
   "cell_type": "markdown",
   "metadata": {},
   "source": [
    "When we remove stop words from our tokenization we get rid of nearly half the words present in the essay. "
   ]
  },
  {
   "cell_type": "code",
   "execution_count": 25,
   "metadata": {},
   "outputs": [
    {
     "data": {
      "text/plain": [
       "(10784, 5447)"
      ]
     },
     "execution_count": 25,
     "metadata": {},
     "output_type": "execute_result"
    }
   ],
   "source": [
    "len(words), len(tokens)"
   ]
  },
  {
   "cell_type": "markdown",
   "metadata": {},
   "source": [
    "Let's look at the freq with which words appear in this essay:"
   ]
  },
  {
   "cell_type": "code",
   "execution_count": 26,
   "metadata": {},
   "outputs": [],
   "source": [
    "t = Text(tokens)"
   ]
  },
  {
   "cell_type": "code",
   "execution_count": 27,
   "metadata": {},
   "outputs": [
    {
     "data": {
      "image/png": "[encoded data removed]",
      "text/plain": [
       "<Figure size 432x288 with 1 Axes>"
      ]
     },
     "metadata": {},
     "output_type": "display_data"
    }
   ],
   "source": [
    "t.plot(20)"
   ]
  },
  {
   "cell_type": "markdown",
   "metadata": {},
   "source": [
    "The number one word used by a long shot is \"software.\" This makes a lot of sense since the article is meant to explain how the web will change the next generation of software companies. "
   ]
  },
  {
   "cell_type": "code",
   "execution_count": 28,
   "metadata": {},
   "outputs": [],
   "source": [
    "grouped_essays = essays[['date','name','text']].groupby(essays.date.dt.year//10*10).sum()"
   ]
  },
  {
   "cell_type": "code",
   "execution_count": 29,
   "metadata": {},
   "outputs": [],
   "source": [
    "def tokenize(corpus, stem_words=False, remove_stop_words=False, tokenize_sent=False):\n",
    "    corpus = corpus.lower()\n",
    "    \n",
    "    symbols_to_remove = [')','(','[',']', '\\n']\n",
    "    \n",
    "    for s in symbols_to_remove:\n",
    "        corpus = corpus.replace(s, ' ')\n",
    "\n",
    "    sw = stopwords.words('english')\n",
    "    \n",
    "    if tokenize_sent:\n",
    "        tokens = [[w for w in sent.split(' ') if w !=''] for sent in sent_tokenize(corpus)]\n",
    "    else:\n",
    "        tokens = [[w for w in corpus.split(' ') if w != '']]\n",
    "\n",
    "    if remove_stop_words:\n",
    "        tokens = [[w for w in words if w not in sw] for words in tokens]\n",
    "    \n",
    "    if stem_words:\n",
    "        tokens = [[stemmer.stem(w) for w in words] for words in tokens]\n",
    "    \n",
    "    return tokens"
   ]
  },
  {
   "cell_type": "code",
   "execution_count": null,
   "metadata": {},
   "outputs": [],
   "source": []
  },
  {
   "cell_type": "code",
   "execution_count": 60,
   "metadata": {
    "scrolled": false
   },
   "outputs": [],
   "source": [
    "decade_text = {}\n",
    "\n",
    "for decade in grouped_essays.index:\n",
    "    decade = int(decade)\n",
    "    tokens = tokenize(grouped_essays.loc[decade].text)\n",
    "    decade_text[decade] = {}\n",
    "    #decade_text[decade]['all_words'] = Text(words)\n",
    "    decade_text[decade]['tokens'] = Text(tokens[0])\n",
    "    #decade_text[decade]['stemmed_tokens'] = Text(stemmed_tokens)\n",
    "    "
   ]
  },
  {
   "cell_type": "code",
   "execution_count": 61,
   "metadata": {},
   "outputs": [],
   "source": [
    "d = list(decade_text.values())[0]['tokens']"
   ]
  },
  {
   "cell_type": "code",
   "execution_count": 62,
   "metadata": {},
   "outputs": [
    {
     "name": "stdout",
     "output_type": "stream",
     "text": [
      "Displaying 25 of 25 matches:\n",
      "this route your ideas will seem a lot like ones that already exist. sometimes yo\n",
      "ozer. and yet the builder-type ceo is like hillary probably the best person for \n",
      "ue here. the real world does not work like the version i was shown on tv growing\n",
      "o make pittsburgh into a startup hub, like silicon valley? i feel like i underst\n",
      "rtup hub, like silicon valley? i feel like i understand pittsburgh pretty well, \n",
      "n the boring suburbs. so whether they like it or not, founders know they have to\n",
      ". when cities are on the way back up, like pittsburgh is now, developers race to\n",
      "es, but the neighborhoods they're in. like san francisco and new york, pittsburg\n",
      "cause those 25 to 29 year olds do not like driving. they prefer walking, or bicy\n",
      " you'll regret it. the city will seem like a paradise to the young people you wa\n",
      "rld, but imagine what things would be like if it were the very best, and everyon\n",
      "ies be setting up programs with words like \"innovation\" and \"entrepreneurship\" i\n",
      "t to aim for something more specific, like better batteries or better 3d printin\n",
      "ups is to be a great university. it's like telling people who want to lose weigh\n",
      "is another of its strengths. it seems like a city has to be very socially libera\n",
      "ybe one reason was that everyone felt like an immigrant. when i was a kid in mon\n",
      ". just imagine what it must have been like here a hundred years ago, when people\n",
      "unity because it's full of people who like money a lot and are quick to notice n\n",
      ". the second is that thanks to things like kickstarter, a startup can get to rev\n",
      " from anywhere. the third is programs like y combinator. a startup from anywhere\n",
      " or a little of a continuous quantity like time, 8 is not a lot of something. if\n",
      "bullshit avoidance over other factors like money and prestige, you can probably \n",
      "n attacked is to defend yourself. but like a lot of instincts, this one wasn't d\n",
      " technical progress is that things we like tend to become more addictive. which \n",
      "ts shape jabs into your consciousness like a pin. the things that matter aren't \n"
     ]
    }
   ],
   "source": [
    "d.concordance('like')"
   ]
  },
  {
   "cell_type": "code",
   "execution_count": 32,
   "metadata": {
    "scrolled": false
   },
   "outputs": [
    {
     "ename": "TypeError",
     "evalue": "unhashable type: 'list'",
     "output_type": "error",
     "traceback": [
      "\u001b[0;31m---------------------------------------------------------------------------\u001b[0m",
      "\u001b[0;31mTypeError\u001b[0m                                 Traceback (most recent call last)",
      "\u001b[0;32m<ipython-input-32-3cd66100c062>\u001b[0m in \u001b[0;36m<module>\u001b[0;34m()\u001b[0m\n\u001b[0;32m----> 1\u001b[0;31m \u001b[0mmost_used\u001b[0m \u001b[0;34m=\u001b[0m \u001b[0mpd\u001b[0m\u001b[0;34m.\u001b[0m\u001b[0mDataFrame\u001b[0m\u001b[0;34m(\u001b[0m\u001b[0mdecade_text\u001b[0m\u001b[0;34m[\u001b[0m\u001b[0;36m2000\u001b[0m\u001b[0;34m]\u001b[0m\u001b[0;34m[\u001b[0m\u001b[0;34m'tokens'\u001b[0m\u001b[0;34m]\u001b[0m\u001b[0;34m.\u001b[0m\u001b[0mvocab\u001b[0m\u001b[0;34m(\u001b[0m\u001b[0;34m)\u001b[0m\u001b[0;34m.\u001b[0m\u001b[0mmost_common\u001b[0m\u001b[0;34m(\u001b[0m\u001b[0;36m25\u001b[0m\u001b[0;34m)\u001b[0m\u001b[0;34m,\u001b[0m \u001b[0mcolumns\u001b[0m\u001b[0;34m=\u001b[0m\u001b[0;34m[\u001b[0m\u001b[0;34m'stem'\u001b[0m\u001b[0;34m,\u001b[0m\u001b[0;34m'tally'\u001b[0m\u001b[0;34m]\u001b[0m\u001b[0;34m)\u001b[0m\u001b[0;34m\u001b[0m\u001b[0m\n\u001b[0m\u001b[1;32m      2\u001b[0m \u001b[0mmost_used\u001b[0m\u001b[0;34m[\u001b[0m\u001b[0;34m'pct'\u001b[0m\u001b[0;34m]\u001b[0m \u001b[0;34m=\u001b[0m \u001b[0mmost_used\u001b[0m\u001b[0;34m.\u001b[0m\u001b[0mtally\u001b[0m \u001b[0;34m/\u001b[0m \u001b[0mlen\u001b[0m\u001b[0;34m(\u001b[0m\u001b[0mdecade_text\u001b[0m\u001b[0;34m[\u001b[0m\u001b[0;36m2000\u001b[0m\u001b[0;34m]\u001b[0m\u001b[0;34m[\u001b[0m\u001b[0;34m'stemmed_tokens'\u001b[0m\u001b[0;34m]\u001b[0m\u001b[0;34m.\u001b[0m\u001b[0mtokens\u001b[0m\u001b[0;34m)\u001b[0m\u001b[0;34m\u001b[0m\u001b[0m\n\u001b[1;32m      3\u001b[0m \u001b[0mmost_used\u001b[0m\u001b[0;34m\u001b[0m\u001b[0m\n",
      "\u001b[0;32m/usr/local/lib/python3.7/site-packages/nltk/text.py\u001b[0m in \u001b[0;36mvocab\u001b[0;34m(self)\u001b[0m\n\u001b[1;32m    510\u001b[0m         \u001b[0;32mif\u001b[0m \u001b[0;34m\"_vocab\"\u001b[0m \u001b[0;32mnot\u001b[0m \u001b[0;32min\u001b[0m \u001b[0mself\u001b[0m\u001b[0;34m.\u001b[0m\u001b[0m__dict__\u001b[0m\u001b[0;34m:\u001b[0m\u001b[0;34m\u001b[0m\u001b[0m\n\u001b[1;32m    511\u001b[0m             \u001b[0;31m#print(\"Building vocabulary index...\")\u001b[0m\u001b[0;34m\u001b[0m\u001b[0;34m\u001b[0m\u001b[0m\n\u001b[0;32m--> 512\u001b[0;31m             \u001b[0mself\u001b[0m\u001b[0;34m.\u001b[0m\u001b[0m_vocab\u001b[0m \u001b[0;34m=\u001b[0m \u001b[0mFreqDist\u001b[0m\u001b[0;34m(\u001b[0m\u001b[0mself\u001b[0m\u001b[0;34m)\u001b[0m\u001b[0;34m\u001b[0m\u001b[0m\n\u001b[0m\u001b[1;32m    513\u001b[0m         \u001b[0;32mreturn\u001b[0m \u001b[0mself\u001b[0m\u001b[0;34m.\u001b[0m\u001b[0m_vocab\u001b[0m\u001b[0;34m\u001b[0m\u001b[0m\n\u001b[1;32m    514\u001b[0m \u001b[0;34m\u001b[0m\u001b[0m\n",
      "\u001b[0;32m/usr/local/lib/python3.7/site-packages/nltk/probability.py\u001b[0m in \u001b[0;36m__init__\u001b[0;34m(self, samples)\u001b[0m\n\u001b[1;32m    106\u001b[0m         \u001b[0;34m:\u001b[0m\u001b[0mtype\u001b[0m \u001b[0msamples\u001b[0m\u001b[0;34m:\u001b[0m \u001b[0mSequence\u001b[0m\u001b[0;34m\u001b[0m\u001b[0m\n\u001b[1;32m    107\u001b[0m         \"\"\"\n\u001b[0;32m--> 108\u001b[0;31m         \u001b[0mCounter\u001b[0m\u001b[0;34m.\u001b[0m\u001b[0m__init__\u001b[0m\u001b[0;34m(\u001b[0m\u001b[0mself\u001b[0m\u001b[0;34m,\u001b[0m \u001b[0msamples\u001b[0m\u001b[0;34m)\u001b[0m\u001b[0;34m\u001b[0m\u001b[0m\n\u001b[0m\u001b[1;32m    109\u001b[0m \u001b[0;34m\u001b[0m\u001b[0m\n\u001b[1;32m    110\u001b[0m         \u001b[0;31m# Cached number of samples in this FreqDist\u001b[0m\u001b[0;34m\u001b[0m\u001b[0;34m\u001b[0m\u001b[0m\n",
      "\u001b[0;32m/usr/local/Cellar/python/3.7.0/Frameworks/Python.framework/Versions/3.7/lib/python3.7/collections/__init__.py\u001b[0m in \u001b[0;36m__init__\u001b[0;34m(*args, **kwds)\u001b[0m\n\u001b[1;32m    564\u001b[0m             \u001b[0;32mraise\u001b[0m \u001b[0mTypeError\u001b[0m\u001b[0;34m(\u001b[0m\u001b[0;34m'expected at most 1 arguments, got %d'\u001b[0m \u001b[0;34m%\u001b[0m \u001b[0mlen\u001b[0m\u001b[0;34m(\u001b[0m\u001b[0margs\u001b[0m\u001b[0;34m)\u001b[0m\u001b[0;34m)\u001b[0m\u001b[0;34m\u001b[0m\u001b[0m\n\u001b[1;32m    565\u001b[0m         \u001b[0msuper\u001b[0m\u001b[0;34m(\u001b[0m\u001b[0mCounter\u001b[0m\u001b[0;34m,\u001b[0m \u001b[0mself\u001b[0m\u001b[0;34m)\u001b[0m\u001b[0;34m.\u001b[0m\u001b[0m__init__\u001b[0m\u001b[0;34m(\u001b[0m\u001b[0;34m)\u001b[0m\u001b[0;34m\u001b[0m\u001b[0m\n\u001b[0;32m--> 566\u001b[0;31m         \u001b[0mself\u001b[0m\u001b[0;34m.\u001b[0m\u001b[0mupdate\u001b[0m\u001b[0;34m(\u001b[0m\u001b[0;34m*\u001b[0m\u001b[0margs\u001b[0m\u001b[0;34m,\u001b[0m \u001b[0;34m**\u001b[0m\u001b[0mkwds\u001b[0m\u001b[0;34m)\u001b[0m\u001b[0;34m\u001b[0m\u001b[0m\n\u001b[0m\u001b[1;32m    567\u001b[0m \u001b[0;34m\u001b[0m\u001b[0m\n\u001b[1;32m    568\u001b[0m     \u001b[0;32mdef\u001b[0m \u001b[0m__missing__\u001b[0m\u001b[0;34m(\u001b[0m\u001b[0mself\u001b[0m\u001b[0;34m,\u001b[0m \u001b[0mkey\u001b[0m\u001b[0;34m)\u001b[0m\u001b[0;34m:\u001b[0m\u001b[0;34m\u001b[0m\u001b[0m\n",
      "\u001b[0;32m/usr/local/lib/python3.7/site-packages/nltk/probability.py\u001b[0m in \u001b[0;36mupdate\u001b[0;34m(self, *args, **kwargs)\u001b[0m\n\u001b[1;32m    144\u001b[0m         \"\"\"\n\u001b[1;32m    145\u001b[0m         \u001b[0mself\u001b[0m\u001b[0;34m.\u001b[0m\u001b[0m_N\u001b[0m \u001b[0;34m=\u001b[0m \u001b[0;32mNone\u001b[0m\u001b[0;34m\u001b[0m\u001b[0m\n\u001b[0;32m--> 146\u001b[0;31m         \u001b[0msuper\u001b[0m\u001b[0;34m(\u001b[0m\u001b[0mFreqDist\u001b[0m\u001b[0;34m,\u001b[0m \u001b[0mself\u001b[0m\u001b[0;34m)\u001b[0m\u001b[0;34m.\u001b[0m\u001b[0mupdate\u001b[0m\u001b[0;34m(\u001b[0m\u001b[0;34m*\u001b[0m\u001b[0margs\u001b[0m\u001b[0;34m,\u001b[0m \u001b[0;34m**\u001b[0m\u001b[0mkwargs\u001b[0m\u001b[0;34m)\u001b[0m\u001b[0;34m\u001b[0m\u001b[0m\n\u001b[0m\u001b[1;32m    147\u001b[0m \u001b[0;34m\u001b[0m\u001b[0m\n\u001b[1;32m    148\u001b[0m     \u001b[0;32mdef\u001b[0m \u001b[0msetdefault\u001b[0m\u001b[0;34m(\u001b[0m\u001b[0mself\u001b[0m\u001b[0;34m,\u001b[0m \u001b[0mkey\u001b[0m\u001b[0;34m,\u001b[0m \u001b[0mval\u001b[0m\u001b[0;34m)\u001b[0m\u001b[0;34m:\u001b[0m\u001b[0;34m\u001b[0m\u001b[0m\n",
      "\u001b[0;32m/usr/local/Cellar/python/3.7.0/Frameworks/Python.framework/Versions/3.7/lib/python3.7/collections/__init__.py\u001b[0m in \u001b[0;36mupdate\u001b[0;34m(*args, **kwds)\u001b[0m\n\u001b[1;32m    651\u001b[0m                     \u001b[0msuper\u001b[0m\u001b[0;34m(\u001b[0m\u001b[0mCounter\u001b[0m\u001b[0;34m,\u001b[0m \u001b[0mself\u001b[0m\u001b[0;34m)\u001b[0m\u001b[0;34m.\u001b[0m\u001b[0mupdate\u001b[0m\u001b[0;34m(\u001b[0m\u001b[0miterable\u001b[0m\u001b[0;34m)\u001b[0m \u001b[0;31m# fast path when counter is empty\u001b[0m\u001b[0;34m\u001b[0m\u001b[0m\n\u001b[1;32m    652\u001b[0m             \u001b[0;32melse\u001b[0m\u001b[0;34m:\u001b[0m\u001b[0;34m\u001b[0m\u001b[0m\n\u001b[0;32m--> 653\u001b[0;31m                 \u001b[0m_count_elements\u001b[0m\u001b[0;34m(\u001b[0m\u001b[0mself\u001b[0m\u001b[0;34m,\u001b[0m \u001b[0miterable\u001b[0m\u001b[0;34m)\u001b[0m\u001b[0;34m\u001b[0m\u001b[0m\n\u001b[0m\u001b[1;32m    654\u001b[0m         \u001b[0;32mif\u001b[0m \u001b[0mkwds\u001b[0m\u001b[0;34m:\u001b[0m\u001b[0;34m\u001b[0m\u001b[0m\n\u001b[1;32m    655\u001b[0m             \u001b[0mself\u001b[0m\u001b[0;34m.\u001b[0m\u001b[0mupdate\u001b[0m\u001b[0;34m(\u001b[0m\u001b[0mkwds\u001b[0m\u001b[0;34m)\u001b[0m\u001b[0;34m\u001b[0m\u001b[0m\n",
      "\u001b[0;31mTypeError\u001b[0m: unhashable type: 'list'"
     ]
    }
   ],
   "source": [
    "most_used = pd.DataFrame(decade_text[2000]['tokens'].vocab().most_common(25), columns=['stem','tally'])\n",
    "most_used['pct'] = most_used.tally / len(decade_text[2000]['stemmed_tokens'].tokens)\n",
    "most_used"
   ]
  },
  {
   "cell_type": "code",
   "execution_count": null,
   "metadata": {},
   "outputs": [],
   "source": []
  },
  {
   "cell_type": "code",
   "execution_count": null,
   "metadata": {},
   "outputs": [],
   "source": [
    "for rank, word in most_used.head(10).iterrows():\n",
    "    print(word.stem)\n",
    "    print()\n",
    "    decade_text[2010]['all_words'].concordance(word.stem, width=50, lines=5)"
   ]
  },
  {
   "cell_type": "code",
   "execution_count": null,
   "metadata": {},
   "outputs": [],
   "source": [
    "most_used = pd.DataFrame(decade_text[2010]['stemmed_tokens'].vocab().most_common(25), columns=['name','tally'])\n",
    "most_used['pct'] = most_used.tally / len(decade_text[2000]['stemmed_tokens'].tokens)\n",
    "most_used"
   ]
  },
  {
   "cell_type": "markdown",
   "metadata": {},
   "source": [
    "We can see that during the 2000's Pauls focus is more on explaining how to create a successful startup, which entails *working* to *make* *something* that *people* *want* and *like* to *use*"
   ]
  },
  {
   "cell_type": "code",
   "execution_count": null,
   "metadata": {},
   "outputs": [],
   "source": [
    "nltk.version_info"
   ]
  },
  {
   "cell_type": "code",
   "execution_count": null,
   "metadata": {},
   "outputs": [],
   "source": [
    "c = decade_text[2000]['all_words'].concordance('one')"
   ]
  },
  {
   "cell_type": "code",
   "execution_count": null,
   "metadata": {},
   "outputs": [],
   "source": [
    "c[0]"
   ]
  },
  {
   "cell_type": "code",
   "execution_count": null,
   "metadata": {},
   "outputs": [],
   "source": [
    "d = decade_text[2000]\n",
    "d.concordance(one)"
   ]
  },
  {
   "cell_type": "markdown",
   "metadata": {},
   "source": [
    "### Part of speech tagging"
   ]
  },
  {
   "cell_type": "code",
   "execution_count": 34,
   "metadata": {},
   "outputs": [],
   "source": [
    "grouped_essays = essays[['date','name','text']].groupby(essays.date.dt.year//1000).sum()\n",
    "corpus = grouped_essays.text.values[0]"
   ]
  },
  {
   "cell_type": "code",
   "execution_count": 35,
   "metadata": {},
   "outputs": [],
   "source": [
    "tokens = tokenize(corpus, remove_stop_words=True)"
   ]
  },
  {
   "cell_type": "code",
   "execution_count": 36,
   "metadata": {},
   "outputs": [],
   "source": [
    "tags = nltk.pos_tag(tokens[0])"
   ]
  },
  {
   "cell_type": "code",
   "execution_count": 37,
   "metadata": {},
   "outputs": [
    {
     "data": {
      "text/plain": [
       "[('valuable', 'JJ'),\n",
       " ('insights', 'NNS'),\n",
       " ('general', 'JJ'),\n",
       " ('surprising.', 'NN'),\n",
       " ('f\\xa0=\\xa0ma', 'NN'),\n",
       " ('example.', 'VBZ'),\n",
       " ('general', 'JJ'),\n",
       " ('surprising', 'JJ'),\n",
       " ('hard', 'JJ'),\n",
       " ('combination', 'NN')]"
      ]
     },
     "execution_count": 37,
     "metadata": {},
     "output_type": "execute_result"
    }
   ],
   "source": [
    "tags[:10]"
   ]
  },
  {
   "cell_type": "code",
   "execution_count": 38,
   "metadata": {},
   "outputs": [
    {
     "data": {
      "text/html": [
       "<div>\n",
       "<style scoped>\n",
       "    .dataframe tbody tr th:only-of-type {\n",
       "        vertical-align: middle;\n",
       "    }\n",
       "\n",
       "    .dataframe tbody tr th {\n",
       "        vertical-align: top;\n",
       "    }\n",
       "\n",
       "    .dataframe thead th {\n",
       "        text-align: right;\n",
       "    }\n",
       "</style>\n",
       "<table border=\"1\" class=\"dataframe\">\n",
       "  <thead>\n",
       "    <tr style=\"text-align: right;\">\n",
       "      <th></th>\n",
       "      <th>word</th>\n",
       "      <th>pos</th>\n",
       "    </tr>\n",
       "  </thead>\n",
       "  <tbody>\n",
       "    <tr>\n",
       "      <th>0</th>\n",
       "      <td>valuable</td>\n",
       "      <td>JJ</td>\n",
       "    </tr>\n",
       "    <tr>\n",
       "      <th>1</th>\n",
       "      <td>insights</td>\n",
       "      <td>NNS</td>\n",
       "    </tr>\n",
       "    <tr>\n",
       "      <th>2</th>\n",
       "      <td>general</td>\n",
       "      <td>JJ</td>\n",
       "    </tr>\n",
       "    <tr>\n",
       "      <th>3</th>\n",
       "      <td>surprising.</td>\n",
       "      <td>NN</td>\n",
       "    </tr>\n",
       "    <tr>\n",
       "      <th>4</th>\n",
       "      <td>f = ma</td>\n",
       "      <td>NN</td>\n",
       "    </tr>\n",
       "  </tbody>\n",
       "</table>\n",
       "</div>"
      ],
      "text/plain": [
       "          word  pos\n",
       "0     valuable   JJ\n",
       "1     insights  NNS\n",
       "2      general   JJ\n",
       "3  surprising.   NN\n",
       "4       f = ma   NN"
      ]
     },
     "execution_count": 38,
     "metadata": {},
     "output_type": "execute_result"
    }
   ],
   "source": [
    "tag_df = pd.DataFrame(tags, columns=['word','pos'])\n",
    "tag_df.head()"
   ]
  },
  {
   "cell_type": "code",
   "execution_count": 39,
   "metadata": {
    "scrolled": true
   },
   "outputs": [
    {
     "data": {
      "text/html": [
       "<div>\n",
       "<style scoped>\n",
       "    .dataframe tbody tr th:only-of-type {\n",
       "        vertical-align: middle;\n",
       "    }\n",
       "\n",
       "    .dataframe tbody tr th {\n",
       "        vertical-align: top;\n",
       "    }\n",
       "\n",
       "    .dataframe thead th {\n",
       "        text-align: right;\n",
       "    }\n",
       "</style>\n",
       "<table border=\"1\" class=\"dataframe\">\n",
       "  <thead>\n",
       "    <tr style=\"text-align: right;\">\n",
       "      <th></th>\n",
       "      <th></th>\n",
       "      <th>word</th>\n",
       "    </tr>\n",
       "    <tr>\n",
       "      <th>pos</th>\n",
       "      <th>word</th>\n",
       "      <th></th>\n",
       "    </tr>\n",
       "  </thead>\n",
       "  <tbody>\n",
       "    <tr>\n",
       "      <th rowspan=\"30\" valign=\"top\">$</th>\n",
       "      <th>\"web</th>\n",
       "      <td>3</td>\n",
       "    </tr>\n",
       "    <tr>\n",
       "      <th>mid</th>\n",
       "      <td>2</td>\n",
       "    </tr>\n",
       "    <tr>\n",
       "      <th>x</th>\n",
       "      <td>2</td>\n",
       "    </tr>\n",
       "    <tr>\n",
       "      <th>\"issues.\"</th>\n",
       "      <td>1</td>\n",
       "    </tr>\n",
       "    <tr>\n",
       "      <th>$x/2.</th>\n",
       "      <td>1</td>\n",
       "    </tr>\n",
       "    <tr>\n",
       "      <th>*</th>\n",
       "      <td>1</td>\n",
       "    </tr>\n",
       "    <tr>\n",
       "      <th>.05/1.05,</th>\n",
       "      <td>1</td>\n",
       "    </tr>\n",
       "    <tr>\n",
       "      <th>``act''</th>\n",
       "      <td>1</td>\n",
       "    </tr>\n",
       "    <tr>\n",
       "      <th>bargain.</th>\n",
       "      <td>1</td>\n",
       "    </tr>\n",
       "    <tr>\n",
       "      <th>better.</th>\n",
       "      <td>1</td>\n",
       "    </tr>\n",
       "    <tr>\n",
       "      <th>drink</th>\n",
       "      <td>1</td>\n",
       "    </tr>\n",
       "    <tr>\n",
       "      <th>equity.</th>\n",
       "      <td>1</td>\n",
       "    </tr>\n",
       "    <tr>\n",
       "      <th>europe</th>\n",
       "      <td>1</td>\n",
       "    </tr>\n",
       "    <tr>\n",
       "      <th>experience.</th>\n",
       "      <td>1</td>\n",
       "    </tr>\n",
       "    <tr>\n",
       "      <th>google</th>\n",
       "      <td>1</td>\n",
       "    </tr>\n",
       "    <tr>\n",
       "      <th>grandmas</th>\n",
       "      <td>1</td>\n",
       "    </tr>\n",
       "    <tr>\n",
       "      <th>head.</th>\n",
       "      <td>1</td>\n",
       "    </tr>\n",
       "    <tr>\n",
       "      <th>italy</th>\n",
       "      <td>1</td>\n",
       "    </tr>\n",
       "    <tr>\n",
       "      <th>kant.</th>\n",
       "      <td>1</td>\n",
       "    </tr>\n",
       "    <tr>\n",
       "      <th>loading.</th>\n",
       "      <td>1</td>\n",
       "    </tr>\n",
       "    <tr>\n",
       "      <th>macros?</th>\n",
       "      <td>1</td>\n",
       "    </tr>\n",
       "    <tr>\n",
       "      <th>mba.</th>\n",
       "      <td>1</td>\n",
       "    </tr>\n",
       "    <tr>\n",
       "      <th>min</th>\n",
       "      <td>1</td>\n",
       "    </tr>\n",
       "    <tr>\n",
       "      <th>minicomputer.</th>\n",
       "      <td>1</td>\n",
       "    </tr>\n",
       "    <tr>\n",
       "      <th>more.</th>\n",
       "      <td>1</td>\n",
       "    </tr>\n",
       "    <tr>\n",
       "      <th>munich.</th>\n",
       "      <td>1</td>\n",
       "    </tr>\n",
       "    <tr>\n",
       "      <th>noise.</th>\n",
       "      <td>1</td>\n",
       "    </tr>\n",
       "    <tr>\n",
       "      <th>october</th>\n",
       "      <td>1</td>\n",
       "    </tr>\n",
       "    <tr>\n",
       "      <th>orange.</th>\n",
       "      <td>1</td>\n",
       "    </tr>\n",
       "    <tr>\n",
       "      <th>peace.</th>\n",
       "      <td>1</td>\n",
       "    </tr>\n",
       "    <tr>\n",
       "      <th>...</th>\n",
       "      <th>...</th>\n",
       "      <td>...</td>\n",
       "    </tr>\n",
       "    <tr>\n",
       "      <th rowspan=\"9\" valign=\"top\">WP</th>\n",
       "      <th>weight,</th>\n",
       "      <td>1</td>\n",
       "    </tr>\n",
       "    <tr>\n",
       "      <th>wherever</th>\n",
       "      <td>1</td>\n",
       "    </tr>\n",
       "    <tr>\n",
       "      <th>whichever</th>\n",
       "      <td>1</td>\n",
       "    </tr>\n",
       "    <tr>\n",
       "      <th>white.</th>\n",
       "      <td>1</td>\n",
       "    </tr>\n",
       "    <tr>\n",
       "      <th>who've</th>\n",
       "      <td>1</td>\n",
       "    </tr>\n",
       "    <tr>\n",
       "      <th>why?</th>\n",
       "      <td>1</td>\n",
       "    </tr>\n",
       "    <tr>\n",
       "      <th>words.</th>\n",
       "      <td>1</td>\n",
       "    </tr>\n",
       "    <tr>\n",
       "      <th>work.</th>\n",
       "      <td>1</td>\n",
       "    </tr>\n",
       "    <tr>\n",
       "      <th>yc</th>\n",
       "      <td>1</td>\n",
       "    </tr>\n",
       "    <tr>\n",
       "      <th>WP$</th>\n",
       "      <th>whose</th>\n",
       "      <td>81</td>\n",
       "    </tr>\n",
       "    <tr>\n",
       "      <th rowspan=\"20\" valign=\"top\">WRB</th>\n",
       "      <th>whenever</th>\n",
       "      <td>16</td>\n",
       "    </tr>\n",
       "    <tr>\n",
       "      <th>we're</th>\n",
       "      <td>2</td>\n",
       "    </tr>\n",
       "    <tr>\n",
       "      <th>wherever</th>\n",
       "      <td>2</td>\n",
       "    </tr>\n",
       "    <tr>\n",
       "      <th>work.</th>\n",
       "      <td>2</td>\n",
       "    </tr>\n",
       "    <tr>\n",
       "      <th>binary,</th>\n",
       "      <td>1</td>\n",
       "    </tr>\n",
       "    <tr>\n",
       "      <th>wait.</th>\n",
       "      <td>1</td>\n",
       "    </tr>\n",
       "    <tr>\n",
       "      <th>want.</th>\n",
       "      <td>1</td>\n",
       "    </tr>\n",
       "    <tr>\n",
       "      <th>washington.</th>\n",
       "      <td>1</td>\n",
       "    </tr>\n",
       "    <tr>\n",
       "      <th>way.</th>\n",
       "      <td>1</td>\n",
       "    </tr>\n",
       "    <tr>\n",
       "      <th>what's</th>\n",
       "      <td>1</td>\n",
       "    </tr>\n",
       "    <tr>\n",
       "      <th>what.</th>\n",
       "      <td>1</td>\n",
       "    </tr>\n",
       "    <tr>\n",
       "      <th>whatsoever</th>\n",
       "      <td>1</td>\n",
       "    </tr>\n",
       "    <tr>\n",
       "      <th>who'd</th>\n",
       "      <td>1</td>\n",
       "    </tr>\n",
       "    <tr>\n",
       "      <th>why?</th>\n",
       "      <td>1</td>\n",
       "    </tr>\n",
       "    <tr>\n",
       "      <th>winners.</th>\n",
       "      <td>1</td>\n",
       "    </tr>\n",
       "    <tr>\n",
       "      <th>wish</th>\n",
       "      <td>1</td>\n",
       "    </tr>\n",
       "    <tr>\n",
       "      <th>work,</th>\n",
       "      <td>1</td>\n",
       "    </tr>\n",
       "    <tr>\n",
       "      <th>world's</th>\n",
       "      <td>1</td>\n",
       "    </tr>\n",
       "    <tr>\n",
       "      <th>world.</th>\n",
       "      <td>1</td>\n",
       "    </tr>\n",
       "    <tr>\n",
       "      <th>write</th>\n",
       "      <td>1</td>\n",
       "    </tr>\n",
       "  </tbody>\n",
       "</table>\n",
       "<p>39814 rows × 1 columns</p>\n",
       "</div>"
      ],
      "text/plain": [
       "                   word\n",
       "pos word               \n",
       "$   \"web              3\n",
       "    mid               2\n",
       "    x                 2\n",
       "    \"issues.\"         1\n",
       "    $x/2.             1\n",
       "    *                 1\n",
       "    .05/1.05,         1\n",
       "    ``act''           1\n",
       "    bargain.          1\n",
       "    better.           1\n",
       "    drink             1\n",
       "    equity.           1\n",
       "    europe            1\n",
       "    experience.       1\n",
       "    google            1\n",
       "    grandmas          1\n",
       "    head.             1\n",
       "    italy             1\n",
       "    kant.             1\n",
       "    loading.          1\n",
       "    macros?           1\n",
       "    mba.              1\n",
       "    min               1\n",
       "    minicomputer.     1\n",
       "    more.             1\n",
       "    munich.           1\n",
       "    noise.            1\n",
       "    october           1\n",
       "    orange.           1\n",
       "    peace.            1\n",
       "...                 ...\n",
       "WP  weight,           1\n",
       "    wherever          1\n",
       "    whichever         1\n",
       "    white.            1\n",
       "    who've            1\n",
       "    why?              1\n",
       "    words.            1\n",
       "    work.             1\n",
       "    yc                1\n",
       "WP$ whose            81\n",
       "WRB whenever         16\n",
       "    we're             2\n",
       "    wherever          2\n",
       "    work.             2\n",
       "    binary,           1\n",
       "    wait.             1\n",
       "    want.             1\n",
       "    washington.       1\n",
       "    way.              1\n",
       "    what's            1\n",
       "    what.             1\n",
       "    whatsoever        1\n",
       "    who'd             1\n",
       "    why?              1\n",
       "    winners.          1\n",
       "    wish              1\n",
       "    work,             1\n",
       "    world's           1\n",
       "    world.            1\n",
       "    write             1\n",
       "\n",
       "[39814 rows x 1 columns]"
      ]
     },
     "execution_count": 39,
     "metadata": {},
     "output_type": "execute_result"
    }
   ],
   "source": [
    "gb = tag_df.groupby('pos')\n",
    "gb.word.value_counts().to_frame()"
   ]
  },
  {
   "cell_type": "code",
   "execution_count": 40,
   "metadata": {
    "scrolled": true
   },
   "outputs": [
    {
     "data": {
      "text/plain": [
       "detached            NaN\n",
       "intelligence,       NaN\n",
       "formality;          NaN\n",
       "condense,           NaN\n",
       "gimmicks.           NaN\n",
       "consolidated        NaN\n",
       "logos.              NaN\n",
       "play.               NaN\n",
       "dangerous,          NaN\n",
       "overhung            NaN\n",
       "handholding         NaN\n",
       "fossilized          NaN\n",
       "fearsome.           NaN\n",
       "juicy               NaN\n",
       "shocked             NaN\n",
       "failure,            NaN\n",
       "publishing—giving   NaN\n",
       "unexamined          NaN\n",
       "expertise           NaN\n",
       "advantages:         NaN\n",
       "vegas.              NaN\n",
       "fear.               NaN\n",
       "constraints.        NaN\n",
       "shelves.            NaN\n",
       "structuring         NaN\n",
       "spare               NaN\n",
       "x.\"                 NaN\n",
       "addressed           NaN\n",
       "counterargument.    NaN\n",
       "cambridge           NaN\n",
       "                     ..\n",
       "tell                NaN\n",
       "done                NaN\n",
       "work                NaN\n",
       "tend                NaN\n",
       "getting             NaN\n",
       "starting            NaN\n",
       "trying              NaN\n",
       "got                 NaN\n",
       "making              NaN\n",
       "start               NaN\n",
       "means               NaN\n",
       "used                NaN\n",
       "makes               NaN\n",
       "writing             NaN\n",
       "find                NaN\n",
       "see                 NaN\n",
       "made                NaN\n",
       "go                  NaN\n",
       "working             NaN\n",
       "need                NaN\n",
       "seems               NaN\n",
       "take                NaN\n",
       "say                 NaN\n",
       "going               NaN\n",
       "seem                NaN\n",
       "know                NaN\n",
       "want                NaN\n",
       "think               NaN\n",
       "make                NaN\n",
       "get                 NaN\n",
       "Name: word, Length: 7557, dtype: float64"
      ]
     },
     "execution_count": 40,
     "metadata": {},
     "output_type": "execute_result"
    }
   ],
   "source": [
    "verbs = tag_df[tag_df.pos.str.contains('VB')]\n",
    "verb_counts = verbs.word.value_counts(ascending=True)\n",
    "verb_counts.where((verb_counts<10)&(verb_counts>1))"
   ]
  },
  {
   "cell_type": "code",
   "execution_count": 41,
   "metadata": {},
   "outputs": [
    {
     "data": {
      "text/plain": [
       "concept           2\n",
       "worthless         2\n",
       "varied            2\n",
       "would,            2\n",
       "provoke           2\n",
       "pets.             2\n",
       "store             2\n",
       "fame              2\n",
       "stop.             2\n",
       "accomplish        2\n",
       "angels            2\n",
       "generally.        2\n",
       "month.            2\n",
       "printing          2\n",
       "controls          2\n",
       "overestimating    2\n",
       "notes             2\n",
       "overloaded        2\n",
       "outsider,         2\n",
       "valid             2\n",
       "wear              2\n",
       "short             2\n",
       "pandering         2\n",
       "brains            2\n",
       "erann             2\n",
       "reflecting        2\n",
       "much,             2\n",
       "terrible,         2\n",
       "succinct          2\n",
       "long,             2\n",
       "                 ..\n",
       "automate          2\n",
       "optimization.     2\n",
       "poor,             2\n",
       "fund?             2\n",
       "zooming           2\n",
       "favored           2\n",
       "hemmed            2\n",
       "statement,        2\n",
       "stressful,        2\n",
       "smaller,          2\n",
       "intelligence      2\n",
       "english           2\n",
       "heads.            2\n",
       "delight           2\n",
       "everyone.         2\n",
       "default.          2\n",
       "weighing          2\n",
       "erred             2\n",
       "grab              2\n",
       "lot.              2\n",
       "with.             2\n",
       "plugged           2\n",
       "band              2\n",
       "ordering          2\n",
       "badly.            2\n",
       "observe           2\n",
       "explore           2\n",
       "resume            2\n",
       "arranging         2\n",
       "stepping          2\n",
       "Name: word, Length: 1060, dtype: int64"
      ]
     },
     "execution_count": 41,
     "metadata": {},
     "output_type": "execute_result"
    }
   ],
   "source": [
    "verb_counts[(verb_counts<3)&(verb_counts>1)]"
   ]
  },
  {
   "cell_type": "code",
   "execution_count": 42,
   "metadata": {},
   "outputs": [
    {
     "data": {
      "text/html": [
       "<div>\n",
       "<style scoped>\n",
       "    .dataframe tbody tr th:only-of-type {\n",
       "        vertical-align: middle;\n",
       "    }\n",
       "\n",
       "    .dataframe tbody tr th {\n",
       "        vertical-align: top;\n",
       "    }\n",
       "\n",
       "    .dataframe thead th {\n",
       "        text-align: right;\n",
       "    }\n",
       "</style>\n",
       "<table border=\"1\" class=\"dataframe\">\n",
       "  <thead>\n",
       "    <tr style=\"text-align: right;\">\n",
       "      <th></th>\n",
       "      <th>word</th>\n",
       "      <th>pos</th>\n",
       "    </tr>\n",
       "  </thead>\n",
       "  <tbody>\n",
       "    <tr>\n",
       "      <th>0</th>\n",
       "      <td>valuable</td>\n",
       "      <td>JJ</td>\n",
       "    </tr>\n",
       "    <tr>\n",
       "      <th>1</th>\n",
       "      <td>insights</td>\n",
       "      <td>NNS</td>\n",
       "    </tr>\n",
       "    <tr>\n",
       "      <th>2</th>\n",
       "      <td>general</td>\n",
       "      <td>JJ</td>\n",
       "    </tr>\n",
       "    <tr>\n",
       "      <th>3</th>\n",
       "      <td>surprising.</td>\n",
       "      <td>NN</td>\n",
       "    </tr>\n",
       "    <tr>\n",
       "      <th>4</th>\n",
       "      <td>f = ma</td>\n",
       "      <td>NN</td>\n",
       "    </tr>\n",
       "    <tr>\n",
       "      <th>5</th>\n",
       "      <td>example.</td>\n",
       "      <td>VBZ</td>\n",
       "    </tr>\n",
       "    <tr>\n",
       "      <th>6</th>\n",
       "      <td>general</td>\n",
       "      <td>JJ</td>\n",
       "    </tr>\n",
       "    <tr>\n",
       "      <th>7</th>\n",
       "      <td>surprising</td>\n",
       "      <td>JJ</td>\n",
       "    </tr>\n",
       "    <tr>\n",
       "      <th>8</th>\n",
       "      <td>hard</td>\n",
       "      <td>JJ</td>\n",
       "    </tr>\n",
       "    <tr>\n",
       "      <th>9</th>\n",
       "      <td>combination</td>\n",
       "      <td>NN</td>\n",
       "    </tr>\n",
       "    <tr>\n",
       "      <th>10</th>\n",
       "      <td>achieve.</td>\n",
       "      <td>IN</td>\n",
       "    </tr>\n",
       "    <tr>\n",
       "      <th>11</th>\n",
       "      <td>territory</td>\n",
       "      <td>JJ</td>\n",
       "    </tr>\n",
       "    <tr>\n",
       "      <th>12</th>\n",
       "      <td>tends</td>\n",
       "      <td>NNS</td>\n",
       "    </tr>\n",
       "    <tr>\n",
       "      <th>13</th>\n",
       "      <td>picked</td>\n",
       "      <td>VBD</td>\n",
       "    </tr>\n",
       "    <tr>\n",
       "      <th>14</th>\n",
       "      <td>clean,</td>\n",
       "      <td>NN</td>\n",
       "    </tr>\n",
       "    <tr>\n",
       "      <th>15</th>\n",
       "      <td>precisely</td>\n",
       "      <td>RB</td>\n",
       "    </tr>\n",
       "    <tr>\n",
       "      <th>16</th>\n",
       "      <td>insights</td>\n",
       "      <td>JJ</td>\n",
       "    </tr>\n",
       "    <tr>\n",
       "      <th>17</th>\n",
       "      <td>valuable.</td>\n",
       "      <td>NN</td>\n",
       "    </tr>\n",
       "    <tr>\n",
       "      <th>18</th>\n",
       "      <td>ordinarily,</td>\n",
       "      <td>NN</td>\n",
       "    </tr>\n",
       "    <tr>\n",
       "      <th>19</th>\n",
       "      <td>best</td>\n",
       "      <td>JJS</td>\n",
       "    </tr>\n",
       "  </tbody>\n",
       "</table>\n",
       "</div>"
      ],
      "text/plain": [
       "           word  pos\n",
       "0      valuable   JJ\n",
       "1      insights  NNS\n",
       "2       general   JJ\n",
       "3   surprising.   NN\n",
       "4        f = ma   NN\n",
       "5      example.  VBZ\n",
       "6       general   JJ\n",
       "7    surprising   JJ\n",
       "8          hard   JJ\n",
       "9   combination   NN\n",
       "10     achieve.   IN\n",
       "11    territory   JJ\n",
       "12        tends  NNS\n",
       "13       picked  VBD\n",
       "14       clean,   NN\n",
       "15    precisely   RB\n",
       "16     insights   JJ\n",
       "17    valuable.   NN\n",
       "18  ordinarily,   NN\n",
       "19         best  JJS"
      ]
     },
     "execution_count": 42,
     "metadata": {},
     "output_type": "execute_result"
    }
   ],
   "source": [
    "tag_df.head(20)"
   ]
  },
  {
   "cell_type": "code",
   "execution_count": 43,
   "metadata": {},
   "outputs": [
    {
     "data": {
      "text/plain": [
       "NN      63761\n",
       "JJ      39482\n",
       "NNS     19115\n",
       "RB      13993\n",
       "VBP     13980\n",
       "VBG      7816\n",
       "VB       6793\n",
       "VBD      6232\n",
       "CD       5063\n",
       "IN       3970\n",
       "VBZ      3737\n",
       "VBN      3354\n",
       "MD       3156\n",
       "JJR       959\n",
       "JJS       919\n",
       "NNP       731\n",
       "RBR       662\n",
       "DT        520\n",
       "PRP       330\n",
       "CC        245\n",
       "WDT       204\n",
       "RP        178\n",
       "FW        178\n",
       ",         108\n",
       "WP$        81\n",
       "WP         73\n",
       "RBS        60\n",
       ".          51\n",
       "$          48\n",
       "WRB        38\n",
       ":          33\n",
       "UH         11\n",
       "(           7\n",
       ")           5\n",
       "EX          4\n",
       "SYM         3\n",
       "PDT         2\n",
       "POS         2\n",
       "NNPS        1\n",
       "''          1\n",
       "Name: pos, dtype: int64"
      ]
     },
     "execution_count": 43,
     "metadata": {},
     "output_type": "execute_result"
    }
   ],
   "source": [
    "tag_df.pos.value_counts()"
   ]
  },
  {
   "cell_type": "markdown",
   "metadata": {},
   "source": [
    "Useful links\n",
    "- https://pythonspot.com/category/nltk/\n",
    "- https://likegeeks.com/nlp-tutorial-using-python-nltk/\n",
    "- https://github.com/hb20007/hands-on-nltk-tutorial\n",
    "- https://www.slideshare.net/japerk/nltk-in-20-minutes"
   ]
  },
  {
   "cell_type": "code",
   "execution_count": null,
   "metadata": {},
   "outputs": [],
   "source": []
  },
  {
   "cell_type": "code",
   "execution_count": null,
   "metadata": {},
   "outputs": [],
   "source": []
  }
 ],
 "metadata": {
  "kernelspec": {
   "display_name": "Python 3",
   "language": "python",
   "name": "python3"
  },
  "language_info": {
   "codemirror_mode": {
    "name": "ipython",
    "version": 3
   },
   "file_extension": ".py",
   "mimetype": "text/x-python",
   "name": "python",
   "nbconvert_exporter": "python",
   "pygments_lexer": "ipython3",
   "version": "3.7.0"
  }
 },
 "nbformat": 4,
 "nbformat_minor": 2
}
