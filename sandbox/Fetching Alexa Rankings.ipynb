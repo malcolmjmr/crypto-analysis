{
 "cells": [
  {
   "cell_type": "code",
   "execution_count": 1,
   "metadata": {},
   "outputs": [],
   "source": [
    "import sys\n",
    "import requests\n",
    "from bs4 import BeautifulSoup as bs\n",
    "\n",
    "def get_rank(domain_to_query):\n",
    "    result = {'Global':''}\n",
    "    url = \"http://www.alexa.com/siteinfo/\" + domain_to_query\n",
    "    page = requests.get(url).text\n",
    "    soup = bs(page)\n",
    "    for span in soup.find_all('span'):\n",
    "        if span.has_attr(\"class\"):\n",
    "            if \"globleRank\" in span[\"class\"]:\n",
    "                for strong in span.find_all(\"strong\"):\n",
    "                    if strong.has_attr(\"class\"):\n",
    "                        if \"metrics-data\" in strong[\"class\"]:\n",
    "                            result['Global'] = strong.text\n",
    "            # Extracting CountryRank\n",
    "            if \"countryRank\" in span[\"class\"]:\n",
    "                image = span.find_all(\"img\")\n",
    "                for img in image:\n",
    "                    if img.has_attr(\"title\"):\n",
    "                        country = img[\"title\"]\n",
    "                for strong in span.find_all(\"strong\"):\n",
    "                    if strong.has_attr(\"class\"):\n",
    "                        if \"metrics-data\" in strong[\"class\"]:\n",
    "                            result[country] = strong.text\n",
    "    return result"
   ]
  },
  {
   "cell_type": "code",
   "execution_count": 3,
   "metadata": {},
   "outputs": [
    {
     "data": {
      "text/plain": [
       "{'Global': '\\n\\n4,204              ',\n",
       " 'United States Flag': '\\n2,961              '}"
      ]
     },
     "execution_count": 3,
     "metadata": {},
     "output_type": "execute_result"
    }
   ],
   "source": [
    "get_rank('steemit.com')"
   ]
  },
  {
   "cell_type": "code",
   "execution_count": null,
   "metadata": {},
   "outputs": [],
   "source": []
  }
 ],
 "metadata": {
  "kernelspec": {
   "display_name": "Python 3",
   "language": "python",
   "name": "python3"
  },
  "language_info": {
   "codemirror_mode": {
    "name": "ipython",
    "version": 3
   },
   "file_extension": ".py",
   "mimetype": "text/x-python",
   "name": "python",
   "nbconvert_exporter": "python",
   "pygments_lexer": "ipython3",
   "version": "3.7.0"
  }
 },
 "nbformat": 4,
 "nbformat_minor": 2
}
