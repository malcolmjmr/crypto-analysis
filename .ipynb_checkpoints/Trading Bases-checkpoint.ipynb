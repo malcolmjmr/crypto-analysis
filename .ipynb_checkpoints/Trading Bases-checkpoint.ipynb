{
 "cells": [
  {
   "cell_type": "markdown",
   "metadata": {},
   "source": [
    "# Trading Bases\n",
    "\n",
    "This notebook explores a strategy I employ for profiting from highly predictable patterns that present themselves when prices move below or above established support or resistance levels, respectively. Prices tend to revert back to previous areas of support and resistance, when these dislocations occur. In fact the conditional probability of \n",
    "these reversions is above 90%. In a nutshell the strategy is to buy when a demonstrated support level is breached for the first time and sell when a demonstrated resistance level is exceeded for the first time. This strategy is particularly noteworthy for its simplicity and market neutrality."
   ]
  },
  {
   "cell_type": "markdown",
   "metadata": {},
   "source": [
    "## Contents \n",
    "\n",
    "- [What is a base?](#What-is-a-base?)\n",
    "- [Features of a base](#Features-of-a-base)\n",
    "- [Periods of price dislocation](#Periods-of-price-dislocation) \n",
    "- [Strategy rules](#Strategy-rules) \n",
    "- [Performance](#Performance) \n",
    "- [Optimizations](#Optomizations)  "
   ]
  },
  {
   "cell_type": "markdown",
   "metadata": {},
   "source": [
    "### What is a bases?"
   ]
  },
  {
   "cell_type": "markdown",
   "metadata": {},
   "source": [
    "### Important characteristics"
   ]
  },
  {
   "cell_type": "markdown",
   "metadata": {},
   "source": [
    "### Periods of price dislocation"
   ]
  },
  {
   "cell_type": "markdown",
   "metadata": {},
   "source": [
    "### Strategy rules"
   ]
  },
  {
   "cell_type": "markdown",
   "metadata": {},
   "source": [
    "### Performance"
   ]
  },
  {
   "cell_type": "markdown",
   "metadata": {},
   "source": [
    "### Optimizations"
   ]
  }
 ],
 "metadata": {
  "kernelspec": {
   "display_name": "Python 3",
   "language": "python",
   "name": "python3"
  },
  "language_info": {
   "codemirror_mode": {
    "name": "ipython",
    "version": 3
   },
   "file_extension": ".py",
   "mimetype": "text/x-python",
   "name": "python",
   "nbconvert_exporter": "python",
   "pygments_lexer": "ipython3",
   "version": "3.7.0"
  }
 },
 "nbformat": 4,
 "nbformat_minor": 2
}
