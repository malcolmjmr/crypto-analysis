{
 "cells": [
  {
   "cell_type": "code",
   "execution_count": 11,
   "metadata": {},
   "outputs": [],
   "source": [
    "from datetime import datetime as dt\n",
    "from IPython.display import IFrame\n",
    "\n",
    "import os \n",
    "import requests\n",
    "import pandas as pd\n",
    "\n"
   ]
  },
  {
   "cell_type": "code",
   "execution_count": 26,
   "metadata": {},
   "outputs": [],
   "source": [
    "API_URL = 'https://hypothes.is/api/'\n",
    "API_REF_URL = 'https://h.readthedocs.io/en/latest/api-reference/'\n",
    "API_TOKEN = '6879-zbVCq3wU5_xddQb4BR85liZRfhL4Iqz6CmOYN56o2Eo'"
   ]
  },
  {
   "cell_type": "markdown",
   "metadata": {},
   "source": [
    "Todo\n",
    "- [x] [get api methods and urls](#API-Methods-and-URLs)\n",
    "- [x] [create new group (Token Whitepapers)](#Create-Group)\n",
    "- [ ] [search annotations by group](#Search-Group)\n",
    "- [ ] [search annotations by keyword](#Search-Keyword)\n",
    "- [ ] [search annotations by time](#Search-by-Time)\n",
    "- [ ] [create a visual of annotations over time](#Visualize-Annotations)"
   ]
  },
  {
   "cell_type": "markdown",
   "metadata": {},
   "source": [
    "### API Methods and URLs"
   ]
  },
  {
   "cell_type": "code",
   "execution_count": 48,
   "metadata": {},
   "outputs": [],
   "source": [
    "res = requests.get(API_URL)\n",
    "api = res.json()['links']"
   ]
  },
  {
   "cell_type": "code",
   "execution_count": 49,
   "metadata": {},
   "outputs": [
    {
     "data": {
      "text/plain": [
       "dict_keys(['profile', 'search', 'group', 'links', 'user', 'groups', 'annotation'])"
      ]
     },
     "execution_count": 49,
     "metadata": {},
     "output_type": "execute_result"
    }
   ],
   "source": [
    "api.keys()"
   ]
  },
  {
   "cell_type": "markdown",
   "metadata": {},
   "source": [
    "### Create Group"
   ]
  },
  {
   "cell_type": "code",
   "execution_count": 44,
   "metadata": {},
   "outputs": [
    {
     "data": {
      "text/html": [
       "\n",
       "        <iframe\n",
       "            width=\"600\"\n",
       "            height=\"500\"\n",
       "            src=\"https://h.readthedocs.io/en/latest/api-reference/#operation/createGroup\"\n",
       "            frameborder=\"0\"\n",
       "            allowfullscreen\n",
       "        ></iframe>\n",
       "        "
      ],
      "text/plain": [
       "<IPython.lib.display.IFrame at 0x117f2dda0>"
      ]
     },
     "execution_count": 44,
     "metadata": {},
     "output_type": "execute_result"
    }
   ],
   "source": [
    "IFrame(f'{API_REF_URL}#operation/createGroup', 600, 500)"
   ]
  },
  {
   "cell_type": "code",
   "execution_count": 50,
   "metadata": {},
   "outputs": [
    {
     "data": {
      "text/plain": [
       "{'url': 'https://hypothes.is/api/groups',\n",
       " 'method': 'POST',\n",
       " 'desc': 'Create a new group'}"
      ]
     },
     "execution_count": 50,
     "metadata": {},
     "output_type": "execute_result"
    }
   ],
   "source": [
    "api['group']['create']"
   ]
  },
  {
   "cell_type": "code",
   "execution_count": 68,
   "metadata": {},
   "outputs": [],
   "source": [
    "new_group_name = 'Token Whitepapers'\n",
    "new_group_desc = 'Annotation group for token whitepapers'"
   ]
  },
  {
   "cell_type": "code",
   "execution_count": 69,
   "metadata": {},
   "outputs": [
    {
     "data": {
      "text/plain": [
       "'{\"scopes\": {\"uri_patterns\": [], \"enforced\": false}, \"name\": \"Token Whitepapers\", \"links\": {\"html\": \"https://hypothes.is/groups/LALjzxP7/token-whitepapers\"}, \"id\": \"LALjzxP7\", \"groupid\": null, \"scoped\": false, \"organization\": null, \"type\": \"private\", \"public\": false}'"
      ]
     },
     "execution_count": 69,
     "metadata": {},
     "output_type": "execute_result"
    }
   ],
   "source": [
    "res = requests.request(\n",
    "    api['group']['create']['method'],\n",
    "    api['group']['create']['url'],\n",
    "    headers={\n",
    "        'Authorization': f'Bearer {API_TOKEN}',\n",
    "        'Accept': 'application/json'\n",
    "    },\n",
    "    json={\n",
    "        'name': new_group_name,\n",
    "        'description': new_group_desc\n",
    "    }\n",
    ")\n",
    "\n",
    "res.text"
   ]
  },
  {
   "cell_type": "markdown",
   "metadata": {},
   "source": [
    "### Search Group"
   ]
  },
  {
   "cell_type": "code",
   "execution_count": 54,
   "metadata": {
    "scrolled": false
   },
   "outputs": [
    {
     "data": {
      "text/html": [
       "\n",
       "        <iframe\n",
       "            width=\"600\"\n",
       "            height=\"500\"\n",
       "            src=\"https://h.readthedocs.io/en/latest/api-reference/#tag/groups\"\n",
       "            frameborder=\"0\"\n",
       "            allowfullscreen\n",
       "        ></iframe>\n",
       "        "
      ],
      "text/plain": [
       "<IPython.lib.display.IFrame at 0x117f411d0>"
      ]
     },
     "execution_count": 54,
     "metadata": {},
     "output_type": "execute_result"
    }
   ],
   "source": [
    "IFrame(f'{API_REF_URL}#tag/groups', 600, 500)"
   ]
  },
  {
   "cell_type": "code",
   "execution_count": 61,
   "metadata": {},
   "outputs": [
    {
     "data": {
      "text/plain": [
       "{'read': {'url': 'https://hypothes.is/api/groups',\n",
       "  'method': 'GET',\n",
       "  'desc': \"Fetch the user's groups\"}}"
      ]
     },
     "execution_count": 61,
     "metadata": {},
     "output_type": "execute_result"
    }
   ],
   "source": [
    "api['groups']"
   ]
  },
  {
   "cell_type": "code",
   "execution_count": 64,
   "metadata": {},
   "outputs": [],
   "source": [
    "res = requests.request(\n",
    "    api['groups']['read']['method'],\n",
    "    api['groups']['read']['url'],\n",
    "    headers={\n",
    "        'Authorization': f'Bearer {API_TOKEN}',\n",
    "        'Accept': 'application/json'\n",
    "    }\n",
    ")\n",
    "\n",
    "groups = res.json()"
   ]
  },
  {
   "cell_type": "code",
   "execution_count": 65,
   "metadata": {},
   "outputs": [
    {
     "data": {
      "text/plain": [
       "10"
      ]
     },
     "execution_count": 65,
     "metadata": {},
     "output_type": "execute_result"
    }
   ],
   "source": [
    "len(groups)"
   ]
  },
  {
   "cell_type": "code",
   "execution_count": 67,
   "metadata": {},
   "outputs": [
    {
     "data": {
      "text/plain": [
       "dict_keys(['name', 'links', 'id', 'groupid', 'scoped', 'organization', 'type', 'public'])"
      ]
     },
     "execution_count": 67,
     "metadata": {},
     "output_type": "execute_result"
    }
   ],
   "source": [
    "groups[0].keys()"
   ]
  },
  {
   "cell_type": "code",
   "execution_count": 75,
   "metadata": {},
   "outputs": [
    {
     "data": {
      "text/plain": [
       "{'name': 'Token Whitepapers',\n",
       " 'links': {'html': 'https://hypothes.is/groups/jWjEN7oQ/token-whitepapers'},\n",
       " 'id': 'jWjEN7oQ',\n",
       " 'groupid': None,\n",
       " 'scoped': False,\n",
       " 'organization': None,\n",
       " 'type': 'private',\n",
       " 'public': False}"
      ]
     },
     "execution_count": 75,
     "metadata": {},
     "output_type": "execute_result"
    }
   ],
   "source": [
    "new_group = list(filter(lambda g: g['name']==new_group_name, groups))[0]\n",
    "new_group"
   ]
  },
  {
   "cell_type": "code",
   "execution_count": 57,
   "metadata": {},
   "outputs": [
    {
     "data": {
      "text/plain": [
       "{'url': 'https://hypothes.is/api/groups/:id',\n",
       " 'method': 'GET',\n",
       " 'desc': 'Fetch a group'}"
      ]
     },
     "execution_count": 57,
     "metadata": {},
     "output_type": "execute_result"
    }
   ],
   "source": [
    "api['group']['read']"
   ]
  },
  {
   "cell_type": "code",
   "execution_count": 76,
   "metadata": {},
   "outputs": [],
   "source": [
    "res = requests.request(\n",
    "    api['group']['read']['method'],\n",
    "    api['group']['read']['url'].replace(':id',new_group['id']),\n",
    "    headers={\n",
    "        'Authorization': f'Bearer {API_TOKEN}',\n",
    "        'Accept': 'application/json'\n",
    "    }\n",
    ")\n",
    "\n",
    "new_group['data'] = res.json()"
   ]
  },
  {
   "cell_type": "code",
   "execution_count": 77,
   "metadata": {},
   "outputs": [
    {
     "data": {
      "text/plain": [
       "{'name': 'Token Whitepapers',\n",
       " 'links': {'html': 'https://hypothes.is/groups/jWjEN7oQ/token-whitepapers'},\n",
       " 'id': 'jWjEN7oQ',\n",
       " 'groupid': None,\n",
       " 'scoped': False,\n",
       " 'organization': None,\n",
       " 'type': 'private',\n",
       " 'public': False}"
      ]
     },
     "execution_count": 77,
     "metadata": {},
     "output_type": "execute_result"
    }
   ],
   "source": [
    "new_group['data']"
   ]
  },
  {
   "cell_type": "code",
   "execution_count": null,
   "metadata": {},
   "outputs": [],
   "source": []
  },
  {
   "cell_type": "code",
   "execution_count": null,
   "metadata": {},
   "outputs": [],
   "source": []
  },
  {
   "cell_type": "code",
   "execution_count": null,
   "metadata": {},
   "outputs": [],
   "source": []
  },
  {
   "cell_type": "code",
   "execution_count": null,
   "metadata": {},
   "outputs": [],
   "source": []
  }
 ],
 "metadata": {
  "kernelspec": {
   "display_name": "Python 3",
   "language": "python",
   "name": "python3"
  },
  "language_info": {
   "codemirror_mode": {
    "name": "ipython",
    "version": 3
   },
   "file_extension": ".py",
   "mimetype": "text/x-python",
   "name": "python",
   "nbconvert_exporter": "python",
   "pygments_lexer": "ipython3",
   "version": "3.7.0"
  }
 },
 "nbformat": 4,
 "nbformat_minor": 1
}
